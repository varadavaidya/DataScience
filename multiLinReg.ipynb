{
 "cells": [
  {
   "cell_type": "code",
   "execution_count": 84,
   "id": "4fdd8ab1-eaa1-47b5-a882-eac032698365",
   "metadata": {},
   "outputs": [
    {
     "name": "stdout",
     "output_type": "stream",
     "text": [
      "Loop: 0.3039264678955078\n",
      "Vectorized: 0.009629487991333008\n"
     ]
    }
   ],
   "source": [
    "import numpy as np\n",
    "import time\n",
    "\n",
    "a = np.arange(1e6)\n",
    "b = np.arange(1e6)\n",
    "\n",
    "# Loop version\n",
    "start = time.time()\n",
    "c = [a[i] + b[i] for i in range(len(a))]\n",
    "print(\"Loop:\", time.time() - start)\n",
    "\n",
    "# Vectorized\n",
    "start = time.time()\n",
    "c = a + b\n",
    "print(\"Vectorized:\", time.time() - start)\n"
   ]
  },
  {
   "cell_type": "code",
   "execution_count": 85,
   "id": "ec53b8a6-ac2d-4e16-bea6-9865557ecd18",
   "metadata": {},
   "outputs": [],
   "source": [
    "arr=np.array([1,2,3,4,5,6,7,8,9,10])"
   ]
  },
  {
   "cell_type": "code",
   "execution_count": 86,
   "id": "c016e691-51a6-4e41-8467-377ef3b5004f",
   "metadata": {},
   "outputs": [
    {
     "data": {
      "text/plain": [
       "array([[ 1,  6],\n",
       "       [ 2,  7],\n",
       "       [ 3,  8],\n",
       "       [ 4,  9],\n",
       "       [ 5, 10]])"
      ]
     },
     "execution_count": 86,
     "metadata": {},
     "output_type": "execute_result"
    }
   ],
   "source": [
    "arr.reshape((2,5)).T"
   ]
  },
  {
   "cell_type": "code",
   "execution_count": 87,
   "id": "b7a15603-b37e-431c-8069-96a2111ee959",
   "metadata": {},
   "outputs": [],
   "source": [
    "import pandas as pd"
   ]
  },
  {
   "cell_type": "code",
   "execution_count": 88,
   "id": "0a33f808-7bbf-40de-b75f-ee1c7b5fa681",
   "metadata": {},
   "outputs": [],
   "source": [
    "x = np.array([[2104,5,1,45],[1416,3,2,40],[852,2,1,35],[6400,3,5,120],[3500,2,4,70],[5200,3,4,98]])"
   ]
  },
  {
   "cell_type": "code",
   "execution_count": 89,
   "id": "3f4756e3-0e34-41c2-af26-c478c701cd6a",
   "metadata": {},
   "outputs": [],
   "source": [
    "y=np.array([460,232,178,1000,600,800])"
   ]
  },
  {
   "cell_type": "code",
   "execution_count": 90,
   "id": "1978315c-aca8-483f-82bf-13b90f70f8ee",
   "metadata": {},
   "outputs": [
    {
     "data": {
      "text/plain": [
       "array([[2104,    5,    1,   45],\n",
       "       [1416,    3,    2,   40],\n",
       "       [ 852,    2,    1,   35],\n",
       "       [6400,    3,    5,  120],\n",
       "       [3500,    2,    4,   70],\n",
       "       [5200,    3,    4,   98]])"
      ]
     },
     "execution_count": 90,
     "metadata": {},
     "output_type": "execute_result"
    }
   ],
   "source": [
    "x"
   ]
  },
  {
   "cell_type": "code",
   "execution_count": 91,
   "id": "38b091c0-df45-4c32-a5c4-a924b090d41c",
   "metadata": {},
   "outputs": [
    {
     "data": {
      "text/plain": [
       "array([ 460,  232,  178, 1000,  600,  800])"
      ]
     },
     "execution_count": 91,
     "metadata": {},
     "output_type": "execute_result"
    }
   ],
   "source": [
    "y"
   ]
  },
  {
   "cell_type": "code",
   "execution_count": 105,
   "id": "9a94fdd5-53f2-40fb-8a28-f6f50bc4b2e4",
   "metadata": {},
   "outputs": [],
   "source": [
    "#evaluation\n",
    "\n",
    "def pred(w,b,x):\n",
    "    res=np.dot(w,x)+b\n",
    "    return res"
   ]
  },
  {
   "cell_type": "code",
   "execution_count": 106,
   "id": "e90024bb-8519-4eef-8c6b-009e020d9e5d",
   "metadata": {},
   "outputs": [],
   "source": [
    "\n",
    "def dJ_dwk(w,b,x,y,k):\n",
    "    res=0\n",
    "    for i in range(len(x)):\n",
    "        res+= (pred(w,b,x[i])-y[i])*x[i][k]\n",
    "    return res/len(x)"
   ]
  },
  {
   "cell_type": "code",
   "execution_count": 107,
   "id": "0d0d5c9d-b987-43d9-9173-bc875f4d0250",
   "metadata": {},
   "outputs": [],
   "source": [
    "def dJ_db(w,b,x,y):\n",
    "    res=0\n",
    "    for i in range(len(x)):\n",
    "        res+=(pred(w,b,x[i])-y[i])\n",
    "    return res/len(x)"
   ]
  },
  {
   "cell_type": "code",
   "execution_count": 108,
   "id": "ddd06b72-8d4c-4352-bdc8-26fac408f4df",
   "metadata": {},
   "outputs": [],
   "source": [
    "def cost(w,b,x,y):\n",
    "    m=len(x)\n",
    "    cost=0\n",
    "    for i in range(m):\n",
    "        cost+= (pred(w,b,x[i])-y[i])**2\n",
    "    return (1/(2*m))*(cost)"
   ]
  },
  {
   "cell_type": "code",
   "execution_count": 109,
   "id": "4a380367-7295-48e6-b75f-96dc0ad7d2de",
   "metadata": {},
   "outputs": [],
   "source": [
    "alpha=0.1\n",
    "def gradient_descent(w,b,x,y,alpha,init_cost):\n",
    "    if init_cost is None:\n",
    "        init_cost=cost(w,b,x,y)\n",
    "    for i in range(len(w)):\n",
    "        w[i]=w[i]-(alpha)*(dJ_dwk(w,b,x,y,i))\n",
    "    b=b-(alpha)*(dJ_db(w,b,x,y))\n",
    "    new_cost=cost(w,b,x,y)\n",
    "    if new_cost<init_cost:\n",
    "        init_cost=new_cost\n",
    "        return gradient_descent(w,b,x,y,alpha,init_cost)\n",
    "    else:\n",
    "        return w,b"
   ]
  },
  {
   "cell_type": "code",
   "execution_count": 110,
   "id": "58f858fb-ad93-4ee3-9beb-34984cd8a8b8",
   "metadata": {},
   "outputs": [],
   "source": [
    "w=np.zeros(4)\n",
    "b=0\n",
    "result=gradient_descent(w,b,x,y,alpha,init_cost)"
   ]
  },
  {
   "cell_type": "code",
   "execution_count": 111,
   "id": "ce2f55df-d693-4677-87c8-17f599f2e0b8",
   "metadata": {},
   "outputs": [
    {
     "data": {
      "text/plain": [
       "(array([ 2.35133467e+05, -2.28361457e+08, -1.01775107e+08,  3.53748989e+08]),\n",
       " -2384457000.0755916)"
      ]
     },
     "execution_count": 111,
     "metadata": {},
     "output_type": "execute_result"
    }
   ],
   "source": [
    "result"
   ]
  },
  {
   "cell_type": "code",
   "execution_count": 112,
   "id": "7515859f-2682-4edb-8018-273421c1ab3e",
   "metadata": {},
   "outputs": [],
   "source": [
    "x_test=np.array([2104,5,1,45])\n",
    "w=result[0]\n",
    "y_test=np.dot(w,x_test)+result[1]"
   ]
  },
  {
   "cell_type": "code",
   "execution_count": 113,
   "id": "e009c4d4-26ef-4416-9a4f-1f6e8053860e",
   "metadata": {},
   "outputs": [
    {
     "data": {
      "text/plain": [
       "12785385921.127106"
      ]
     },
     "execution_count": 113,
     "metadata": {},
     "output_type": "execute_result"
    }
   ],
   "source": [
    "y_test"
   ]
  },
  {
   "cell_type": "code",
   "execution_count": null,
   "id": "e728e3de-5b15-4ad2-af3e-d0b2432dba17",
   "metadata": {},
   "outputs": [],
   "source": []
  }
 ],
 "metadata": {
  "kernelspec": {
   "display_name": "Python 3 (ipykernel)",
   "language": "python",
   "name": "python3"
  },
  "language_info": {
   "codemirror_mode": {
    "name": "ipython",
    "version": 3
   },
   "file_extension": ".py",
   "mimetype": "text/x-python",
   "name": "python",
   "nbconvert_exporter": "python",
   "pygments_lexer": "ipython3",
   "version": "3.12.4"
  }
 },
 "nbformat": 4,
 "nbformat_minor": 5
}
