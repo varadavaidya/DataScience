{
 "cells": [
  {
   "cell_type": "code",
   "execution_count": 1,
   "id": "b5eb492f-898d-4110-ba0c-4bd479dbeed9",
   "metadata": {},
   "outputs": [],
   "source": [
    "import numpy as np\n",
    "import tensorflow as tf\n",
    "from tensorflow import keras"
   ]
  },
  {
   "cell_type": "code",
   "execution_count": 2,
   "id": "a0abeae0-9ed8-4817-93ea-dc4ccd5b2b1d",
   "metadata": {},
   "outputs": [],
   "source": [
    "X=np.load(r'C:\\Users\\varad\\OneDrive\\Desktop\\datasets\\AndreNg\\unsupervised learning\\collaborativefiltering\\X.npy')"
   ]
  },
  {
   "cell_type": "code",
   "execution_count": 54,
   "id": "5c135bd7-8547-4bbd-bc74-ebc21d0260f5",
   "metadata": {},
   "outputs": [
    {
     "data": {
      "text/plain": [
       "(<tf.Tensor: shape=(4778,), dtype=float64, numpy=\n",
       " array([ 0.85633146, -0.06540668,  0.50724804, ..., -1.3004357 ,\n",
       "         1.47717244,  0.62241401])>,\n",
       " TensorShape([4778, 100]))"
      ]
     },
     "execution_count": 54,
     "metadata": {},
     "output_type": "execute_result"
    }
   ],
   "source": [
    "X[:,5],X.shape"
   ]
  },
  {
   "cell_type": "code",
   "execution_count": 3,
   "id": "21fcd54f-bfee-404f-a26a-c9daac43e49a",
   "metadata": {},
   "outputs": [],
   "source": [
    "Y=np.load(r'C:\\Users\\varad\\OneDrive\\Desktop\\datasets\\AndreNg\\unsupervised learning\\collaborativefiltering\\Y.npy')"
   ]
  },
  {
   "cell_type": "code",
   "execution_count": 55,
   "id": "ccaf6fcb-66df-471a-b0e2-1702116b54e2",
   "metadata": {},
   "outputs": [
    {
     "data": {
      "text/plain": [
       "(array([0., 0., 0., ..., 0., 0., 0.]), (4778, 443))"
      ]
     },
     "execution_count": 55,
     "metadata": {},
     "output_type": "execute_result"
    }
   ],
   "source": [
    "Y[:,5],Y.shape"
   ]
  },
  {
   "cell_type": "code",
   "execution_count": 67,
   "id": "10d442e3-c7ca-4949-938a-b84c493183cb",
   "metadata": {},
   "outputs": [],
   "source": [
    "\n",
    "\n",
    "Ymean = tf.reduce_sum(Y, axis=0) / tf.reduce_sum(R, axis=0) \n",
    "Ymean = tf.where(tf.math.is_nan(Ymean), tf.zeros_like(Ymean), Ymean)  \n",
    "\n",
    "Ynorm = (Y - Ymean) * R \n"
   ]
  },
  {
   "cell_type": "code",
   "execution_count": 68,
   "id": "b0deb62f-9327-4f88-b0cc-2aae9ac78c5c",
   "metadata": {},
   "outputs": [
    {
     "data": {
      "text/plain": [
       "TensorShape([4778, 443])"
      ]
     },
     "execution_count": 68,
     "metadata": {},
     "output_type": "execute_result"
    }
   ],
   "source": [
    "Ynorm.shape"
   ]
  },
  {
   "cell_type": "code",
   "execution_count": 4,
   "id": "11b5da60-f205-4a03-a4a6-a0186f5e049c",
   "metadata": {},
   "outputs": [],
   "source": [
    "R=np.load(r'C:\\Users\\varad\\OneDrive\\Desktop\\datasets\\AndreNg\\unsupervised learning\\collaborativefiltering\\R.npy')"
   ]
  },
  {
   "cell_type": "code",
   "execution_count": 51,
   "id": "5221641a-8584-4aa0-8e47-996b628cbb00",
   "metadata": {},
   "outputs": [
    {
     "data": {
      "text/plain": [
       "(array([0., 0., 0., ..., 0., 0., 0.]), (4778, 443))"
      ]
     },
     "execution_count": 51,
     "metadata": {},
     "output_type": "execute_result"
    }
   ],
   "source": [
    "R[:,5],R.shape"
   ]
  },
  {
   "cell_type": "code",
   "execution_count": 5,
   "id": "e530bc73-bd4a-4356-902d-2c98c631b12c",
   "metadata": {},
   "outputs": [],
   "source": [
    "b=np.load(r'C:\\Users\\varad\\OneDrive\\Desktop\\datasets\\AndreNg\\unsupervised learning\\collaborativefiltering\\b.npy')"
   ]
  },
  {
   "cell_type": "code",
   "execution_count": 18,
   "id": "abacc6bd-6e58-4798-80a1-475de81b54c7",
   "metadata": {},
   "outputs": [
    {
     "data": {
      "text/plain": [
       "array([0.23609531, 0.35653394, 0.12819964, 0.3155024 , 0.23636407])"
      ]
     },
     "execution_count": 18,
     "metadata": {},
     "output_type": "execute_result"
    }
   ],
   "source": [
    "b[0][:5]"
   ]
  },
  {
   "cell_type": "code",
   "execution_count": 50,
   "id": "e7850d1e-bbbb-4909-8f36-956f919ddb98",
   "metadata": {},
   "outputs": [
    {
     "data": {
      "text/plain": [
       "TensorShape([1, 443])"
      ]
     },
     "execution_count": 50,
     "metadata": {},
     "output_type": "execute_result"
    }
   ],
   "source": [
    "b.shape"
   ]
  },
  {
   "cell_type": "code",
   "execution_count": 6,
   "id": "0e4e1bd5-e8df-4eed-95cf-7f7645453a85",
   "metadata": {},
   "outputs": [],
   "source": [
    "W=np.load(r'C:\\Users\\varad\\OneDrive\\Desktop\\datasets\\AndreNg\\unsupervised learning\\collaborativefiltering\\W.npy')"
   ]
  },
  {
   "cell_type": "code",
   "execution_count": 53,
   "id": "478d5f6a-7d1c-4a69-b4f8-8d2f88bc2557",
   "metadata": {},
   "outputs": [
    {
     "data": {
      "text/plain": [
       "TensorShape([443, 100])"
      ]
     },
     "execution_count": 53,
     "metadata": {},
     "output_type": "execute_result"
    }
   ],
   "source": [
    "W.shape"
   ]
  },
  {
   "cell_type": "code",
   "execution_count": 21,
   "id": "ae275898-291e-45b7-8da5-a7872bc9b812",
   "metadata": {},
   "outputs": [],
   "source": [
    "num_features =10\n",
    "num_movies =4778\n",
    "num_users 443"
   ]
  },
  {
   "cell_type": "code",
   "execution_count": 22,
   "id": "f0229bce-16c9-4809-b2c7-0d323895d75e",
   "metadata": {},
   "outputs": [],
   "source": [
    "def cofi_cost_func(X, W, b, Y, R, lambda_):\n",
    "    nm, nu = Y.shape\n",
    "    J = 0\n",
    "    R1=0\n",
    "    R2=0\n",
    "    nf=X.shape[1]\n",
    "    for i in range(nm):\n",
    "        for j in range(nu):\n",
    "            if R[i][j]==1:\n",
    "                J+=0.5*((np.dot(W[j],X[i])+b[0][j])-Y[i][j])**2\n",
    "                \n",
    "            else:\n",
    "                pass\n",
    "    for i in range(nm):\n",
    "        for k in range(nf):\n",
    "            R1+=(X[i][k])**2\n",
    "    for i in range(nu):\n",
    "        for k in range(nf):\n",
    "            R2+=(W[i][k])**2\n",
    "    \n",
    "    regularization= lambda_*0.5*(R1+R2)\n",
    "\n",
    "    return J+regularization"
   ]
  },
  {
   "cell_type": "code",
   "execution_count": 23,
   "id": "aec054f9-5655-4fad-a7c2-454f1ef74422",
   "metadata": {},
   "outputs": [
    {
     "name": "stdout",
     "output_type": "stream",
     "text": [
      "Cost: 13.67\n"
     ]
    }
   ],
   "source": [
    "num_users_r = 4\n",
    "num_movies_r = 5 \n",
    "num_features_r = 3\n",
    "\n",
    "X_r = X[:num_movies_r, :num_features_r]\n",
    "W_r = W[:num_users_r,  :num_features_r]\n",
    "b_r = b[0, :num_users_r].reshape(1,-1)\n",
    "Y_r = Y[:num_movies_r, :num_users_r]\n",
    "R_r = R[:num_movies_r, :num_users_r]\n",
    "\n",
    "# Evaluate cost function\n",
    "J = cofi_cost_func(X_r, W_r, b_r, Y_r, R_r, 0);\n",
    "print(f\"Cost: {J:0.2f}\")"
   ]
  },
  {
   "cell_type": "code",
   "execution_count": 24,
   "id": "3dc43ee7-cf13-414b-85be-cf757c0d836c",
   "metadata": {},
   "outputs": [
    {
     "name": "stdout",
     "output_type": "stream",
     "text": [
      "Cost (with regularization): 28.09\n"
     ]
    }
   ],
   "source": [
    "J = cofi_cost_func(X_r, W_r, b_r, Y_r, R_r, 1.5);\n",
    "print(f\"Cost (with regularization): {J:0.2f}\")"
   ]
  },
  {
   "cell_type": "markdown",
   "id": "5fb29bbd-4c09-49db-82d0-e45c9ddb5e8b",
   "metadata": {},
   "source": [
    "# Vectorization"
   ]
  },
  {
   "cell_type": "code",
   "execution_count": 45,
   "id": "f7a8b0c4-88c0-48a7-8cee-688c626d4804",
   "metadata": {},
   "outputs": [],
   "source": [
    "def cofi_cost_func_v(X, W, b, Y, R, lambda_):\n",
    "    pred = pred = tf.matmul(X, tf.transpose(W)) + tf.reshape(b, (1, -1))\n",
    "\n",
    "    j = (pred - Y) * R\n",
    "    J = 0.5 * tf.reduce_sum(j**2) + (lambda_/2) * (tf.reduce_sum(X**2) + tf.reduce_sum(W**2))\n",
    "    return J"
   ]
  },
  {
   "cell_type": "code",
   "execution_count": 46,
   "id": "0ca0247f-21d1-438e-a053-4522ec1309d6",
   "metadata": {},
   "outputs": [
    {
     "name": "stdout",
     "output_type": "stream",
     "text": [
      "Cost: 13.67\n",
      "Cost (with regularization): 28.09\n"
     ]
    }
   ],
   "source": [
    "J = cofi_cost_func_v(X_r, W_r, b_r, Y_r, R_r, 0);\n",
    "print(f\"Cost: {J:0.2f}\")\n",
    "\n",
    "J = cofi_cost_func_v(X_r, W_r, b_r, Y_r, R_r, 1.5);\n",
    "print(f\"Cost (with regularization): {J:0.2f}\")"
   ]
  },
  {
   "cell_type": "code",
   "execution_count": 47,
   "id": "01ad6586-2cb4-4941-a47b-7319e698e7f3",
   "metadata": {},
   "outputs": [],
   "source": [
    "num_movies, num_users = Y.shape\n",
    "num_features = 100\n",
    "\n",
    "tf.random.set_seed(1234) \n",
    "W = tf.Variable(tf.random.normal((num_users,  num_features),dtype=tf.float64),  name='W')\n",
    "X = tf.Variable(tf.random.normal((num_movies, num_features),dtype=tf.float64),  name='X')\n",
    "b = tf.Variable(tf.random.normal((1,          num_users),   dtype=tf.float64),  name='b')\n",
    "\n",
    "\n",
    "optimizer = keras.optimizers.Adam(learning_rate=1e-1)"
   ]
  },
  {
   "cell_type": "code",
   "execution_count": 48,
   "id": "3dd0b900-78de-4f13-941b-29598b80e8c9",
   "metadata": {},
   "outputs": [
    {
     "name": "stdout",
     "output_type": "stream",
     "text": [
      "X @ W.T: (4778, 443)\n",
      "b: (1, 443)\n",
      "Y: (4778, 443)\n"
     ]
    }
   ],
   "source": [
    "print(\"X @ W.T:\", tf.linalg.matmul(X, tf.transpose(W)).shape)\n",
    "print(\"b:\", b.shape)\n",
    "print(\"Y:\", Y.shape)\n"
   ]
  },
  {
   "cell_type": "code",
   "execution_count": 69,
   "id": "7802dc0f-5d30-4bea-a73d-be87a172d766",
   "metadata": {},
   "outputs": [
    {
     "name": "stdout",
     "output_type": "stream",
     "text": [
      "Training loss at iteration 0: 2289476.3\n",
      "Training loss at iteration 20: 133286.3\n",
      "Training loss at iteration 40: 50533.8\n",
      "Training loss at iteration 60: 24009.2\n",
      "Training loss at iteration 80: 13394.1\n",
      "Training loss at iteration 100: 8449.8\n",
      "Training loss at iteration 120: 5885.6\n",
      "Training loss at iteration 140: 4458.9\n",
      "Training loss at iteration 160: 3624.9\n",
      "Training loss at iteration 180: 3118.0\n"
     ]
    }
   ],
   "source": [
    "iterations = 200\n",
    "lambda_ = 1\n",
    "for iter in range(iterations):\n",
    "    with tf.GradientTape() as tape:\n",
    "\n",
    "        cost_value = cofi_cost_func_v(X, W, b, Ynorm, R, lambda_)\n",
    "\n",
    "    grads = tape.gradient( cost_value, [X,W,b] )\n",
    "\n",
    "    optimizer.apply_gradients( zip(grads, [X,W,b]) )\n",
    "\n",
    "    if iter % 20 == 0:\n",
    "        print(f\"Training loss at iteration {iter}: {cost_value:0.1f}\")"
   ]
  },
  {
   "cell_type": "code",
   "execution_count": 71,
   "id": "a20cc60d-1fbe-46a1-bef9-bdfdaf6e1c96",
   "metadata": {},
   "outputs": [],
   "source": [
    "my_rated=[246, 366, 382, 622, 793, 929, 988, 1150, 2609, 2700, 2716, 2925, 2937]"
   ]
  },
  {
   "cell_type": "code",
   "execution_count": 73,
   "id": "36abbf0d-d8eb-492c-a567-723355b4fb38",
   "metadata": {},
   "outputs": [],
   "source": [
    "movieList=np.load(r'C:\\Users\\varad\\OneDrive\\Desktop\\datasets\\AndreNg\\unsupervised learning\\collaborativefiltering\\movieList.npy')"
   ]
  },
  {
   "cell_type": "code",
   "execution_count": 75,
   "id": "ec8b5b5f-755f-41f2-bed9-69d1eab3c914",
   "metadata": {},
   "outputs": [],
   "source": [
    "my_ratings=np.load(r'C:\\Users\\varad\\OneDrive\\Desktop\\datasets\\AndreNg\\unsupervised learning\\collaborativefiltering\\my_ratings.npy')"
   ]
  },
  {
   "cell_type": "code",
   "execution_count": 76,
   "id": "4363971e-594b-47ba-b04d-ad3fa82830f2",
   "metadata": {},
   "outputs": [
    {
     "name": "stdout",
     "output_type": "stream",
     "text": [
      "Predicting rating 5.30 for movie Hot Fuzz (2007)\n",
      "Predicting rating 5.29 for movie Juno (2007)\n",
      "Predicting rating 5.27 for movie Blow (2001)\n",
      "Predicting rating 5.23 for movie Interstellar (2014)\n",
      "Predicting rating 5.15 for movie Departed, The (2006)\n",
      "Predicting rating 5.14 for movie X2: X-Men United (2003)\n",
      "Predicting rating 5.13 for movie Coco (2017)\n",
      "Predicting rating 5.11 for movie Star Trek (2009)\n",
      "Predicting rating 5.08 for movie Howl's Moving Castle (Hauru no ugoku shiro) (2004)\n",
      "Predicting rating 5.05 for movie Zombieland (2009)\n",
      "Predicting rating 5.04 for movie My Big Fat Greek Wedding (2002)\n",
      "Predicting rating 5.03 for movie Harry Potter and the Goblet of Fire (2005)\n",
      "Predicting rating 5.03 for movie Superbad (2007)\n",
      "Predicting rating 5.01 for movie Pursuit of Happyness, The (2006)\n",
      "Predicting rating 5.01 for movie Prestige, The (2006)\n",
      "\n",
      "\n",
      "Original vs Predicted ratings:\n",
      "\n",
      "Original 5.0, Predicted 4.92 for Shrek (2001)\n",
      "Original 5.0, Predicted 4.69 for Harry Potter and the Sorcerer's Stone (a.k.a. Harry Potter and the Philosopher's Stone) (2001)\n",
      "Original 2.0, Predicted 4.76 for Amelie (Fabuleux destin d'Amélie Poulain, Le) (2001)\n",
      "Original 5.0, Predicted 4.98 for Harry Potter and the Chamber of Secrets (2002)\n",
      "Original 5.0, Predicted 4.64 for Pirates of the Caribbean: The Curse of the Black Pearl (2003)\n",
      "Original 5.0, Predicted 5.15 for Lord of the Rings: The Return of the King, The (2003)\n",
      "Original 3.0, Predicted 5.06 for Eternal Sunshine of the Spotless Mind (2004)\n",
      "Original 5.0, Predicted 4.56 for Incredibles, The (2004)\n",
      "Original 2.0, Predicted 4.65 for Persuasion (2007)\n",
      "Original 5.0, Predicted 4.69 for Toy Story 3 (2010)\n",
      "Original 3.0, Predicted 4.56 for Inception (2010)\n",
      "Original 1.0, Predicted 4.70 for Louis Theroux: Law & Disorder (2008)\n",
      "Original 1.0, Predicted 4.67 for Nothing to Declare (Rien à déclarer) (2010)\n"
     ]
    }
   ],
   "source": [
    "p = np.matmul(X.numpy(), np.transpose(W.numpy())) + b.numpy()\n",
    "\n",
    "#restoring mean\n",
    "pm = p + Ymean\n",
    "\n",
    "my_predictions = pm[:,0]\n",
    "\n",
    "# sort predictions\n",
    "ix = tf.argsort(my_predictions, direction='DESCENDING')\n",
    "\n",
    "for i in range(17):\n",
    "    j = ix[i]\n",
    "    if j not in my_rated:\n",
    "        print(f'Predicting rating {my_predictions[j]:0.2f} for movie {movieList[j]}')\n",
    "\n",
    "print('\\n\\nOriginal vs Predicted ratings:\\n')\n",
    "for i in range(len(my_ratings)):\n",
    "    if my_ratings[i] > 0:\n",
    "        print(f'Original {my_ratings[i]}, Predicted {my_predictions[i]:0.2f} for {movieList[i]}')"
   ]
  },
  {
   "cell_type": "code",
   "execution_count": null,
   "id": "bda1516f-a1c0-49ec-a0f1-c52f0387b470",
   "metadata": {},
   "outputs": [],
   "source": []
  }
 ],
 "metadata": {
  "kernelspec": {
   "display_name": "Python 3 (ipykernel)",
   "language": "python",
   "name": "python3"
  },
  "language_info": {
   "codemirror_mode": {
    "name": "ipython",
    "version": 3
   },
   "file_extension": ".py",
   "mimetype": "text/x-python",
   "name": "python",
   "nbconvert_exporter": "python",
   "pygments_lexer": "ipython3",
   "version": "3.10.9"
  }
 },
 "nbformat": 4,
 "nbformat_minor": 5
}
