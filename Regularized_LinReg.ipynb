{
 "cells": [
  {
   "cell_type": "code",
   "execution_count": 1,
   "id": "10b5d50e-4d40-4940-8593-4234f46a7b7b",
   "metadata": {},
   "outputs": [],
   "source": [
    "import numpy as np"
   ]
  },
  {
   "cell_type": "code",
   "execution_count": 2,
   "id": "fb25c9df-2d96-4382-be31-92cbf2b9a3f3",
   "metadata": {},
   "outputs": [],
   "source": [
    "def f(w,b,x):\n",
    "    return np.dot(w,x)+b\n",
    "        "
   ]
  },
  {
   "cell_type": "code",
   "execution_count": 3,
   "id": "ecd8f3f7-8744-40c6-a928-862efa090676",
   "metadata": {},
   "outputs": [],
   "source": [
    "def dJ_dwk(w,b,x,y,k,lambda_):\n",
    "    m=len(x)\n",
    "    n=len(w)\n",
    "    res=0\n",
    "    for i in range(m):\n",
    "        res+= (f(w,b,x[i])-y[i])*x[i][k] \n",
    "    reg=w[k]*lambda_\n",
    "    return (res+reg)/(m)"
   ]
  },
  {
   "cell_type": "code",
   "execution_count": 4,
   "id": "10c32c5b-bd49-4bb6-bd4d-ba7f57261d1d",
   "metadata": {},
   "outputs": [],
   "source": [
    "def dJ_db(w,b,x,y):\n",
    "    m=len(x)\n",
    "    res=0\n",
    "    for i in range(m):\n",
    "        res+=(f(w,b,x[i])-y[i])\n",
    "    return res/m"
   ]
  },
  {
   "cell_type": "code",
   "execution_count": 5,
   "id": "893266c3-1719-40e1-ab42-ed9a2066c15e",
   "metadata": {},
   "outputs": [],
   "source": [
    "def reg_cost(w,b,x,y,lambda_):\n",
    "    m=len(x)\n",
    "    n=len(w)\n",
    "    res=0\n",
    "    for i in range(m):\n",
    "        res+= (f(w,b,x[i])-y[i])**2 \n",
    "    reg=0\n",
    "    for j in range(n):\n",
    "        reg+= lambda_*((w[j])**2)\n",
    "    return (res+reg)/(2*m)"
   ]
  },
  {
   "cell_type": "code",
   "execution_count": 6,
   "id": "1a6fa71e-61c8-4ec8-b4fe-15ab2738b5eb",
   "metadata": {},
   "outputs": [],
   "source": [
    "np.random.seed(1)\n",
    "x=np.random.rand(5,6)\n",
    "y= np.array([0,1,0,1,0])\n",
    "w=np.random.rand(x.shape[1])\n",
    "b=0.5\n",
    "lambda_=0.7 "
   ]
  },
  {
   "cell_type": "code",
   "execution_count": 7,
   "id": "8c520835-1591-4867-945a-5f9d740acd18",
   "metadata": {},
   "outputs": [],
   "source": [
    "np.random.seed(1)\n",
    "x=np.random.rand(5,3)\n",
    "y= np.array([0,1,0,1,0])\n",
    "w=np.random.rand(x.shape[1])\n",
    "b=0.5\n",
    "lambda_=0.7\n"
   ]
  },
  {
   "cell_type": "code",
   "execution_count": 8,
   "id": "411a9fca-04e3-4cac-b0ef-43724681a697",
   "metadata": {},
   "outputs": [
    {
     "data": {
      "text/plain": [
       "0.6648774569425726"
      ]
     },
     "execution_count": 8,
     "metadata": {},
     "output_type": "execute_result"
    }
   ],
   "source": [
    "dJ_db(w,b,x,y)"
   ]
  },
  {
   "cell_type": "code",
   "execution_count": 9,
   "id": "1599cc36-de25-48ee-9cba-3e8007636e50",
   "metadata": {},
   "outputs": [
    {
     "data": {
      "text/plain": [
       "0.2965321474882228"
      ]
     },
     "execution_count": 9,
     "metadata": {},
     "output_type": "execute_result"
    }
   ],
   "source": [
    "dJ_dwk(w,b,x,y,0,lambda_)"
   ]
  },
  {
   "cell_type": "code",
   "execution_count": 10,
   "id": "6a5276fd-e843-4caf-90ef-23e4b9d4ed5f",
   "metadata": {},
   "outputs": [],
   "source": [
    "\n",
    "def reg_gradient_descent(w,b,x,y,lambda_,l_r,init_cost,max_steps=10000,step=0):\n",
    "    m=len(x)\n",
    "    n=len(w)\n",
    "    if init_cost is None:\n",
    "        init_cost=reg_cost(w,b,x,y,lambda_)\n",
    "    new_w=w.copy()\n",
    "    for i in range(n):\n",
    "        new_w[i]=new_w[i]*(1-((l_r*lambda_)/m))-(l_r)*(dJ_dwk(new_w,b,x,y,i,lambda_))\n",
    "    new_b=b-l_r*(dJ_db(new_w,b,x,y))\n",
    "    new_cost=reg_cost(new_w,new_b,x,y,lambda_)\n",
    "    if new_cost<init_cost and step<max_steps:\n",
    "        step+=1\n",
    "        return reg_gradient_descent(new_w,new_b,x,y,lambda_,l_r,new_cost)\n",
    "    else:\n",
    "        return new_w,new_b"
   ]
  },
  {
   "cell_type": "code",
   "execution_count": 11,
   "id": "9d10b7af-2a0e-46ef-9066-970ba7f2f4f1",
   "metadata": {},
   "outputs": [],
   "source": [
    "l_r=0.000001"
   ]
  },
  {
   "cell_type": "code",
   "execution_count": 12,
   "id": "98be6b79-d983-4320-8e45-8c3c362d2590",
   "metadata": {},
   "outputs": [],
   "source": [
    "import sys \n",
    "sys.setrecursionlimit(10000000)"
   ]
  },
  {
   "cell_type": "code",
   "execution_count": null,
   "id": "3f381ea3-940b-46e3-9ee4-c4dbaf44c75f",
   "metadata": {},
   "outputs": [],
   "source": [
    "reg_gradient_descent(w,b,x,y,lambda_,l_r,None)"
   ]
  },
  {
   "cell_type": "code",
   "execution_count": null,
   "id": "8a25aeca-7f7d-4bda-84a0-15c7af877ab6",
   "metadata": {},
   "outputs": [],
   "source": [
    "2+3"
   ]
  },
  {
   "cell_type": "code",
   "execution_count": null,
   "id": "34bcbab5-93cb-4ac3-9949-f9c45806206f",
   "metadata": {},
   "outputs": [],
   "source": []
  }
 ],
 "metadata": {
  "kernelspec": {
   "display_name": "Python 3 (ipykernel)",
   "language": "python",
   "name": "python3"
  },
  "language_info": {
   "codemirror_mode": {
    "name": "ipython",
    "version": 3
   },
   "file_extension": ".py",
   "mimetype": "text/x-python",
   "name": "python",
   "nbconvert_exporter": "python",
   "pygments_lexer": "ipython3",
   "version": "3.12.4"
  }
 },
 "nbformat": 4,
 "nbformat_minor": 5
}
