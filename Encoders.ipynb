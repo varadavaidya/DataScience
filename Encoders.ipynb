{
 "cells": [
  {
   "cell_type": "code",
   "execution_count": 17,
   "id": "2d660f2a-1e67-43c9-a235-927066f57a5d",
   "metadata": {},
   "outputs": [],
   "source": [
    "def knapsack(sum,wei,vals,n):\n",
    "    if n==0:\n",
    "        return 0\n",
    "    elif sum==0:\n",
    "        return 0\n",
    "    else:\n",
    "        if wei[n-1]<=sum:\n",
    "            option1= vals[n]+ knapsack(sum-wei[n-1],wei,vals,n-1)\n",
    "            option2= knapsack(sum,wei,vals,n-1)\n",
    "            res= max(option1,option2)\n",
    "        else:\n",
    "            res= knapsack(sum,wei,vals,n-1)\n",
    "        return res"
   ]
  },
  {
   "cell_type": "code",
   "execution_count": 18,
   "id": "aa4260e0-62ae-4ed8-8d40-04e4f06b83f2",
   "metadata": {},
   "outputs": [],
   "source": [
    "wei=[4,6,3,5,2]\n",
    "vals=[10,20,12,18,8]"
   ]
  },
  {
   "cell_type": "code",
   "execution_count": 19,
   "id": "cded36a3-aa2c-492f-8782-a690aff2d622",
   "metadata": {},
   "outputs": [
    {
     "data": {
      "text/plain": [
       "50"
      ]
     },
     "execution_count": 19,
     "metadata": {},
     "output_type": "execute_result"
    }
   ],
   "source": [
    "knapsack(15,wei,vals,4)"
   ]
  },
  {
   "cell_type": "markdown",
   "id": "2d41ac07-3e54-4fc8-bdeb-4a24e91dab14",
   "metadata": {},
   "source": [
    "# Onehot encoder"
   ]
  },
  {
   "cell_type": "code",
   "execution_count": 20,
   "id": "14e8a542-8af7-43f9-bb45-28ed623e3f6a",
   "metadata": {},
   "outputs": [],
   "source": [
    "arr=['b','c','d']"
   ]
  },
  {
   "cell_type": "code",
   "execution_count": 21,
   "id": "e1535118-560a-4918-9d32-525ed1d62b44",
   "metadata": {},
   "outputs": [],
   "source": [
    "en=enumerate(sorted(set(arr)))"
   ]
  },
  {
   "cell_type": "code",
   "execution_count": 22,
   "id": "58274fd7-5ee3-49dd-a66b-ebbce5cca07a",
   "metadata": {},
   "outputs": [
    {
     "name": "stdout",
     "output_type": "stream",
     "text": [
      "(0, 'b')\n",
      "0\n",
      "(1, 'c')\n",
      "1\n",
      "(2, 'd')\n",
      "2\n"
     ]
    }
   ],
   "source": [
    "for x in en:\n",
    "    print(x)\n",
    "    print(x[0])"
   ]
  },
  {
   "cell_type": "code",
   "execution_count": 23,
   "id": "93e46f66-ff0b-4941-9c77-380742528cd2",
   "metadata": {},
   "outputs": [],
   "source": [
    "import numpy as np"
   ]
  },
  {
   "cell_type": "code",
   "execution_count": 24,
   "id": "ff36ba86-4610-4f94-b38c-f6bb19395bd5",
   "metadata": {},
   "outputs": [],
   "source": [
    "encoder=[]"
   ]
  },
  {
   "cell_type": "code",
   "execution_count": 25,
   "id": "d277d94b-69ce-463a-9676-4fed2d9eb2c0",
   "metadata": {},
   "outputs": [],
   "source": [
    "for i,j in en:\n",
    "    one=[0]*(len(arr))\n",
    "    one[i]=1\n",
    "    encoder.append(one)"
   ]
  },
  {
   "cell_type": "code",
   "execution_count": 26,
   "id": "c9e2bbff-6e8e-4c8f-8663-8b0464cb3c46",
   "metadata": {},
   "outputs": [
    {
     "data": {
      "text/plain": [
       "[]"
      ]
     },
     "execution_count": 26,
     "metadata": {},
     "output_type": "execute_result"
    }
   ],
   "source": [
    "encoder"
   ]
  },
  {
   "cell_type": "code",
   "execution_count": 33,
   "id": "aef96237-1048-4a79-b314-367f92f10d6d",
   "metadata": {},
   "outputs": [],
   "source": [
    "import numpy as np\n",
    "\n",
    "arr = ['b', 'c', 'd','c','d','a','g','t']\n",
    "classes = sorted(set(arr))  # ['b', 'c', 'd']\n",
    "encoder = []\n",
    "\n",
    "for i, val in enumerate(classes):\n",
    "    one = np.zeros(len(classes))\n",
    "    one[i] = 1\n",
    "    encoder.append(one)"
   ]
  },
  {
   "cell_type": "code",
   "execution_count": 34,
   "id": "9851fbbe-7bc3-4af8-8bcd-d6a4b7f4e166",
   "metadata": {},
   "outputs": [
    {
     "data": {
      "text/plain": [
       "[array([1., 0., 0., 0., 0., 0.]),\n",
       " array([0., 1., 0., 0., 0., 0.]),\n",
       " array([0., 0., 1., 0., 0., 0.]),\n",
       " array([0., 0., 0., 1., 0., 0.]),\n",
       " array([0., 0., 0., 0., 1., 0.]),\n",
       " array([0., 0., 0., 0., 0., 1.])]"
      ]
     },
     "execution_count": 34,
     "metadata": {},
     "output_type": "execute_result"
    }
   ],
   "source": [
    "encoder"
   ]
  },
  {
   "cell_type": "code",
   "execution_count": 35,
   "id": "9b18cc3a-ba9a-41f1-ab27-a28910e2c686",
   "metadata": {},
   "outputs": [
    {
     "data": {
      "text/plain": [
       "array([[1., 0., 0., 0., 0., 0.],\n",
       "       [0., 1., 0., 0., 0., 0.],\n",
       "       [0., 0., 1., 0., 0., 0.],\n",
       "       [0., 0., 0., 1., 0., 0.],\n",
       "       [0., 0., 0., 0., 1., 0.],\n",
       "       [0., 0., 0., 0., 0., 1.]])"
      ]
     },
     "execution_count": 35,
     "metadata": {},
     "output_type": "execute_result"
    }
   ],
   "source": [
    "np.array(encoder)"
   ]
  },
  {
   "cell_type": "code",
   "execution_count": 36,
   "id": "47234230-4cae-499a-9401-c736818bd781",
   "metadata": {},
   "outputs": [
    {
     "data": {
      "text/plain": [
       "['a', 'b', 'c', 'd', 'g', 't']"
      ]
     },
     "execution_count": 36,
     "metadata": {},
     "output_type": "execute_result"
    }
   ],
   "source": [
    "classes"
   ]
  },
  {
   "cell_type": "code",
   "execution_count": 38,
   "id": "732eccfe-3321-4596-8c4e-6a658c772de9",
   "metadata": {},
   "outputs": [
    {
     "name": "stdout",
     "output_type": "stream",
     "text": [
      "(0, 'a')\n",
      "(1, 'b')\n",
      "(2, 'c')\n",
      "(3, 'd')\n",
      "(4, 'g')\n",
      "(5, 't')\n"
     ]
    }
   ],
   "source": [
    "for x in enumerate(classes):\n",
    "    print(x)"
   ]
  },
  {
   "cell_type": "markdown",
   "id": "38bd39e2-c838-4a4b-bc32-f4f6d25ef838",
   "metadata": {},
   "source": [
    "# Label ENcoder"
   ]
  },
  {
   "cell_type": "code",
   "execution_count": 39,
   "id": "aab796fd-f6de-4427-95c1-756d2305830f",
   "metadata": {},
   "outputs": [],
   "source": [
    "ordinal=['low','medium','high','low','high','medium']"
   ]
  },
  {
   "cell_type": "code",
   "execution_count": 40,
   "id": "068493af-69d8-4d97-998a-05ec54b98b23",
   "metadata": {},
   "outputs": [],
   "source": [
    "labels={'low':0,'medium':1,'high':2}"
   ]
  },
  {
   "cell_type": "code",
   "execution_count": 42,
   "id": "10981b19-aaa5-4753-adff-8148ff97f515",
   "metadata": {},
   "outputs": [],
   "source": [
    "label_encoder=[]"
   ]
  },
  {
   "cell_type": "code",
   "execution_count": 43,
   "id": "89a822c6-c3e9-4441-a53e-b4ec56879dd5",
   "metadata": {},
   "outputs": [],
   "source": [
    "no_classes=len(labels)"
   ]
  },
  {
   "cell_type": "code",
   "execution_count": 45,
   "id": "d974b702-cfcc-4b6d-ab4f-a416badbc35f",
   "metadata": {},
   "outputs": [
    {
     "data": {
      "text/plain": [
       "3"
      ]
     },
     "execution_count": 45,
     "metadata": {},
     "output_type": "execute_result"
    }
   ],
   "source": [
    "no_classes"
   ]
  },
  {
   "cell_type": "code",
   "execution_count": 47,
   "id": "c8ad2816-c42a-4e98-8e94-f0bfbe5b5435",
   "metadata": {},
   "outputs": [],
   "source": [
    "for x in ordinal:\n",
    "    ordinal[ordinal.index(x)]=labels[x]"
   ]
  },
  {
   "cell_type": "code",
   "execution_count": 48,
   "id": "6bb86715-ef4a-4779-9d31-e735b3493332",
   "metadata": {},
   "outputs": [
    {
     "data": {
      "text/plain": [
       "[0, 1, 2, 0, 2, 1]"
      ]
     },
     "execution_count": 48,
     "metadata": {},
     "output_type": "execute_result"
    }
   ],
   "source": [
    "ordinal"
   ]
  },
  {
   "cell_type": "markdown",
   "id": "00a4c401-7d33-4fc3-ae03-d78fe021b8b1",
   "metadata": {},
   "source": [
    "# High cardinality target encoding using mean"
   ]
  },
  {
   "cell_type": "code",
   "execution_count": 49,
   "id": "a2c1e1f9-57e1-4c56-a7e7-d83274e87735",
   "metadata": {},
   "outputs": [],
   "source": [
    "import pandas as pd\n",
    "import numpy as np\n",
    "\n",
    "# Simulate high-cardinality data\n",
    "n = 10_000_000\n",
    "categories = [f\"id_{i}\" for i in range(100_000)]  # 100k unique values\n",
    "\n",
    "df = pd.DataFrame({\n",
    "    'cat': np.random.choice(categories, size=n),\n",
    "    'target': np.random.randint(0, 2, size=n)\n",
    "})\n",
    "\n",
    "# Fast, vectorized target encoding\n",
    "means = df.groupby('cat')['target'].mean()\n",
    "df['encoded'] = df['cat'].map(means)\n"
   ]
  },
  {
   "cell_type": "code",
   "execution_count": 50,
   "id": "6ee2cbc1-81b7-4873-a8f6-90da17b7cf66",
   "metadata": {},
   "outputs": [
    {
     "data": {
      "text/plain": [
       "cat\n",
       "id_0        0.582524\n",
       "id_1        0.416667\n",
       "id_10       0.516484\n",
       "id_100      0.486486\n",
       "id_1000     0.463158\n",
       "              ...   \n",
       "id_99995    0.463636\n",
       "id_99996    0.527778\n",
       "id_99997    0.477778\n",
       "id_99998    0.579439\n",
       "id_99999    0.370370\n",
       "Name: target, Length: 100000, dtype: float64"
      ]
     },
     "execution_count": 50,
     "metadata": {},
     "output_type": "execute_result"
    }
   ],
   "source": [
    "means"
   ]
  },
  {
   "cell_type": "markdown",
   "id": "195e35cc-c0b0-464d-82fc-5c7eafd79d8a",
   "metadata": {},
   "source": [
    "# hash encoding"
   ]
  },
  {
   "cell_type": "code",
   "execution_count": 65,
   "id": "e5e43aa8-dfc8-42ca-a31a-c5d51b9f5127",
   "metadata": {},
   "outputs": [],
   "source": [
    "city = 'SanFrancisco'\n",
    "hash_val = hash(city)   # Maps to bucket 0–99\n"
   ]
  },
  {
   "cell_type": "code",
   "execution_count": 66,
   "id": "0d7a25c0-59dc-44c8-900b-3ac05e48f80f",
   "metadata": {},
   "outputs": [
    {
     "data": {
      "text/plain": [
       "-1850309022097977199"
      ]
     },
     "execution_count": 66,
     "metadata": {},
     "output_type": "execute_result"
    }
   ],
   "source": [
    "hash_val"
   ]
  },
  {
   "cell_type": "markdown",
   "id": "16e66e04-b536-40cc-81c0-2e4e5a16604f",
   "metadata": {},
   "source": [
    "# TF IDF Encoding"
   ]
  },
  {
   "cell_type": "code",
   "execution_count": 67,
   "id": "228c0a0d-6be3-4a91-9b7c-795a0f63d912",
   "metadata": {},
   "outputs": [],
   "source": [
    "from sklearn.feature_extraction.text import TfidfVectorizer\n",
    "vec = TfidfVectorizer()\n",
    "X = vec.fit_transform([\"the cat sat\", \"the dog sat\"])"
   ]
  },
  {
   "cell_type": "markdown",
   "id": "c76519f7-dbd0-4f7b-a20c-a7187650cf30",
   "metadata": {},
   "source": [
    "# 3. 📦 Word Embeddings (e.g., Word2Vec, GloVe)"
   ]
  },
  {
   "cell_type": "code",
   "execution_count": 74,
   "id": "ccf8c6a5-2077-4e2c-b00f-24c414c8cbe2",
   "metadata": {},
   "outputs": [
    {
     "ename": "ValueError",
     "evalue": "numpy.dtype size changed, may indicate binary incompatibility. Expected 96 from C header, got 88 from PyObject",
     "output_type": "error",
     "traceback": [
      "\u001b[1;31m------------------------------------------------------------\u001b[0m",
      "\u001b[1;31mValueError\u001b[0m                 Traceback (most recent call last)",
      "Cell \u001b[1;32mIn[74], line 1\u001b[0m\n\u001b[1;32m----> 1\u001b[0m \u001b[38;5;28;01mfrom\u001b[39;00m\u001b[38;5;250m \u001b[39m\u001b[38;5;21;01mgensim\u001b[39;00m\u001b[38;5;21;01m.\u001b[39;00m\u001b[38;5;21;01mmodels\u001b[39;00m\u001b[38;5;250m \u001b[39m\u001b[38;5;28;01mimport\u001b[39;00m Word2Vec\n\u001b[0;32m      2\u001b[0m model \u001b[38;5;241m=\u001b[39m Word2Vec([[\u001b[38;5;124m'\u001b[39m\u001b[38;5;124mthe\u001b[39m\u001b[38;5;124m'\u001b[39m, \u001b[38;5;124m'\u001b[39m\u001b[38;5;124mcat\u001b[39m\u001b[38;5;124m'\u001b[39m, \u001b[38;5;124m'\u001b[39m\u001b[38;5;124msat\u001b[39m\u001b[38;5;124m'\u001b[39m]], vector_size\u001b[38;5;241m=\u001b[39m\u001b[38;5;241m100\u001b[39m)\n\u001b[0;32m      3\u001b[0m embedding \u001b[38;5;241m=\u001b[39m model\u001b[38;5;241m.\u001b[39mwv[\u001b[38;5;124m'\u001b[39m\u001b[38;5;124mcat\u001b[39m\u001b[38;5;124m'\u001b[39m]\n",
      "File \u001b[1;32m~\\AppData\\Roaming\\Python\\Python310\\site-packages\\gensim\\__init__.py:11\u001b[0m\n\u001b[0;32m      7\u001b[0m __version__ \u001b[38;5;241m=\u001b[39m \u001b[38;5;124m'\u001b[39m\u001b[38;5;124m4.3.3\u001b[39m\u001b[38;5;124m'\u001b[39m\n\u001b[0;32m      9\u001b[0m \u001b[38;5;28;01mimport\u001b[39;00m\u001b[38;5;250m \u001b[39m\u001b[38;5;21;01mlogging\u001b[39;00m\n\u001b[1;32m---> 11\u001b[0m \u001b[38;5;28;01mfrom\u001b[39;00m\u001b[38;5;250m \u001b[39m\u001b[38;5;21;01mgensim\u001b[39;00m\u001b[38;5;250m \u001b[39m\u001b[38;5;28;01mimport\u001b[39;00m parsing, corpora, matutils, interfaces, models, similarities, utils  \u001b[38;5;66;03m# noqa:F401\u001b[39;00m\n\u001b[0;32m     14\u001b[0m logger \u001b[38;5;241m=\u001b[39m logging\u001b[38;5;241m.\u001b[39mgetLogger(\u001b[38;5;124m'\u001b[39m\u001b[38;5;124mgensim\u001b[39m\u001b[38;5;124m'\u001b[39m)\n\u001b[0;32m     15\u001b[0m \u001b[38;5;28;01mif\u001b[39;00m \u001b[38;5;129;01mnot\u001b[39;00m logger\u001b[38;5;241m.\u001b[39mhandlers:  \u001b[38;5;66;03m# To ensure reload() doesn't add another one\u001b[39;00m\n",
      "File \u001b[1;32m~\\AppData\\Roaming\\Python\\Python310\\site-packages\\gensim\\corpora\\__init__.py:6\u001b[0m\n\u001b[0;32m      1\u001b[0m \u001b[38;5;124;03m\"\"\"\u001b[39;00m\n\u001b[0;32m      2\u001b[0m \u001b[38;5;124;03mThis package contains implementations of various streaming corpus I/O format.\u001b[39;00m\n\u001b[0;32m      3\u001b[0m \u001b[38;5;124;03m\"\"\"\u001b[39;00m\n\u001b[0;32m      5\u001b[0m \u001b[38;5;66;03m# bring corpus classes directly into package namespace, to save some typing\u001b[39;00m\n\u001b[1;32m----> 6\u001b[0m \u001b[38;5;28;01mfrom\u001b[39;00m\u001b[38;5;250m \u001b[39m\u001b[38;5;21;01m.\u001b[39;00m\u001b[38;5;21;01mindexedcorpus\u001b[39;00m\u001b[38;5;250m \u001b[39m\u001b[38;5;28;01mimport\u001b[39;00m IndexedCorpus  \u001b[38;5;66;03m# noqa:F401 must appear before the other classes\u001b[39;00m\n\u001b[0;32m      8\u001b[0m \u001b[38;5;28;01mfrom\u001b[39;00m\u001b[38;5;250m \u001b[39m\u001b[38;5;21;01m.\u001b[39;00m\u001b[38;5;21;01mmmcorpus\u001b[39;00m\u001b[38;5;250m \u001b[39m\u001b[38;5;28;01mimport\u001b[39;00m MmCorpus  \u001b[38;5;66;03m# noqa:F401\u001b[39;00m\n\u001b[0;32m      9\u001b[0m \u001b[38;5;28;01mfrom\u001b[39;00m\u001b[38;5;250m \u001b[39m\u001b[38;5;21;01m.\u001b[39;00m\u001b[38;5;21;01mbleicorpus\u001b[39;00m\u001b[38;5;250m \u001b[39m\u001b[38;5;28;01mimport\u001b[39;00m BleiCorpus  \u001b[38;5;66;03m# noqa:F401\u001b[39;00m\n",
      "File \u001b[1;32m~\\AppData\\Roaming\\Python\\Python310\\site-packages\\gensim\\corpora\\indexedcorpus.py:14\u001b[0m\n\u001b[0;32m     10\u001b[0m \u001b[38;5;28;01mimport\u001b[39;00m\u001b[38;5;250m \u001b[39m\u001b[38;5;21;01mlogging\u001b[39;00m\n\u001b[0;32m     12\u001b[0m \u001b[38;5;28;01mimport\u001b[39;00m\u001b[38;5;250m \u001b[39m\u001b[38;5;21;01mnumpy\u001b[39;00m\n\u001b[1;32m---> 14\u001b[0m \u001b[38;5;28;01mfrom\u001b[39;00m\u001b[38;5;250m \u001b[39m\u001b[38;5;21;01mgensim\u001b[39;00m\u001b[38;5;250m \u001b[39m\u001b[38;5;28;01mimport\u001b[39;00m interfaces, utils\n\u001b[0;32m     16\u001b[0m logger \u001b[38;5;241m=\u001b[39m logging\u001b[38;5;241m.\u001b[39mgetLogger(\u001b[38;5;18m__name__\u001b[39m)\n\u001b[0;32m     19\u001b[0m \u001b[38;5;28;01mclass\u001b[39;00m\u001b[38;5;250m \u001b[39m\u001b[38;5;21;01mIndexedCorpus\u001b[39;00m(interfaces\u001b[38;5;241m.\u001b[39mCorpusABC):\n",
      "File \u001b[1;32m~\\AppData\\Roaming\\Python\\Python310\\site-packages\\gensim\\interfaces.py:19\u001b[0m\n\u001b[0;32m      7\u001b[0m \u001b[38;5;124;03m\"\"\"Basic interfaces used across the whole Gensim package.\u001b[39;00m\n\u001b[0;32m      8\u001b[0m \n\u001b[0;32m      9\u001b[0m \u001b[38;5;124;03mThese interfaces are used for building corpora, model transformation and similarity queries.\u001b[39;00m\n\u001b[1;32m   (...)\u001b[0m\n\u001b[0;32m     14\u001b[0m \n\u001b[0;32m     15\u001b[0m \u001b[38;5;124;03m\"\"\"\u001b[39;00m\n\u001b[0;32m     17\u001b[0m \u001b[38;5;28;01mimport\u001b[39;00m\u001b[38;5;250m \u001b[39m\u001b[38;5;21;01mlogging\u001b[39;00m\n\u001b[1;32m---> 19\u001b[0m \u001b[38;5;28;01mfrom\u001b[39;00m\u001b[38;5;250m \u001b[39m\u001b[38;5;21;01mgensim\u001b[39;00m\u001b[38;5;250m \u001b[39m\u001b[38;5;28;01mimport\u001b[39;00m utils, matutils\n\u001b[0;32m     22\u001b[0m logger \u001b[38;5;241m=\u001b[39m logging\u001b[38;5;241m.\u001b[39mgetLogger(\u001b[38;5;18m__name__\u001b[39m)\n\u001b[0;32m     25\u001b[0m \u001b[38;5;28;01mclass\u001b[39;00m\u001b[38;5;250m \u001b[39m\u001b[38;5;21;01mCorpusABC\u001b[39;00m(utils\u001b[38;5;241m.\u001b[39mSaveLoad):\n",
      "File \u001b[1;32m~\\AppData\\Roaming\\Python\\Python310\\site-packages\\gensim\\matutils.py:1034\u001b[0m\n\u001b[0;32m   1029\u001b[0m     \u001b[38;5;28;01mreturn\u001b[39;00m \u001b[38;5;241m1.\u001b[39m \u001b[38;5;241m-\u001b[39m \u001b[38;5;28mfloat\u001b[39m(\u001b[38;5;28mlen\u001b[39m(set1 \u001b[38;5;241m&\u001b[39m set2)) \u001b[38;5;241m/\u001b[39m \u001b[38;5;28mfloat\u001b[39m(union_cardinality)\n\u001b[0;32m   1032\u001b[0m \u001b[38;5;28;01mtry\u001b[39;00m:\n\u001b[0;32m   1033\u001b[0m     \u001b[38;5;66;03m# try to load fast, cythonized code if possible\u001b[39;00m\n\u001b[1;32m-> 1034\u001b[0m     \u001b[38;5;28;01mfrom\u001b[39;00m\u001b[38;5;250m \u001b[39m\u001b[38;5;21;01mgensim\u001b[39;00m\u001b[38;5;21;01m.\u001b[39;00m\u001b[38;5;21;01m_matutils\u001b[39;00m\u001b[38;5;250m \u001b[39m\u001b[38;5;28;01mimport\u001b[39;00m logsumexp, mean_absolute_difference, dirichlet_expectation\n\u001b[0;32m   1036\u001b[0m \u001b[38;5;28;01mexcept\u001b[39;00m \u001b[38;5;167;01mImportError\u001b[39;00m:\n\u001b[0;32m   1037\u001b[0m     \u001b[38;5;28;01mdef\u001b[39;00m\u001b[38;5;250m \u001b[39m\u001b[38;5;21mlogsumexp\u001b[39m(x):\n",
      "File \u001b[1;32m~\\AppData\\Roaming\\Python\\Python310\\site-packages\\gensim\\_matutils.pyx:1\u001b[0m, in \u001b[0;36minit gensim._matutils\u001b[1;34m()\u001b[0m\n",
      "\u001b[1;31mValueError\u001b[0m: numpy.dtype size changed, may indicate binary incompatibility. Expected 96 from C header, got 88 from PyObject"
     ]
    }
   ],
   "source": [
    "from gensim.models import Word2Vec\n",
    "model = Word2Vec([['the', 'cat', 'sat']], vector_size=100)\n",
    "embedding = model.wv['cat']"
   ]
  },
  {
   "cell_type": "markdown",
   "id": "5b9238e4-2b36-4c78-a020-e538881ea767",
   "metadata": {},
   "source": [
    "# 🤖 Transformer Embeddings (BERT, GPT)\n"
   ]
  },
  {
   "cell_type": "code",
   "execution_count": 75,
   "id": "872a7c7d-fbe9-4942-8083-c9ef4a181ab7",
   "metadata": {},
   "outputs": [
    {
     "data": {
      "application/vnd.jupyter.widget-view+json": {
       "model_id": "4e5ab8793ea143ac87af19229ae416f8",
       "version_major": 2,
       "version_minor": 0
      },
      "text/plain": [
       "tokenizer_config.json:   0%|          | 0.00/48.0 [00:00<?, ?B/s]"
      ]
     },
     "metadata": {},
     "output_type": "display_data"
    },
    {
     "name": "stderr",
     "output_type": "stream",
     "text": [
      "C:\\Users\\varad\\AppData\\Roaming\\Python\\Python310\\site-packages\\huggingface_hub\\file_download.py:143: UserWarning: `huggingface_hub` cache-system uses symlinks by default to efficiently store duplicated files but your machine does not support them in C:\\Users\\varad\\.cache\\huggingface\\hub\\models--bert-base-uncased. Caching files will still work but in a degraded version that might require more space on your disk. This warning can be disabled by setting the `HF_HUB_DISABLE_SYMLINKS_WARNING` environment variable. For more details, see https://huggingface.co/docs/huggingface_hub/how-to-cache#limitations.\n",
      "To support symlinks on Windows, you either need to activate Developer Mode or to run Python as an administrator. In order to activate developer mode, see this article: https://docs.microsoft.com/en-us/windows/apps/get-started/enable-your-device-for-development\n",
      "  warnings.warn(message)\n"
     ]
    },
    {
     "data": {
      "application/vnd.jupyter.widget-view+json": {
       "model_id": "084e454612d84e0d98831cfa0661cdf9",
       "version_major": 2,
       "version_minor": 0
      },
      "text/plain": [
       "config.json:   0%|          | 0.00/570 [00:00<?, ?B/s]"
      ]
     },
     "metadata": {},
     "output_type": "display_data"
    },
    {
     "data": {
      "application/vnd.jupyter.widget-view+json": {
       "model_id": "ac8e76c137df4c0c8bdab095df97d062",
       "version_major": 2,
       "version_minor": 0
      },
      "text/plain": [
       "vocab.txt:   0%|          | 0.00/232k [00:00<?, ?B/s]"
      ]
     },
     "metadata": {},
     "output_type": "display_data"
    },
    {
     "data": {
      "application/vnd.jupyter.widget-view+json": {
       "model_id": "3b76b4f1e28f417086f3c820d2261ec1",
       "version_major": 2,
       "version_minor": 0
      },
      "text/plain": [
       "tokenizer.json:   0%|          | 0.00/466k [00:00<?, ?B/s]"
      ]
     },
     "metadata": {},
     "output_type": "display_data"
    },
    {
     "name": "stderr",
     "output_type": "stream",
     "text": [
      "Xet Storage is enabled for this repo, but the 'hf_xet' package is not installed. Falling back to regular HTTP download. For better performance, install the package with: `pip install huggingface_hub[hf_xet]` or `pip install hf_xet`\n"
     ]
    },
    {
     "data": {
      "application/vnd.jupyter.widget-view+json": {
       "model_id": "3da8e72537a14b8abd6a398bbb0c2162",
       "version_major": 2,
       "version_minor": 0
      },
      "text/plain": [
       "model.safetensors:   0%|          | 0.00/440M [00:00<?, ?B/s]"
      ]
     },
     "metadata": {},
     "output_type": "display_data"
    }
   ],
   "source": [
    "from transformers import AutoTokenizer, AutoModel\n",
    "tokenizer = AutoTokenizer.from_pretrained(\"bert-base-uncased\")\n",
    "model = AutoModel.from_pretrained(\"bert-base-uncased\")\n"
   ]
  },
  {
   "cell_type": "code",
   "execution_count": 76,
   "id": "f0906d2b-e1fb-40a6-b031-b719dc4efb87",
   "metadata": {},
   "outputs": [
    {
     "data": {
      "text/plain": [
       "BertModel(\n",
       "  (embeddings): BertEmbeddings(\n",
       "    (word_embeddings): Embedding(30522, 768, padding_idx=0)\n",
       "    (position_embeddings): Embedding(512, 768)\n",
       "    (token_type_embeddings): Embedding(2, 768)\n",
       "    (LayerNorm): LayerNorm((768,), eps=1e-12, elementwise_affine=True)\n",
       "    (dropout): Dropout(p=0.1, inplace=False)\n",
       "  )\n",
       "  (encoder): BertEncoder(\n",
       "    (layer): ModuleList(\n",
       "      (0-11): 12 x BertLayer(\n",
       "        (attention): BertAttention(\n",
       "          (self): BertSdpaSelfAttention(\n",
       "            (query): Linear(in_features=768, out_features=768, bias=True)\n",
       "            (key): Linear(in_features=768, out_features=768, bias=True)\n",
       "            (value): Linear(in_features=768, out_features=768, bias=True)\n",
       "            (dropout): Dropout(p=0.1, inplace=False)\n",
       "          )\n",
       "          (output): BertSelfOutput(\n",
       "            (dense): Linear(in_features=768, out_features=768, bias=True)\n",
       "            (LayerNorm): LayerNorm((768,), eps=1e-12, elementwise_affine=True)\n",
       "            (dropout): Dropout(p=0.1, inplace=False)\n",
       "          )\n",
       "        )\n",
       "        (intermediate): BertIntermediate(\n",
       "          (dense): Linear(in_features=768, out_features=3072, bias=True)\n",
       "          (intermediate_act_fn): GELUActivation()\n",
       "        )\n",
       "        (output): BertOutput(\n",
       "          (dense): Linear(in_features=3072, out_features=768, bias=True)\n",
       "          (LayerNorm): LayerNorm((768,), eps=1e-12, elementwise_affine=True)\n",
       "          (dropout): Dropout(p=0.1, inplace=False)\n",
       "        )\n",
       "      )\n",
       "    )\n",
       "  )\n",
       "  (pooler): BertPooler(\n",
       "    (dense): Linear(in_features=768, out_features=768, bias=True)\n",
       "    (activation): Tanh()\n",
       "  )\n",
       ")"
      ]
     },
     "execution_count": 76,
     "metadata": {},
     "output_type": "execute_result"
    }
   ],
   "source": [
    "model"
   ]
  },
  {
   "cell_type": "markdown",
   "id": "4506e4da-5aa4-417b-9d2e-5ef133cab8e5",
   "metadata": {},
   "source": [
    "# Bag of Words"
   ]
  },
  {
   "cell_type": "code",
   "execution_count": 94,
   "id": "e92edb4c-a2ac-49cf-999a-95c1d0a3e898",
   "metadata": {},
   "outputs": [],
   "source": [
    "reviews=['the movie is so horrible that I could barely finish its first half','the movie is so great that I recommended to all']"
   ]
  },
  {
   "cell_type": "code",
   "execution_count": 95,
   "id": "f764c01d-4016-41a6-9f51-baf709277306",
   "metadata": {},
   "outputs": [],
   "source": [
    "bag_of_words=list()"
   ]
  },
  {
   "cell_type": "code",
   "execution_count": 96,
   "id": "28e52772-534d-4343-ba5b-994c2da0a52f",
   "metadata": {},
   "outputs": [],
   "source": [
    "for review in reviews:\n",
    "    for x in review.split():\n",
    "        if x not in bag_of_words:\n",
    "            bag_of_words.append(x)"
   ]
  },
  {
   "cell_type": "code",
   "execution_count": 97,
   "id": "a280987f-1670-424e-b491-7b8f66fc184f",
   "metadata": {},
   "outputs": [
    {
     "data": {
      "text/plain": [
       "['the',\n",
       " 'movie',\n",
       " 'is',\n",
       " 'so',\n",
       " 'horrible',\n",
       " 'that',\n",
       " 'I',\n",
       " 'could',\n",
       " 'barely',\n",
       " 'finish',\n",
       " 'its',\n",
       " 'first',\n",
       " 'half',\n",
       " 'great',\n",
       " 'recommended',\n",
       " 'to',\n",
       " 'all']"
      ]
     },
     "execution_count": 97,
     "metadata": {},
     "output_type": "execute_result"
    }
   ],
   "source": [
    "bag_of_words"
   ]
  },
  {
   "cell_type": "code",
   "execution_count": 100,
   "id": "c889e7cb-2f5a-40f0-8b89-f4811252cf63",
   "metadata": {},
   "outputs": [
    {
     "name": "stdout",
     "output_type": "stream",
     "text": [
      "[1. 1. 1. 1. 1. 1. 1. 1. 1. 1. 1. 1. 1. 0. 0. 0. 0.]\n",
      "[1. 1. 1. 1. 0. 1. 1. 0. 0. 0. 0. 0. 0. 1. 1. 1. 1.]\n"
     ]
    }
   ],
   "source": [
    "for review in reviews:\n",
    "    encoder=np.zeros(len(bag_of_words))\n",
    "    for y in review.split():\n",
    "        if y in bag_of_words:\n",
    "            index=bag_of_words.index(y)\n",
    "            encoder[index]=1\n",
    "        else:pass\n",
    "    \n",
    "    print(encoder)"
   ]
  },
  {
   "cell_type": "code",
   "execution_count": null,
   "id": "8b5e96dc-b6a9-4796-98ec-129f5bb4320b",
   "metadata": {},
   "outputs": [],
   "source": []
  }
 ],
 "metadata": {
  "kernelspec": {
   "display_name": "Python 3 (ipykernel)",
   "language": "python",
   "name": "python3"
  },
  "language_info": {
   "codemirror_mode": {
    "name": "ipython",
    "version": 3
   },
   "file_extension": ".py",
   "mimetype": "text/x-python",
   "name": "python",
   "nbconvert_exporter": "python",
   "pygments_lexer": "ipython3",
   "version": "3.10.9"
  }
 },
 "nbformat": 4,
 "nbformat_minor": 5
}
