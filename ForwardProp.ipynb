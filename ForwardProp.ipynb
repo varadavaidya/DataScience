{
 "cells": [
  {
   "cell_type": "code",
   "execution_count": 333,
   "id": "7da00e60-1e8f-4e99-b85d-7ce522512bbe",
   "metadata": {},
   "outputs": [],
   "source": [
    "import numpy as np\n",
    "import math\n",
    "import tensorflow as tf\n",
    "from tensorflow.keras.layers import Normalization"
   ]
  },
  {
   "cell_type": "code",
   "execution_count": 334,
   "id": "dca01632-4395-4a1d-97ec-7a19b313f732",
   "metadata": {},
   "outputs": [],
   "source": [
    "def sigmoid(z):\n",
    "    return 1/(1+np.exp(-z))"
   ]
  },
  {
   "cell_type": "code",
   "execution_count": 335,
   "id": "826df1c1-333a-4eec-95b2-506808a45f8f",
   "metadata": {},
   "outputs": [],
   "source": [
    "def dense(a_in,W,b):\n",
    "    units=W.shape[1]\n",
    "    a_out=np.zeros(units)\n",
    "    for i in range(units):\n",
    "        w=W[:,i]\n",
    "        z= np.dot(w,a_in)+b[i]\n",
    "        a_out[i]=sigmoid(z)\n",
    "    return a_out"
   ]
  },
  {
   "cell_type": "code",
   "execution_count": 336,
   "id": "e8da2db4-8eac-4011-a017-9773b9fe115e",
   "metadata": {},
   "outputs": [],
   "source": [
    "def Sequential(x,W1,b1,W2,b2):\n",
    "    a1=dense(x,W1,b1)\n",
    "    a2=dense(a1,W2,b2)\n",
    "    return a2"
   ]
  },
  {
   "cell_type": "code",
   "execution_count": 337,
   "id": "17f83579-bb00-48d8-83c7-a068be146fb3",
   "metadata": {},
   "outputs": [],
   "source": [
    "x=np.array([[200.0,17.0],\n",
    "           [120.0,5.0],\n",
    "           [425.0,20.],\n",
    "           [212.0,18.0]])"
   ]
  },
  {
   "cell_type": "code",
   "execution_count": 338,
   "id": "b8a6e339-2fe4-4b3b-aa64-11e04ee1ac23",
   "metadata": {},
   "outputs": [],
   "source": [
    "#normalizing first feature\n",
    "y=np.array([1,0,0,1])"
   ]
  },
  {
   "cell_type": "code",
   "execution_count": 339,
   "id": "0ed06adb-a812-4120-85aa-af1a0260d8c2",
   "metadata": {},
   "outputs": [],
   "source": [
    "W1=np.array([[-0.8128951 ,  0.58167994, -0.6926838 ],\n",
    "        [-0.28268427,  0.8392546 , -0.3195731 ]])"
   ]
  },
  {
   "cell_type": "code",
   "execution_count": 340,
   "id": "78526ca6-7502-4e13-9521-eee760a7afc5",
   "metadata": {},
   "outputs": [],
   "source": [
    "b1=np.array( [0., 0., 0.])"
   ]
  },
  {
   "cell_type": "code",
   "execution_count": 341,
   "id": "a4810f2d-e93f-497c-a331-e1b41aef91c5",
   "metadata": {},
   "outputs": [],
   "source": [
    "W2=np.array([[ 1.028956 ],\n",
    "        [-1.1769795],\n",
    "        [-0.7182141]])\n",
    "b2=np.array([0.])"
   ]
  },
  {
   "cell_type": "code",
   "execution_count": 346,
   "id": "93770fb9-f8ac-4c61-a7a0-88d19966a7d3",
   "metadata": {},
   "outputs": [],
   "source": [
    "x_norm = (x - np.mean(x, axis=0)) / np.std(x, axis=0)\n"
   ]
  },
  {
   "cell_type": "code",
   "execution_count": 347,
   "id": "f30afec5-3bdd-4885-a869-5a6676a4bb82",
   "metadata": {},
   "outputs": [
    {
     "data": {
      "text/plain": [
       "array([0.39327329])"
      ]
     },
     "execution_count": 347,
     "metadata": {},
     "output_type": "execute_result"
    }
   ],
   "source": [
    "Sequential(x_norm[0],W1,b1,W2,b2)"
   ]
  },
  {
   "cell_type": "code",
   "execution_count": 348,
   "id": "849b78e0-abe6-419b-9709-35e0c178da37",
   "metadata": {},
   "outputs": [
    {
     "data": {
      "text/plain": [
       "array([0.52969143])"
      ]
     },
     "execution_count": 348,
     "metadata": {},
     "output_type": "execute_result"
    }
   ],
   "source": [
    "Sequential(x_norm[1],W1,b1,W2,b2)"
   ]
  },
  {
   "cell_type": "code",
   "execution_count": 350,
   "id": "16c2cb29-4b2e-4a42-82bf-d21998342fdd",
   "metadata": {},
   "outputs": [
    {
     "data": {
      "text/plain": [
       "array([0.27779578])"
      ]
     },
     "execution_count": 350,
     "metadata": {},
     "output_type": "execute_result"
    }
   ],
   "source": [
    "Sequential(x_norm[2],W1,b1,W2,b2)"
   ]
  },
  {
   "cell_type": "code",
   "execution_count": 351,
   "id": "f363db21-37b5-48d6-b596-948665beb8ba",
   "metadata": {},
   "outputs": [
    {
     "data": {
      "text/plain": [
       "array([0.37642475])"
      ]
     },
     "execution_count": 351,
     "metadata": {},
     "output_type": "execute_result"
    }
   ],
   "source": [
    "Sequential(x_norm[3],W1,b1,W2,b2)"
   ]
  },
  {
   "cell_type": "code",
   "execution_count": 352,
   "id": "641da1d9-a2ab-4631-a76e-b54699e55acd",
   "metadata": {},
   "outputs": [
    {
     "data": {
      "text/plain": [
       "array([0.23559572])"
      ]
     },
     "execution_count": 352,
     "metadata": {},
     "output_type": "execute_result"
    }
   ],
   "source": [
    "Sequential([200.0,17.0],W1,b1,W2,b2)"
   ]
  },
  {
   "cell_type": "code",
   "execution_count": null,
   "id": "3b4ad79e-8f1a-47d3-9b95-4e7bf43c8b3c",
   "metadata": {},
   "outputs": [],
   "source": []
  }
 ],
 "metadata": {
  "kernelspec": {
   "display_name": "Python 3 (ipykernel)",
   "language": "python",
   "name": "python3"
  },
  "language_info": {
   "codemirror_mode": {
    "name": "ipython",
    "version": 3
   },
   "file_extension": ".py",
   "mimetype": "text/x-python",
   "name": "python",
   "nbconvert_exporter": "python",
   "pygments_lexer": "ipython3",
   "version": "3.10.9"
  }
 },
 "nbformat": 4,
 "nbformat_minor": 5
}
