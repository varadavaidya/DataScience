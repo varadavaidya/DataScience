{
 "cells": [
  {
   "cell_type": "code",
   "execution_count": 9,
   "id": "b900d8f6-dabc-4cdf-8032-165aab76025b",
   "metadata": {},
   "outputs": [],
   "source": [
    "# STEP 1: Installing required libraries \n",
    "!pip install flask pyngrok twilio --quiet"
   ]
  },
  {
   "cell_type": "code",
   "execution_count": 10,
   "id": "ae329452-9d39-40f4-8897-90aa35b4f848",
   "metadata": {},
   "outputs": [
    {
     "name": "stdout",
     "output_type": "stream",
     "text": [
      " SQLite database and 'expenses' table ready.\n"
     ]
    }
   ],
   "source": [
    "# STEP 2: Setting up SQLite database\n",
    "import sqlite3\n",
    "from datetime import datetime\n",
    "\n",
    "conn = sqlite3.connect(\"expenses.db\", check_same_thread=False)\n",
    "cursor = conn.cursor()\n",
    "\n",
    "cursor.execute('''\n",
    "CREATE TABLE IF NOT EXISTS expenses (\n",
    "    id INTEGER PRIMARY KEY AUTOINCREMENT,\n",
    "    user TEXT,\n",
    "    amount INTEGER,\n",
    "    category TEXT,\n",
    "    vendor TEXT,\n",
    "    description TEXT,\n",
    "    date TEXT\n",
    ")\n",
    "''')\n",
    "conn.commit()\n",
    "print(\" SQLite database and 'expenses' table ready.\")"
   ]
  },
  {
   "cell_type": "code",
   "execution_count": 11,
   "id": "85fa0d08-4d8e-4a5f-9406-05732a3718f2",
   "metadata": {},
   "outputs": [],
   "source": [
    "# STEP 3: Defining a function to save expenses\n",
    "def save_expense(user, amount, category, vendor, description, date=None):\n",
    "    if not date:\n",
    "        date = datetime.now().strftime(\"%Y-%m-%d\")\n",
    "    cursor.execute('''\n",
    "        INSERT INTO expenses (user, amount, category, vendor, description, date)\n",
    "        VALUES (?, ?, ?, ?, ?, ?)\n",
    "    ''', (user, amount, category, vendor, description, date))\n",
    "    conn.commit()\n"
   ]
  },
  {
   "cell_type": "code",
   "execution_count": 12,
   "id": "a287431d-3a1e-473d-b28b-4a4701b9532d",
   "metadata": {},
   "outputs": [],
   "source": [
    "import re"
   ]
  },
  {
   "cell_type": "code",
   "execution_count": 13,
   "id": "6aa49464-e730-4f83-8b91-8ebfc9757aa5",
   "metadata": {},
   "outputs": [],
   "source": [
    "def detect_category(msg):\n",
    "    msg = msg.lower()\n",
    "\n",
    "    category_keywords = {\n",
    "        \"food\": [\"tea\", \"coffee\", \"pizza\", \"biryani\", \"snacks\", \"breakfast\", \"lunch\", \"dinner\", \"swiggy\", \"zomato\", \"ccd\", \"starbucks\",\"pizza\"],\n",
    "        \"essentials\": [\"groceries\", \"milk\", \"vegetables\", \"zepto\", \"blinkit\", \"amazon pantry\"],\n",
    "        \"medicines\": [\"pharmacy\", \"tablet\", \"medicine\", \"1mg\", \"medlife\", \"prescription\", \"chemist\"],\n",
    "        \"sports\": [\"gym\", \"shoes\", \"football\", \"cricket\", \"bat\", \"sports\", \"yoga\", \"exercise\",\"jersey\"]\n",
    "    }\n",
    "\n",
    "    for category, keywords in category_keywords.items():\n",
    "        if any(word in msg for word in keywords):\n",
    "            return category\n",
    "\n",
    "    return \"other\"  # fallback\n"
   ]
  },
  {
   "cell_type": "code",
   "execution_count": 14,
   "id": "c2bf4768-5860-425a-ad88-968b603449f7",
   "metadata": {},
   "outputs": [],
   "source": [
    "# STEP 4: Creating Flask app and webhook\n",
    "from flask import Flask, request\n",
    "from twilio.twiml.messaging_response import MessagingResponse\n",
    "import re\n",
    "\n",
    "app = Flask(__name__)\n",
    "\n",
    "@app.route(\"/webhook\", methods=[\"POST\"])\n",
    "def webhook():\n",
    "    import re\n",
    "    from datetime import datetime\n",
    "\n",
    "    incoming_msg = request.form.get('Body') or \"\"\n",
    "    sender = request.form.get('From') or \"\"\n",
    "    msg_lower = incoming_msg.lower()\n",
    "\n",
    "    print(\" Incoming:\", incoming_msg)\n",
    "\n",
    "    response = MessagingResponse()\n",
    "    msg = response.message()\n",
    "\n",
    "    # STEP 1: Handle expense messages\n",
    "    if any(word in msg_lower for word in [\"spent\", \"paid\", \"bought\"]):\n",
    "        amount_match = re.findall(r'(?:₹|rs)?\\s?(\\d+)', msg_lower)\n",
    "        if amount_match:\n",
    "            amount = int(amount_match[0])\n",
    "            category = detect_category(incoming_msg)  # Auto-categorize\n",
    "            vendor = \"unknown\"\n",
    "            description = incoming_msg\n",
    "            date = datetime.now().strftime(\"%Y-%m-%d\")\n",
    "\n",
    "            save_expense(sender, amount, category, vendor, description, date)\n",
    "\n",
    "            msg.body(f\" Got it! You've spent ₹{amount} on {category}.\")\n",
    "        else:\n",
    "            msg.body(\"Couldn't find the amount. Try: 'Spent ₹300 on snacks'.\")\n",
    "\n",
    "        # STEP 2: Handling total expense queries\n",
    "    elif re.search(r\"(how much|what.*spend|total.*spend|spent.*total|how much have i spent)\", msg_lower):\n",
    "        print(\" Matched as query:\", msg_lower)  # Debugging\n",
    "        categories = [\"food\", \"essentials\", \"medicines\", \"sports\"]\n",
    "        found_category = None\n",
    "\n",
    "        for cat in categories:\n",
    "            if cat in msg_lower:\n",
    "                found_category = cat\n",
    "                break\n",
    "\n",
    "        if found_category:\n",
    "            cursor.execute(\"SELECT SUM(amount) FROM expenses WHERE user = ? AND category = ?\", (sender, found_category))\n",
    "            total = cursor.fetchone()[0] or 0\n",
    "            msg.body(f\"You’ve spent ₹{total} on {found_category}.\")\n",
    "        else:\n",
    "            cursor.execute(\"SELECT SUM(amount) FROM expenses WHERE user = ?\", (sender,))\n",
    "            total = cursor.fetchone()[0] or 0\n",
    "            msg.body(f\"You’ve spent ₹{total} in total.\")\n",
    "\n",
    "\n",
    "    # STEP 3: Help / unknown message\n",
    "    else:\n",
    "        msg.body(\"Try: 'Spent ₹300 on coffee' or 'How much on food?'\")\n",
    "\n",
    "    return str(response)\n",
    "\n"
   ]
  },
  {
   "cell_type": "code",
   "execution_count": 15,
   "id": "0b624ea2-90e9-4487-a6a4-bfc59efa3f7d",
   "metadata": {},
   "outputs": [
    {
     "name": "stdout",
     "output_type": "stream",
     "text": [
      " * Serving Flask app '__main__'\n",
      " * Debug mode: off\n"
     ]
    },
    {
     "name": "stderr",
     "output_type": "stream",
     "text": [
      "WARNING: This is a development server. Do not use it in a production deployment. Use a production WSGI server instead.\n",
      " * Running on all addresses (0.0.0.0)\n",
      " * Running on http://127.0.0.1:5000\n",
      " * Running on http://192.168.0.61:5000\n",
      "Press CTRL+C to quit\n"
     ]
    }
   ],
   "source": [
    "# STEP 5: Running Flask server in background\n",
    "import threading\n",
    "\n",
    "def run_flask():\n",
    "    app.run(host='0.0.0.0', port=5000)\n",
    "\n",
    "thread = threading.Thread(target=run_flask)\n",
    "thread.start()\n"
   ]
  },
  {
   "cell_type": "code",
   "execution_count": 16,
   "id": "a1b1d144-8300-4ef1-8f55-d09d09687447",
   "metadata": {},
   "outputs": [
    {
     "name": "stdout",
     "output_type": "stream",
     "text": [
      "🌐 Public webhook URL: NgrokTunnel: \"https://1c3e-2406-7400-75-99e6-7c99-1715-3d06-97e0.ngrok-free.app\" -> \"http://localhost:5000\"/webhook\n"
     ]
    }
   ],
   "source": [
    "\n",
    "# STEP 6: Starts ngrok and we will get public URL\n",
    "from pyngrok import ngrok\n",
    "\n",
    "ngrok.kill()  # kill old sessions if any\n",
    "public_url = ngrok.connect(5000)\n",
    "print(f\"🌐 Public webhook URL: {public_url}/webhook\")\n"
   ]
  },
  {
   "cell_type": "code",
   "execution_count": null,
   "id": "ccfd326b-c3ae-4cb7-b9a4-23e97d99430d",
   "metadata": {},
   "outputs": [],
   "source": []
  }
 ],
 "metadata": {
  "kernelspec": {
   "display_name": "Python 3 (ipykernel)",
   "language": "python",
   "name": "python3"
  },
  "language_info": {
   "codemirror_mode": {
    "name": "ipython",
    "version": 3
   },
   "file_extension": ".py",
   "mimetype": "text/x-python",
   "name": "python",
   "nbconvert_exporter": "python",
   "pygments_lexer": "ipython3",
   "version": "3.13.3"
  }
 },
 "nbformat": 4,
 "nbformat_minor": 5
}
