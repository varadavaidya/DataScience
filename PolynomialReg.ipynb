{
 "cells": [
  {
   "cell_type": "code",
   "execution_count": 411,
   "id": "0b074699-67c7-4972-a37b-6c3e9ae16c05",
   "metadata": {},
   "outputs": [],
   "source": [
    "def z_normalize(x):\n",
    "    m=len(x)\n",
    "    z=[0]*m\n",
    "    se=0\n",
    "    mean=sum(x)/m\n",
    "    for i in range(m):\n",
    "        se+=(x[i]-mean)**2\n",
    "    mse=se/(m-1) \n",
    "    for i in range(m):\n",
    "        z[i]=(x[i]-mean)/mse\n",
    "    x=z\n",
    "    return x"
   ]
  },
  {
   "cell_type": "code",
   "execution_count": 412,
   "id": "ce747f0e-2ff4-4d67-b3f0-0fbfa8a2c71e",
   "metadata": {},
   "outputs": [],
   "source": [
    "def mean_normalize(x):\n",
    "    max=max(x)\n",
    "    min=min(x)\n",
    "    mean=sum(x)/len(x)\n",
    "    for i in range(len(x)):\n",
    "        x[i]=(x[i]-min)/(max-min)\n",
    "    return x \n"
   ]
  },
  {
   "cell_type": "code",
   "execution_count": 413,
   "id": "edb8546b-82a6-4337-9b71-ce407b748106",
   "metadata": {},
   "outputs": [],
   "source": [
    "def rescale(x):\n",
    "    max=max(x)\n",
    "    for i in range(len(x)):\n",
    "        x[i]=x[i]/max \n",
    "    return x"
   ]
  },
  {
   "cell_type": "code",
   "execution_count": 414,
   "id": "fd124c52-a0fb-4eac-9bd1-072c34adfed3",
   "metadata": {},
   "outputs": [],
   "source": [
    "import numpy as np\n",
    "import matplotlib.pyplot as plt \n",
    "import sys\n",
    "sys.setrecursionlimit(10000)\n",
    "x=np.array([-3,-2,-1,0,1,2,3])\n",
    "y=np.array(x**2)"
   ]
  },
  {
   "cell_type": "code",
   "execution_count": 415,
   "id": "81dc4f28-b9bd-48f9-ab0f-a0770b3ddf6a",
   "metadata": {},
   "outputs": [
    {
     "data": {
      "text/plain": [
       "(array([-3, -2, -1,  0,  1,  2,  3]), array([9, 4, 1, 0, 1, 4, 9]))"
      ]
     },
     "execution_count": 415,
     "metadata": {},
     "output_type": "execute_result"
    }
   ],
   "source": [
    "\n",
    "x,y"
   ]
  },
  {
   "cell_type": "code",
   "execution_count": 416,
   "id": "5987d5bc-37ce-4fac-b6d2-dd5822d4ed70",
   "metadata": {},
   "outputs": [
    {
     "data": {
      "text/plain": [
       "<matplotlib.collections.PathCollection at 0x24595826720>"
      ]
     },
     "execution_count": 416,
     "metadata": {},
     "output_type": "execute_result"
    },
    {
     "data": {
      "image/png": "[encoded data removed]",
      "text/plain": [
       "<Figure size 640x480 with 1 Axes>"
      ]
     },
     "metadata": {},
     "output_type": "display_data"
    }
   ],
   "source": [
    "plt.plot(x,y)\n",
    "plt.scatter(x,y,c='r',marker='*')"
   ]
  },
  {
   "cell_type": "code",
   "execution_count": 417,
   "id": "7cde57b4-7678-475a-8bdb-496b4e88fe3c",
   "metadata": {},
   "outputs": [],
   "source": [
    "x_train=np.array([(0,0)]*7)"
   ]
  },
  {
   "cell_type": "code",
   "execution_count": 418,
   "id": "2b908a68-a9f1-41f9-bc7a-f84709d44f73",
   "metadata": {},
   "outputs": [],
   "source": [
    "for i in range(len(x)):\n",
    "    x_train[i]=(x[i]**2,x[i])"
   ]
  },
  {
   "cell_type": "code",
   "execution_count": 419,
   "id": "a11659a0-8ece-4122-a642-ad7e3e966f03",
   "metadata": {},
   "outputs": [
    {
     "data": {
      "text/plain": [
       "array([[ 9, -3],\n",
       "       [ 4, -2],\n",
       "       [ 1, -1],\n",
       "       [ 0,  0],\n",
       "       [ 1,  1],\n",
       "       [ 4,  2],\n",
       "       [ 9,  3]])"
      ]
     },
     "execution_count": 419,
     "metadata": {},
     "output_type": "execute_result"
    }
   ],
   "source": [
    "x_train"
   ]
  },
  {
   "cell_type": "code",
   "execution_count": 420,
   "id": "b9c183e1-8fa1-4162-b8be-e48256e20cbf",
   "metadata": {},
   "outputs": [],
   "source": [
    "y_train=y"
   ]
  },
  {
   "cell_type": "code",
   "execution_count": 421,
   "id": "0d81b545-dbff-4902-9f84-fb44a8c4ede9",
   "metadata": {},
   "outputs": [
    {
     "data": {
      "text/plain": [
       "array([9, 4, 1, 0, 1, 4, 9])"
      ]
     },
     "execution_count": 421,
     "metadata": {},
     "output_type": "execute_result"
    }
   ],
   "source": [
    "y_train"
   ]
  },
  {
   "cell_type": "code",
   "execution_count": null,
   "id": "3650c989-e34f-4d49-8250-f252e15499c2",
   "metadata": {},
   "outputs": [],
   "source": []
  },
  {
   "cell_type": "code",
   "execution_count": 422,
   "id": "ad527b51-1c7d-484a-9ea5-765135773065",
   "metadata": {},
   "outputs": [],
   "source": [
    "def compute_cost(w,b,x,y):\n",
    "    m=len(x)\n",
    "    cost=0\n",
    "    for i in range(m):\n",
    "        cost+=(np.dot(w,x[i])+b-y[i])**2\n",
    "    return cost/(2*m)"
   ]
  },
  {
   "cell_type": "code",
   "execution_count": 423,
   "id": "d7910b8e-dd67-4d21-b8e3-8975586fc6cc",
   "metadata": {},
   "outputs": [],
   "source": [
    "def dJ_dwk(w,b,x,y,k):\n",
    "    m=len(x)\n",
    "    diff=0\n",
    "    for i in range(m):\n",
    "        diff+=(np.dot(w,x[i])+b-y[i])*x[i][k]\n",
    "    return diff/m"
   ]
  },
  {
   "cell_type": "code",
   "execution_count": 424,
   "id": "26ecb8b1-e74b-4e94-b5f6-8f31b4efd113",
   "metadata": {},
   "outputs": [],
   "source": [
    "def dJ_db(w,b,x,y):\n",
    "    m=len(x)\n",
    "    diff=0\n",
    "    for i in range(m):\n",
    "        diff+=(np.dot(w,x[i])+b-y[i])\n",
    "    return diff/m"
   ]
  },
  {
   "cell_type": "code",
   "execution_count": 425,
   "id": "7fd775b6-8c24-4c89-8a75-228bb78f1f36",
   "metadata": {},
   "outputs": [],
   "source": [
    "def gradient_descent(w,b,x,y,init_cost,l_r,max_steps=10000,step=0):\n",
    "    m=len(x)\n",
    "    n=len(w)\n",
    "    if init_cost is None:\n",
    "        init_cost=compute_cost(w,b,x,y)\n",
    "    new_w=w.copy()\n",
    "    for r in range(n):\n",
    "        new_w[r]=new_w[r]-(l_r*(dJ_dwk(w,b,x,y,r)))\n",
    "    new_b=b-l_r*(dJ_db(w,b,x,y))\n",
    "    new_cost=compute_cost(new_w,new_b,x,y)\n",
    "    if new_cost<init_cost and step<max_steps:\n",
    "        return gradient_descent(new_w,new_b,x,y,new_cost,l_r,max_steps,step+1)\n",
    "    else:\n",
    "        return new_w,new_b"
   ]
  },
  {
   "cell_type": "code",
   "execution_count": 426,
   "id": "7a9e2792-2702-4dd9-941a-d236e5f70ef8",
   "metadata": {},
   "outputs": [],
   "source": [
    "w=np.array([22.0,6.0])\n",
    "b=-25"
   ]
  },
  {
   "cell_type": "code",
   "execution_count": 427,
   "id": "67d3a04f-b778-4cc1-9c7d-34264ab33980",
   "metadata": {},
   "outputs": [
    {
     "data": {
      "text/plain": [
       "(array([1.00000000e+00, 1.10924299e-16]), -8.776800746736967e-14)"
      ]
     },
     "execution_count": 427,
     "metadata": {},
     "output_type": "execute_result"
    }
   ],
   "source": [
    "gradient_descent(w,b,x_train,y_train,None,0.01,max_steps=10000,step=0)"
   ]
  },
  {
   "cell_type": "code",
   "execution_count": null,
   "id": "e92285cb-fc5e-4be6-9d57-82909ef57a29",
   "metadata": {},
   "outputs": [],
   "source": [
    "print(\"Final weights:\", final_w)\n",
    "print(\"Final bias:\", final_b)"
   ]
  },
  {
   "cell_type": "code",
   "execution_count": null,
   "id": "4292ac93-90f4-4181-8600-7fd7e46bcc6b",
   "metadata": {},
   "outputs": [],
   "source": []
  }
 ],
 "metadata": {
  "kernelspec": {
   "display_name": "Python 3 (ipykernel)",
   "language": "python",
   "name": "python3"
  },
  "language_info": {
   "codemirror_mode": {
    "name": "ipython",
    "version": 3
   },
   "file_extension": ".py",
   "mimetype": "text/x-python",
   "name": "python",
   "nbconvert_exporter": "python",
   "pygments_lexer": "ipython3",
   "version": "3.12.4"
  }
 },
 "nbformat": 4,
 "nbformat_minor": 5
}
