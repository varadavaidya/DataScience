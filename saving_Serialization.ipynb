{
 "cells": [
  {
   "cell_type": "code",
   "execution_count": 22,
   "id": "b26b4553-5b74-41c8-bdd4-d4f370ce0e0a",
   "metadata": {},
   "outputs": [],
   "source": [
    "import tensorflow as tf\n",
    "\n",
    "# Define model and optimizer\n",
    "model = tf.keras.Sequential([\n",
    "    tf.keras.layers.Dense(64, activation='relu'),\n",
    "    tf.keras.layers.Dense(1)\n",
    "])\n",
    "optimizer = tf.keras.optimizers.Adam()\n",
    "\n",
    "# Compile\n",
    "model.compile(optimizer=optimizer, loss='mse')\n"
   ]
  },
  {
   "cell_type": "code",
   "execution_count": 23,
   "id": "3cc33f85-97e0-4c26-8e08-47497de97de1",
   "metadata": {},
   "outputs": [],
   "source": [
    "# Setup checkpoint directory and object\n",
    "ckpt = tf.train.Checkpoint(model=model, optimizer=optimizer)\n",
    "ckpt_manager = tf.train.CheckpointManager(ckpt, 'checkpoints/', max_to_keep=3)\n"
   ]
  },
  {
   "cell_type": "code",
   "execution_count": 24,
   "id": "203bb33a-71b2-44a4-ad4e-b28e705dd81b",
   "metadata": {},
   "outputs": [
    {
     "name": "stdout",
     "output_type": "stream",
     "text": [
      "Training from scratch\n"
     ]
    }
   ],
   "source": [
    "if ckpt_manager.latest_checkpoint:\n",
    "    print(\"Restoring from\", ckpt_manager.latest_checkpoint)\n",
    "    ckpt.restore(ckpt_manager.latest_checkpoint)\n",
    "else:\n",
    "    print(\"Training from scratch\")\n"
   ]
  },
  {
   "cell_type": "code",
   "execution_count": 25,
   "id": "7fdb14a7-4633-4e22-8b80-c6263712f98b",
   "metadata": {},
   "outputs": [],
   "source": [
    "for epoch in range(10):\n",
    "    # ... your training loop or model.fit\n",
    "    # Save checkpoint after each epoch\n",
    "    ckpt_manager.save()\n"
   ]
  },
  {
   "cell_type": "code",
   "execution_count": null,
   "id": "e99dd2be-645d-4179-99f8-0244777edfc5",
   "metadata": {},
   "outputs": [],
   "source": []
  }
 ],
 "metadata": {
  "kernelspec": {
   "display_name": "Python 3 (ipykernel)",
   "language": "python",
   "name": "python3"
  },
  "language_info": {
   "codemirror_mode": {
    "name": "ipython",
    "version": 3
   },
   "file_extension": ".py",
   "mimetype": "text/x-python",
   "name": "python",
   "nbconvert_exporter": "python",
   "pygments_lexer": "ipython3",
   "version": "3.10.9"
  }
 },
 "nbformat": 4,
 "nbformat_minor": 5
}
