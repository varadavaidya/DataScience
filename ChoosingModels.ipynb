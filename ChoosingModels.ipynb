{
 "cells": [
  {
   "cell_type": "code",
   "execution_count": 323,
   "id": "b18f60a2-ffd8-4ba0-a0cd-f45ef4716614",
   "metadata": {},
   "outputs": [],
   "source": [
    "import numpy as np\n",
    "import pandas as pd\n",
    "import sklearn\n",
    "from sklearn.linear_model import LinearRegression\n",
    "from sklearn.preprocessing import StandardScaler,PolynomialFeatures\n",
    "from sklearn.model_selection import train_test_split\n",
    "from sklearn.metrics import mean_squared_error\n",
    "\n",
    "import matplotlib.pyplot as plt"
   ]
  },
  {
   "cell_type": "code",
   "execution_count": 324,
   "id": "32779b2e-1f4e-46e5-bff3-2ec9f4d3e658",
   "metadata": {
    "jupyter": {
     "source_hidden": true
    }
   },
   "outputs": [],
   "source": [
    "data=np.array([[1651.  ,  432.65],\n",
    "       [1691.82,  454.94],\n",
    "       [1732.63,  471.53],\n",
    "       [1773.45,  482.51],\n",
    "       [1814.27,  468.36],\n",
    "       [1855.08,  482.15],\n",
    "       [1895.9 ,  540.02],\n",
    "       [1936.71,  534.58],\n",
    "       [1977.53,  558.35],\n",
    "       [2018.35,  566.42],\n",
    "       [2059.16,  581.4 ],\n",
    "       [2099.98,  596.46],\n",
    "       [2140.8 ,  596.71],\n",
    "       [2181.61,  619.45],\n",
    "       [2222.43,  616.58],\n",
    "       [2263.24,  653.16],\n",
    "       [2304.06,  666.52],\n",
    "       [2344.88,  670.59],\n",
    "       [2385.69,  669.02],\n",
    "       [2426.51,  678.91],\n",
    "       [2467.33,  707.44],\n",
    "       [2508.14,  710.76],\n",
    "       [2548.96,  745.19],\n",
    "       [2589.78,  729.85],\n",
    "       [2630.59,  743.8 ],\n",
    "       [2671.41,  738.2 ],\n",
    "       [2712.22,  772.95],\n",
    "       [2753.04,  772.22],\n",
    "       [2793.86,  784.21],\n",
    "       [2834.67,  776.43],\n",
    "       [2875.49,  804.78],\n",
    "       [2916.31,  833.27],\n",
    "       [2957.12,  825.69],\n",
    "       [2997.94,  821.05],\n",
    "       [3038.76,  833.82],\n",
    "       [3079.57,  833.06],\n",
    "       [3120.39,  825.7 ],\n",
    "       [3161.2 ,  843.58],\n",
    "       [3202.02,  869.4 ],\n",
    "       [3242.84,  851.5 ],\n",
    "       [3283.65,  863.18],\n",
    "       [3324.47,  853.01],\n",
    "       [3365.29,  877.16],\n",
    "       [3406.1 ,  863.74],\n",
    "       [3446.92,  874.67],\n",
    "       [3487.73,  877.74],\n",
    "       [3528.55,  874.11],\n",
    "       [3569.37,  882.8 ],\n",
    "       [3610.18,  910.83],\n",
    "       [3651.  ,  897.42]])"
   ]
  },
  {
   "cell_type": "code",
   "execution_count": 325,
   "id": "6e054319-5b22-47b4-acc5-51fad51a67b9",
   "metadata": {},
   "outputs": [],
   "source": [
    "x=data[:,0]\n",
    "y=data[:,1]"
   ]
  },
  {
   "cell_type": "code",
   "execution_count": 326,
   "id": "f3007990-df6b-4713-96f9-c0fc08f651a0",
   "metadata": {},
   "outputs": [
    {
     "data": {
      "text/plain": [
       "((50, 1),\n",
       " array([[1651.  ],\n",
       "        [1691.82],\n",
       "        [1732.63],\n",
       "        [1773.45],\n",
       "        [1814.27],\n",
       "        [1855.08],\n",
       "        [1895.9 ],\n",
       "        [1936.71],\n",
       "        [1977.53],\n",
       "        [2018.35],\n",
       "        [2059.16],\n",
       "        [2099.98],\n",
       "        [2140.8 ],\n",
       "        [2181.61],\n",
       "        [2222.43],\n",
       "        [2263.24],\n",
       "        [2304.06],\n",
       "        [2344.88],\n",
       "        [2385.69],\n",
       "        [2426.51],\n",
       "        [2467.33],\n",
       "        [2508.14],\n",
       "        [2548.96],\n",
       "        [2589.78],\n",
       "        [2630.59],\n",
       "        [2671.41],\n",
       "        [2712.22],\n",
       "        [2753.04],\n",
       "        [2793.86],\n",
       "        [2834.67],\n",
       "        [2875.49],\n",
       "        [2916.31],\n",
       "        [2957.12],\n",
       "        [2997.94],\n",
       "        [3038.76],\n",
       "        [3079.57],\n",
       "        [3120.39],\n",
       "        [3161.2 ],\n",
       "        [3202.02],\n",
       "        [3242.84],\n",
       "        [3283.65],\n",
       "        [3324.47],\n",
       "        [3365.29],\n",
       "        [3406.1 ],\n",
       "        [3446.92],\n",
       "        [3487.73],\n",
       "        [3528.55],\n",
       "        [3569.37],\n",
       "        [3610.18],\n",
       "        [3651.  ]]))"
      ]
     },
     "execution_count": 326,
     "metadata": {},
     "output_type": "execute_result"
    }
   ],
   "source": [
    "x=np.expand_dims(x,axis=1)\n",
    "x.shape,x"
   ]
  },
  {
   "cell_type": "code",
   "execution_count": 327,
   "id": "942e9c30-cefe-4352-ae3f-43aef9e23ef0",
   "metadata": {},
   "outputs": [
    {
     "data": {
      "text/plain": [
       "(50, 1)"
      ]
     },
     "execution_count": 327,
     "metadata": {},
     "output_type": "execute_result"
    }
   ],
   "source": [
    "y=np.expand_dims(y,axis=1)\n",
    "y.shape"
   ]
  },
  {
   "cell_type": "code",
   "execution_count": 328,
   "id": "a9e60dcb-6ad2-48e8-90b4-bc9481daba61",
   "metadata": {},
   "outputs": [],
   "source": [
    "x_train, x_, y_train, y_ = train_test_split(x, y, test_size=0.40, random_state=1)"
   ]
  },
  {
   "cell_type": "code",
   "execution_count": 329,
   "id": "c3293021-a227-4bf2-935e-d397744c52f9",
   "metadata": {},
   "outputs": [],
   "source": [
    "x_cv,x_test,y_cv,y_test=train_test_split(x_,y_,test_size=0.5,random_state=1)"
   ]
  },
  {
   "cell_type": "code",
   "execution_count": 330,
   "id": "9e47529c-968f-43e9-98e5-6a8033c86853",
   "metadata": {
    "jupyter": {
     "source_hidden": true
    }
   },
   "outputs": [
    {
     "data": {
      "text/plain": [
       "(array([[3324.47],\n",
       "        [2344.88],\n",
       "        [3487.73],\n",
       "        [2630.59],\n",
       "        [2589.78],\n",
       "        [1814.27],\n",
       "        [2997.94],\n",
       "        [2222.43],\n",
       "        [2875.49],\n",
       "        [2059.16],\n",
       "        [2793.86],\n",
       "        [3446.92],\n",
       "        [3038.76],\n",
       "        [2385.69],\n",
       "        [2467.33],\n",
       "        [2671.41],\n",
       "        [1895.9 ],\n",
       "        [1936.71],\n",
       "        [3569.37],\n",
       "        [1691.82],\n",
       "        [2304.06],\n",
       "        [1651.  ],\n",
       "        [2263.24],\n",
       "        [1855.08],\n",
       "        [2099.98],\n",
       "        [2018.35],\n",
       "        [1977.53],\n",
       "        [2140.8 ],\n",
       "        [3406.1 ],\n",
       "        [3161.2 ]]),\n",
       " array([[3120.39],\n",
       "        [2753.04],\n",
       "        [2181.61],\n",
       "        [2548.96],\n",
       "        [2916.31],\n",
       "        [3365.29],\n",
       "        [3528.55],\n",
       "        [2508.14],\n",
       "        [3242.84],\n",
       "        [1773.45]]),\n",
       " array([[3202.02],\n",
       "        [3651.  ],\n",
       "        [3610.18],\n",
       "        [2957.12],\n",
       "        [3283.65],\n",
       "        [2426.51],\n",
       "        [1732.63],\n",
       "        [2712.22],\n",
       "        [2834.67],\n",
       "        [3079.57]]))"
      ]
     },
     "execution_count": 330,
     "metadata": {},
     "output_type": "execute_result"
    }
   ],
   "source": [
    "x_train,x_cv,x_test"
   ]
  },
  {
   "cell_type": "code",
   "execution_count": 331,
   "id": "31a50acb-e7b3-44ce-ae2e-9c1550d4dce0",
   "metadata": {},
   "outputs": [
    {
     "data": {
      "text/plain": [
       "(array([[853.01],\n",
       "        [670.59],\n",
       "        [877.74],\n",
       "        [743.8 ],\n",
       "        [729.85],\n",
       "        [468.36],\n",
       "        [821.05],\n",
       "        [616.58],\n",
       "        [804.78],\n",
       "        [581.4 ],\n",
       "        [784.21],\n",
       "        [874.67],\n",
       "        [833.82],\n",
       "        [669.02],\n",
       "        [707.44],\n",
       "        [738.2 ],\n",
       "        [540.02],\n",
       "        [534.58],\n",
       "        [882.8 ],\n",
       "        [454.94],\n",
       "        [666.52],\n",
       "        [432.65],\n",
       "        [653.16],\n",
       "        [482.15],\n",
       "        [596.46],\n",
       "        [566.42],\n",
       "        [558.35],\n",
       "        [596.71],\n",
       "        [863.74],\n",
       "        [843.58]]),\n",
       " array([[825.7 ],\n",
       "        [772.22],\n",
       "        [619.45],\n",
       "        [745.19],\n",
       "        [833.27],\n",
       "        [877.16],\n",
       "        [874.11],\n",
       "        [710.76],\n",
       "        [851.5 ],\n",
       "        [482.51]]),\n",
       " array([[869.4 ],\n",
       "        [897.42],\n",
       "        [910.83],\n",
       "        [825.69],\n",
       "        [863.18],\n",
       "        [678.91],\n",
       "        [471.53],\n",
       "        [772.95],\n",
       "        [776.43],\n",
       "        [833.06]]))"
      ]
     },
     "execution_count": 331,
     "metadata": {},
     "output_type": "execute_result"
    }
   ],
   "source": [
    "y_train,y_cv,y_test"
   ]
  },
  {
   "cell_type": "code",
   "execution_count": 332,
   "id": "5889e05c-68bd-4220-ba72-f3a230ae88fd",
   "metadata": {},
   "outputs": [
    {
     "data": {
      "text/plain": [
       "((30, 1), (10, 1), (10, 1))"
      ]
     },
     "execution_count": 332,
     "metadata": {},
     "output_type": "execute_result"
    }
   ],
   "source": [
    "x_train.shape,x_cv.shape,x_test.shape"
   ]
  },
  {
   "cell_type": "code",
   "execution_count": 333,
   "id": "8cb32c3f-0e9f-4686-8a01-2a044727e78a",
   "metadata": {},
   "outputs": [
    {
     "data": {
      "text/plain": [
       "((30, 1), (10, 1), (10, 1))"
      ]
     },
     "execution_count": 333,
     "metadata": {},
     "output_type": "execute_result"
    }
   ],
   "source": [
    "y_train.shape,y_cv.shape,y_test.shape"
   ]
  },
  {
   "cell_type": "code",
   "execution_count": 334,
   "id": "5eece78a-272f-4b0f-8069-8a90075322c0",
   "metadata": {},
   "outputs": [
    {
     "data": {
      "text/plain": [
       "Text(0, 0.5, 'y')"
      ]
     },
     "execution_count": 334,
     "metadata": {},
     "output_type": "execute_result"
    },
    {
     "data": {
      "image/png": "[encoded data removed]",
      "text/plain": [
       "<Figure size 640x480 with 1 Axes>"
      ]
     },
     "metadata": {},
     "output_type": "display_data"
    }
   ],
   "source": [
    "plt.scatter(x_train,y_train, c='b',marker='x',label='train_set')\n",
    "plt.scatter(x_cv,y_cv, c='r',marker='o',label='cross_validation_Set')\n",
    "plt.scatter(x_test,y_test, c='g',marker='*',label='test_set')\n",
    "plt.legend()\n",
    "plt.xlabel('x')\n",
    "plt.ylabel('y')"
   ]
  },
  {
   "cell_type": "code",
   "execution_count": 335,
   "id": "d5253e8c-1282-467a-a3b1-4118ebf2fb17",
   "metadata": {},
   "outputs": [],
   "source": [
    "feature_scaling=StandardScaler()\n",
    "x_train_scaled=feature_scaling.fit_transform(x_train)"
   ]
  },
  {
   "cell_type": "code",
   "execution_count": 336,
   "id": "804b040c-a6f0-4be9-8799-269d9df5920e",
   "metadata": {},
   "outputs": [
    {
     "data": {
      "text/plain": [
       "array([[ 1.42716085],\n",
       "       [-0.27690826],\n",
       "       [ 1.71116367],\n",
       "       [ 0.22010538],\n",
       "       [ 0.14911337],\n",
       "       [-1.19994352],\n",
       "       [ 0.85913782],\n",
       "       [-0.48991907],\n",
       "       [ 0.646127  ],\n",
       "       [-0.77393929],\n",
       "       [ 0.50412559],\n",
       "       [ 1.64017167],\n",
       "       [ 0.93014722],\n",
       "       [-0.20591625],\n",
       "       [-0.06389745],\n",
       "       [ 0.29111478],\n",
       "       [-1.05794211],\n",
       "       [-0.9869501 ],\n",
       "       [ 1.85318248],\n",
       "       [-1.41295433],\n",
       "       [-0.34791766],\n",
       "       [-1.48396374],\n",
       "       [-0.41892706],\n",
       "       [-1.12895151],\n",
       "       [-0.70292989],\n",
       "       [-0.8449313 ],\n",
       "       [-0.9159407 ],\n",
       "       [-0.63192048],\n",
       "       [ 1.56916226],\n",
       "       [ 1.14314064]])"
      ]
     },
     "execution_count": 336,
     "metadata": {},
     "output_type": "execute_result"
    }
   ],
   "source": [
    "x_train_scaled"
   ]
  },
  {
   "cell_type": "code",
   "execution_count": 337,
   "id": "85d619ef-7763-49d4-80f9-8130d1b31a00",
   "metadata": {},
   "outputs": [],
   "source": [
    "x_cv_scaled= feature_scaling.transform(x_cv)\n",
    "x_test_scaled=feature_scaling.transform(x_test)"
   ]
  },
  {
   "cell_type": "code",
   "execution_count": 338,
   "id": "711f8fbc-faa3-436b-9d4a-3988c85dd42d",
   "metadata": {},
   "outputs": [
    {
     "data": {
      "text/plain": [
       "Text(0, 0.5, 'y')"
      ]
     },
     "execution_count": 338,
     "metadata": {},
     "output_type": "execute_result"
    },
    {
     "data": {
      "image/png": "[encoded data removed]",
      "text/plain": [
       "<Figure size 640x480 with 1 Axes>"
      ]
     },
     "metadata": {},
     "output_type": "display_data"
    }
   ],
   "source": [
    "plt.scatter(x_train_scaled,y_train, c='b',marker='x',label='train_set')\n",
    "plt.scatter(x_cv_scaled,y_cv, c='r',marker='o',label='cross_validation_Set')\n",
    "plt.scatter(x_test_scaled,y_test, c='g',marker='*',label='test_set')\n",
    "plt.legend()\n",
    "plt.title('scaled')\n",
    "plt.xlabel('x')\n",
    "plt.ylabel('y')"
   ]
  },
  {
   "cell_type": "code",
   "execution_count": 339,
   "id": "472d1b14-c005-4ac8-9cbe-015c141ac9c7",
   "metadata": {},
   "outputs": [],
   "source": [
    "model=LinearRegression()"
   ]
  },
  {
   "cell_type": "code",
   "execution_count": 340,
   "id": "26110e89-6dfa-4887-a6fc-de98fe3d1aad",
   "metadata": {},
   "outputs": [
    {
     "data": {
      "text/html": [
       "<style>#sk-container-id-13 {\n",
       "  /* Definition of color scheme common for light and dark mode */\n",
       "  --sklearn-color-text: #000;\n",
       "  --sklearn-color-text-muted: #666;\n",
       "  --sklearn-color-line: gray;\n",
       "  /* Definition of color scheme for unfitted estimators */\n",
       "  --sklearn-color-unfitted-level-0: #fff5e6;\n",
       "  --sklearn-color-unfitted-level-1: #f6e4d2;\n",
       "  --sklearn-color-unfitted-level-2: #ffe0b3;\n",
       "  --sklearn-color-unfitted-level-3: chocolate;\n",
       "  /* Definition of color scheme for fitted estimators */\n",
       "  --sklearn-color-fitted-level-0: #f0f8ff;\n",
       "  --sklearn-color-fitted-level-1: #d4ebff;\n",
       "  --sklearn-color-fitted-level-2: #b3dbfd;\n",
       "  --sklearn-color-fitted-level-3: cornflowerblue;\n",
       "\n",
       "  /* Specific color for light theme */\n",
       "  --sklearn-color-text-on-default-background: var(--sg-text-color, var(--theme-code-foreground, var(--jp-content-font-color1, black)));\n",
       "  --sklearn-color-background: var(--sg-background-color, var(--theme-background, var(--jp-layout-color0, white)));\n",
       "  --sklearn-color-border-box: var(--sg-text-color, var(--theme-code-foreground, var(--jp-content-font-color1, black)));\n",
       "  --sklearn-color-icon: #696969;\n",
       "\n",
       "  @media (prefers-color-scheme: dark) {\n",
       "    /* Redefinition of color scheme for dark theme */\n",
       "    --sklearn-color-text-on-default-background: var(--sg-text-color, var(--theme-code-foreground, var(--jp-content-font-color1, white)));\n",
       "    --sklearn-color-background: var(--sg-background-color, var(--theme-background, var(--jp-layout-color0, #111)));\n",
       "    --sklearn-color-border-box: var(--sg-text-color, var(--theme-code-foreground, var(--jp-content-font-color1, white)));\n",
       "    --sklearn-color-icon: #878787;\n",
       "  }\n",
       "}\n",
       "\n",
       "#sk-container-id-13 {\n",
       "  color: var(--sklearn-color-text);\n",
       "}\n",
       "\n",
       "#sk-container-id-13 pre {\n",
       "  padding: 0;\n",
       "}\n",
       "\n",
       "#sk-container-id-13 input.sk-hidden--visually {\n",
       "  border: 0;\n",
       "  clip: rect(1px 1px 1px 1px);\n",
       "  clip: rect(1px, 1px, 1px, 1px);\n",
       "  height: 1px;\n",
       "  margin: -1px;\n",
       "  overflow: hidden;\n",
       "  padding: 0;\n",
       "  position: absolute;\n",
       "  width: 1px;\n",
       "}\n",
       "\n",
       "#sk-container-id-13 div.sk-dashed-wrapped {\n",
       "  border: 1px dashed var(--sklearn-color-line);\n",
       "  margin: 0 0.4em 0.5em 0.4em;\n",
       "  box-sizing: border-box;\n",
       "  padding-bottom: 0.4em;\n",
       "  background-color: var(--sklearn-color-background);\n",
       "}\n",
       "\n",
       "#sk-container-id-13 div.sk-container {\n",
       "  /* jupyter's `normalize.less` sets `[hidden] { display: none; }`\n",
       "     but bootstrap.min.css set `[hidden] { display: none !important; }`\n",
       "     so we also need the `!important` here to be able to override the\n",
       "     default hidden behavior on the sphinx rendered scikit-learn.org.\n",
       "     See: https://github.com/scikit-learn/scikit-learn/issues/21755 */\n",
       "  display: inline-block !important;\n",
       "  position: relative;\n",
       "}\n",
       "\n",
       "#sk-container-id-13 div.sk-text-repr-fallback {\n",
       "  display: none;\n",
       "}\n",
       "\n",
       "div.sk-parallel-item,\n",
       "div.sk-serial,\n",
       "div.sk-item {\n",
       "  /* draw centered vertical line to link estimators */\n",
       "  background-image: linear-gradient(var(--sklearn-color-text-on-default-background), var(--sklearn-color-text-on-default-background));\n",
       "  background-size: 2px 100%;\n",
       "  background-repeat: no-repeat;\n",
       "  background-position: center center;\n",
       "}\n",
       "\n",
       "/* Parallel-specific style estimator block */\n",
       "\n",
       "#sk-container-id-13 div.sk-parallel-item::after {\n",
       "  content: \"\";\n",
       "  width: 100%;\n",
       "  border-bottom: 2px solid var(--sklearn-color-text-on-default-background);\n",
       "  flex-grow: 1;\n",
       "}\n",
       "\n",
       "#sk-container-id-13 div.sk-parallel {\n",
       "  display: flex;\n",
       "  align-items: stretch;\n",
       "  justify-content: center;\n",
       "  background-color: var(--sklearn-color-background);\n",
       "  position: relative;\n",
       "}\n",
       "\n",
       "#sk-container-id-13 div.sk-parallel-item {\n",
       "  display: flex;\n",
       "  flex-direction: column;\n",
       "}\n",
       "\n",
       "#sk-container-id-13 div.sk-parallel-item:first-child::after {\n",
       "  align-self: flex-end;\n",
       "  width: 50%;\n",
       "}\n",
       "\n",
       "#sk-container-id-13 div.sk-parallel-item:last-child::after {\n",
       "  align-self: flex-start;\n",
       "  width: 50%;\n",
       "}\n",
       "\n",
       "#sk-container-id-13 div.sk-parallel-item:only-child::after {\n",
       "  width: 0;\n",
       "}\n",
       "\n",
       "/* Serial-specific style estimator block */\n",
       "\n",
       "#sk-container-id-13 div.sk-serial {\n",
       "  display: flex;\n",
       "  flex-direction: column;\n",
       "  align-items: center;\n",
       "  background-color: var(--sklearn-color-background);\n",
       "  padding-right: 1em;\n",
       "  padding-left: 1em;\n",
       "}\n",
       "\n",
       "\n",
       "/* Toggleable style: style used for estimator/Pipeline/ColumnTransformer box that is\n",
       "clickable and can be expanded/collapsed.\n",
       "- Pipeline and ColumnTransformer use this feature and define the default style\n",
       "- Estimators will overwrite some part of the style using the `sk-estimator` class\n",
       "*/\n",
       "\n",
       "/* Pipeline and ColumnTransformer style (default) */\n",
       "\n",
       "#sk-container-id-13 div.sk-toggleable {\n",
       "  /* Default theme specific background. It is overwritten whether we have a\n",
       "  specific estimator or a Pipeline/ColumnTransformer */\n",
       "  background-color: var(--sklearn-color-background);\n",
       "}\n",
       "\n",
       "/* Toggleable label */\n",
       "#sk-container-id-13 label.sk-toggleable__label {\n",
       "  cursor: pointer;\n",
       "  display: flex;\n",
       "  width: 100%;\n",
       "  margin-bottom: 0;\n",
       "  padding: 0.5em;\n",
       "  box-sizing: border-box;\n",
       "  text-align: center;\n",
       "  align-items: start;\n",
       "  justify-content: space-between;\n",
       "  gap: 0.5em;\n",
       "}\n",
       "\n",
       "#sk-container-id-13 label.sk-toggleable__label .caption {\n",
       "  font-size: 0.6rem;\n",
       "  font-weight: lighter;\n",
       "  color: var(--sklearn-color-text-muted);\n",
       "}\n",
       "\n",
       "#sk-container-id-13 label.sk-toggleable__label-arrow:before {\n",
       "  /* Arrow on the left of the label */\n",
       "  content: \"▸\";\n",
       "  float: left;\n",
       "  margin-right: 0.25em;\n",
       "  color: var(--sklearn-color-icon);\n",
       "}\n",
       "\n",
       "#sk-container-id-13 label.sk-toggleable__label-arrow:hover:before {\n",
       "  color: var(--sklearn-color-text);\n",
       "}\n",
       "\n",
       "/* Toggleable content - dropdown */\n",
       "\n",
       "#sk-container-id-13 div.sk-toggleable__content {\n",
       "  max-height: 0;\n",
       "  max-width: 0;\n",
       "  overflow: hidden;\n",
       "  text-align: left;\n",
       "  /* unfitted */\n",
       "  background-color: var(--sklearn-color-unfitted-level-0);\n",
       "}\n",
       "\n",
       "#sk-container-id-13 div.sk-toggleable__content.fitted {\n",
       "  /* fitted */\n",
       "  background-color: var(--sklearn-color-fitted-level-0);\n",
       "}\n",
       "\n",
       "#sk-container-id-13 div.sk-toggleable__content pre {\n",
       "  margin: 0.2em;\n",
       "  border-radius: 0.25em;\n",
       "  color: var(--sklearn-color-text);\n",
       "  /* unfitted */\n",
       "  background-color: var(--sklearn-color-unfitted-level-0);\n",
       "}\n",
       "\n",
       "#sk-container-id-13 div.sk-toggleable__content.fitted pre {\n",
       "  /* unfitted */\n",
       "  background-color: var(--sklearn-color-fitted-level-0);\n",
       "}\n",
       "\n",
       "#sk-container-id-13 input.sk-toggleable__control:checked~div.sk-toggleable__content {\n",
       "  /* Expand drop-down */\n",
       "  max-height: 200px;\n",
       "  max-width: 100%;\n",
       "  overflow: auto;\n",
       "}\n",
       "\n",
       "#sk-container-id-13 input.sk-toggleable__control:checked~label.sk-toggleable__label-arrow:before {\n",
       "  content: \"▾\";\n",
       "}\n",
       "\n",
       "/* Pipeline/ColumnTransformer-specific style */\n",
       "\n",
       "#sk-container-id-13 div.sk-label input.sk-toggleable__control:checked~label.sk-toggleable__label {\n",
       "  color: var(--sklearn-color-text);\n",
       "  background-color: var(--sklearn-color-unfitted-level-2);\n",
       "}\n",
       "\n",
       "#sk-container-id-13 div.sk-label.fitted input.sk-toggleable__control:checked~label.sk-toggleable__label {\n",
       "  background-color: var(--sklearn-color-fitted-level-2);\n",
       "}\n",
       "\n",
       "/* Estimator-specific style */\n",
       "\n",
       "/* Colorize estimator box */\n",
       "#sk-container-id-13 div.sk-estimator input.sk-toggleable__control:checked~label.sk-toggleable__label {\n",
       "  /* unfitted */\n",
       "  background-color: var(--sklearn-color-unfitted-level-2);\n",
       "}\n",
       "\n",
       "#sk-container-id-13 div.sk-estimator.fitted input.sk-toggleable__control:checked~label.sk-toggleable__label {\n",
       "  /* fitted */\n",
       "  background-color: var(--sklearn-color-fitted-level-2);\n",
       "}\n",
       "\n",
       "#sk-container-id-13 div.sk-label label.sk-toggleable__label,\n",
       "#sk-container-id-13 div.sk-label label {\n",
       "  /* The background is the default theme color */\n",
       "  color: var(--sklearn-color-text-on-default-background);\n",
       "}\n",
       "\n",
       "/* On hover, darken the color of the background */\n",
       "#sk-container-id-13 div.sk-label:hover label.sk-toggleable__label {\n",
       "  color: var(--sklearn-color-text);\n",
       "  background-color: var(--sklearn-color-unfitted-level-2);\n",
       "}\n",
       "\n",
       "/* Label box, darken color on hover, fitted */\n",
       "#sk-container-id-13 div.sk-label.fitted:hover label.sk-toggleable__label.fitted {\n",
       "  color: var(--sklearn-color-text);\n",
       "  background-color: var(--sklearn-color-fitted-level-2);\n",
       "}\n",
       "\n",
       "/* Estimator label */\n",
       "\n",
       "#sk-container-id-13 div.sk-label label {\n",
       "  font-family: monospace;\n",
       "  font-weight: bold;\n",
       "  display: inline-block;\n",
       "  line-height: 1.2em;\n",
       "}\n",
       "\n",
       "#sk-container-id-13 div.sk-label-container {\n",
       "  text-align: center;\n",
       "}\n",
       "\n",
       "/* Estimator-specific */\n",
       "#sk-container-id-13 div.sk-estimator {\n",
       "  font-family: monospace;\n",
       "  border: 1px dotted var(--sklearn-color-border-box);\n",
       "  border-radius: 0.25em;\n",
       "  box-sizing: border-box;\n",
       "  margin-bottom: 0.5em;\n",
       "  /* unfitted */\n",
       "  background-color: var(--sklearn-color-unfitted-level-0);\n",
       "}\n",
       "\n",
       "#sk-container-id-13 div.sk-estimator.fitted {\n",
       "  /* fitted */\n",
       "  background-color: var(--sklearn-color-fitted-level-0);\n",
       "}\n",
       "\n",
       "/* on hover */\n",
       "#sk-container-id-13 div.sk-estimator:hover {\n",
       "  /* unfitted */\n",
       "  background-color: var(--sklearn-color-unfitted-level-2);\n",
       "}\n",
       "\n",
       "#sk-container-id-13 div.sk-estimator.fitted:hover {\n",
       "  /* fitted */\n",
       "  background-color: var(--sklearn-color-fitted-level-2);\n",
       "}\n",
       "\n",
       "/* Specification for estimator info (e.g. \"i\" and \"?\") */\n",
       "\n",
       "/* Common style for \"i\" and \"?\" */\n",
       "\n",
       ".sk-estimator-doc-link,\n",
       "a:link.sk-estimator-doc-link,\n",
       "a:visited.sk-estimator-doc-link {\n",
       "  float: right;\n",
       "  font-size: smaller;\n",
       "  line-height: 1em;\n",
       "  font-family: monospace;\n",
       "  background-color: var(--sklearn-color-background);\n",
       "  border-radius: 1em;\n",
       "  height: 1em;\n",
       "  width: 1em;\n",
       "  text-decoration: none !important;\n",
       "  margin-left: 0.5em;\n",
       "  text-align: center;\n",
       "  /* unfitted */\n",
       "  border: var(--sklearn-color-unfitted-level-1) 1pt solid;\n",
       "  color: var(--sklearn-color-unfitted-level-1);\n",
       "}\n",
       "\n",
       ".sk-estimator-doc-link.fitted,\n",
       "a:link.sk-estimator-doc-link.fitted,\n",
       "a:visited.sk-estimator-doc-link.fitted {\n",
       "  /* fitted */\n",
       "  border: var(--sklearn-color-fitted-level-1) 1pt solid;\n",
       "  color: var(--sklearn-color-fitted-level-1);\n",
       "}\n",
       "\n",
       "/* On hover */\n",
       "div.sk-estimator:hover .sk-estimator-doc-link:hover,\n",
       ".sk-estimator-doc-link:hover,\n",
       "div.sk-label-container:hover .sk-estimator-doc-link:hover,\n",
       ".sk-estimator-doc-link:hover {\n",
       "  /* unfitted */\n",
       "  background-color: var(--sklearn-color-unfitted-level-3);\n",
       "  color: var(--sklearn-color-background);\n",
       "  text-decoration: none;\n",
       "}\n",
       "\n",
       "div.sk-estimator.fitted:hover .sk-estimator-doc-link.fitted:hover,\n",
       ".sk-estimator-doc-link.fitted:hover,\n",
       "div.sk-label-container:hover .sk-estimator-doc-link.fitted:hover,\n",
       ".sk-estimator-doc-link.fitted:hover {\n",
       "  /* fitted */\n",
       "  background-color: var(--sklearn-color-fitted-level-3);\n",
       "  color: var(--sklearn-color-background);\n",
       "  text-decoration: none;\n",
       "}\n",
       "\n",
       "/* Span, style for the box shown on hovering the info icon */\n",
       ".sk-estimator-doc-link span {\n",
       "  display: none;\n",
       "  z-index: 9999;\n",
       "  position: relative;\n",
       "  font-weight: normal;\n",
       "  right: .2ex;\n",
       "  padding: .5ex;\n",
       "  margin: .5ex;\n",
       "  width: min-content;\n",
       "  min-width: 20ex;\n",
       "  max-width: 50ex;\n",
       "  color: var(--sklearn-color-text);\n",
       "  box-shadow: 2pt 2pt 4pt #999;\n",
       "  /* unfitted */\n",
       "  background: var(--sklearn-color-unfitted-level-0);\n",
       "  border: .5pt solid var(--sklearn-color-unfitted-level-3);\n",
       "}\n",
       "\n",
       ".sk-estimator-doc-link.fitted span {\n",
       "  /* fitted */\n",
       "  background: var(--sklearn-color-fitted-level-0);\n",
       "  border: var(--sklearn-color-fitted-level-3);\n",
       "}\n",
       "\n",
       ".sk-estimator-doc-link:hover span {\n",
       "  display: block;\n",
       "}\n",
       "\n",
       "/* \"?\"-specific style due to the `<a>` HTML tag */\n",
       "\n",
       "#sk-container-id-13 a.estimator_doc_link {\n",
       "  float: right;\n",
       "  font-size: 1rem;\n",
       "  line-height: 1em;\n",
       "  font-family: monospace;\n",
       "  background-color: var(--sklearn-color-background);\n",
       "  border-radius: 1rem;\n",
       "  height: 1rem;\n",
       "  width: 1rem;\n",
       "  text-decoration: none;\n",
       "  /* unfitted */\n",
       "  color: var(--sklearn-color-unfitted-level-1);\n",
       "  border: var(--sklearn-color-unfitted-level-1) 1pt solid;\n",
       "}\n",
       "\n",
       "#sk-container-id-13 a.estimator_doc_link.fitted {\n",
       "  /* fitted */\n",
       "  border: var(--sklearn-color-fitted-level-1) 1pt solid;\n",
       "  color: var(--sklearn-color-fitted-level-1);\n",
       "}\n",
       "\n",
       "/* On hover */\n",
       "#sk-container-id-13 a.estimator_doc_link:hover {\n",
       "  /* unfitted */\n",
       "  background-color: var(--sklearn-color-unfitted-level-3);\n",
       "  color: var(--sklearn-color-background);\n",
       "  text-decoration: none;\n",
       "}\n",
       "\n",
       "#sk-container-id-13 a.estimator_doc_link.fitted:hover {\n",
       "  /* fitted */\n",
       "  background-color: var(--sklearn-color-fitted-level-3);\n",
       "}\n",
       "</style><div id=\"sk-container-id-13\" class=\"sk-top-container\"><div class=\"sk-text-repr-fallback\"><pre>LinearRegression()</pre><b>In a Jupyter environment, please rerun this cell to show the HTML representation or trust the notebook. <br />On GitHub, the HTML representation is unable to render, please try loading this page with nbviewer.org.</b></div><div class=\"sk-container\" hidden><div class=\"sk-item\"><div class=\"sk-estimator fitted sk-toggleable\"><input class=\"sk-toggleable__control sk-hidden--visually\" id=\"sk-estimator-id-13\" type=\"checkbox\" checked><label for=\"sk-estimator-id-13\" class=\"sk-toggleable__label fitted sk-toggleable__label-arrow\"><div><div>LinearRegression</div></div><div><a class=\"sk-estimator-doc-link fitted\" rel=\"noreferrer\" target=\"_blank\" href=\"https://scikit-learn.org/1.6/modules/generated/sklearn.linear_model.LinearRegression.html\">?<span>Documentation for LinearRegression</span></a><span class=\"sk-estimator-doc-link fitted\">i<span>Fitted</span></span></div></label><div class=\"sk-toggleable__content fitted\"><pre>LinearRegression()</pre></div> </div></div></div></div>"
      ],
      "text/plain": [
       "LinearRegression()"
      ]
     },
     "execution_count": 340,
     "metadata": {},
     "output_type": "execute_result"
    }
   ],
   "source": [
    "model.fit(x_train_scaled,y_train)"
   ]
  },
  {
   "cell_type": "markdown",
   "id": "82e77d36-0a5f-449b-92e9-e6f0d9a82871",
   "metadata": {},
   "source": [
    "# Evaluation of Model"
   ]
  },
  {
   "cell_type": "code",
   "execution_count": 341,
   "id": "1b7bb15d-a157-4cd5-a5a1-f1e789b53528",
   "metadata": {},
   "outputs": [
    {
     "data": {
      "text/plain": [
       "array([[136.35695113]])"
      ]
     },
     "execution_count": 341,
     "metadata": {},
     "output_type": "execute_result"
    }
   ],
   "source": [
    "model.coef_"
   ]
  },
  {
   "cell_type": "code",
   "execution_count": 342,
   "id": "26b16bc1-f7b0-412a-b560-d1ac4987601b",
   "metadata": {},
   "outputs": [
    {
     "data": {
      "text/plain": [
       "array([681.55333333])"
      ]
     },
     "execution_count": 342,
     "metadata": {},
     "output_type": "execute_result"
    }
   ],
   "source": [
    "model.intercept_"
   ]
  },
  {
   "cell_type": "code",
   "execution_count": 343,
   "id": "27e375d1-2c20-4428-97e4-ac042d295ee7",
   "metadata": {},
   "outputs": [],
   "source": [
    "y_train_predicted = model.predict(x_train_scaled)"
   ]
  },
  {
   "cell_type": "code",
   "execution_count": 344,
   "id": "06f08a05-97dc-49b8-a4e8-9d9cb916c45e",
   "metadata": {},
   "outputs": [],
   "source": [
    "def meanSquaredError(x,y):\n",
    "    m=len(x)\n",
    "    error=0\n",
    "    for i in range(m):\n",
    "        error+=(x[i]-y[i])**2\n",
    "    return error/(2*m)"
   ]
  },
  {
   "cell_type": "code",
   "execution_count": 345,
   "id": "2d056630-19ea-431b-8d5b-06f9506f0a81",
   "metadata": {},
   "outputs": [],
   "source": [
    "mse_train=meanSquaredError(y_train,y_train_predicted)"
   ]
  },
  {
   "cell_type": "code",
   "execution_count": 346,
   "id": "5426bdcb-e34c-4f6d-80f0-ae3427e309ea",
   "metadata": {},
   "outputs": [
    {
     "data": {
      "text/plain": [
       "array([406.18142643])"
      ]
     },
     "execution_count": 346,
     "metadata": {},
     "output_type": "execute_result"
    }
   ],
   "source": [
    "mse_train"
   ]
  },
  {
   "cell_type": "code",
   "execution_count": 347,
   "id": "d6c43aba-1f11-4625-9b55-915d6309bc31",
   "metadata": {},
   "outputs": [],
   "source": [
    "y_cv_predicted=model.predict(x_cv_scaled)"
   ]
  },
  {
   "cell_type": "code",
   "execution_count": 348,
   "id": "450fa310-d6ba-4d08-99bd-443cc1fdef72",
   "metadata": {},
   "outputs": [
    {
     "data": {
      "text/plain": [
       "Text(0.5, 1.0, 'Linear Model')"
      ]
     },
     "execution_count": 348,
     "metadata": {},
     "output_type": "execute_result"
    },
    {
     "data": {
      "image/png": "[encoded data removed]",
      "text/plain": [
       "<Figure size 640x480 with 1 Axes>"
      ]
     },
     "metadata": {},
     "output_type": "display_data"
    }
   ],
   "source": [
    "plt.scatter(x_train_scaled,y_train_predicted,marker='o',color='g',label='train_predicted')\n",
    "plt.scatter(x_train_scaled,y_train,marker='x',color='r',label='train_scaled')\n",
    "plt.plot(x_train_scaled,y_train_predicted,color='g')\n",
    "plt.legend()\n",
    "plt.xlabel('x_train_scaled')\n",
    "plt.ylabel('y')\n",
    "plt.title('Linear Model')"
   ]
  },
  {
   "cell_type": "code",
   "execution_count": 349,
   "id": "62c80c62-3699-4c47-8f6f-0ba3cebf135c",
   "metadata": {},
   "outputs": [],
   "source": [
    "mse_cv=meanSquaredError(y_cv,y_cv_predicted)"
   ]
  },
  {
   "cell_type": "code",
   "execution_count": 350,
   "id": "c43d2376-4b52-4b3d-8472-bf65bd5f7d3a",
   "metadata": {},
   "outputs": [
    {
     "data": {
      "text/plain": [
       "array([551.76336868])"
      ]
     },
     "execution_count": 350,
     "metadata": {},
     "output_type": "execute_result"
    }
   ],
   "source": [
    "mse_cv"
   ]
  },
  {
   "cell_type": "markdown",
   "id": "a5759abb-9793-4a50-b667-31e0f2b03150",
   "metadata": {},
   "source": [
    "#until now linear model implemented\n",
    "# henceforth implementing Polynomial model"
   ]
  },
  {
   "cell_type": "code",
   "execution_count": 351,
   "id": "ca3842fe-b6b9-4366-9f5b-9f9b9a590829",
   "metadata": {},
   "outputs": [],
   "source": [
    "from sklearn.preprocessing import PolynomialFeatures"
   ]
  },
  {
   "cell_type": "code",
   "execution_count": 352,
   "id": "59578af6-1898-49d5-b866-5c7b4750d462",
   "metadata": {},
   "outputs": [],
   "source": [
    "poly_model=PolynomialFeatures()"
   ]
  },
  {
   "cell_type": "code",
   "execution_count": 353,
   "id": "bba5839d-34ee-4594-890c-297678468455",
   "metadata": {},
   "outputs": [],
   "source": [
    "x_train_map_degree2= poly_model.fit_transform(x_train)"
   ]
  },
  {
   "cell_type": "code",
   "execution_count": 354,
   "id": "afd97aff-b5e6-4d48-8cdf-cd34c6baa0f9",
   "metadata": {},
   "outputs": [],
   "source": [
    "feature_scaling = StandardScaler()"
   ]
  },
  {
   "cell_type": "code",
   "execution_count": 355,
   "id": "a34b10fb-cbc9-42d2-8682-3957b31d2211",
   "metadata": {},
   "outputs": [],
   "source": [
    "x_train_map_degree2_scaled=feature_scaling.fit_transform(x_train_map_degree2)"
   ]
  },
  {
   "cell_type": "code",
   "execution_count": 356,
   "id": "58b4885b-baa3-4c2c-ac7e-0e9feb9c3ebd",
   "metadata": {},
   "outputs": [
    {
     "data": {
      "text/plain": [
       "array([[ 0.        ,  1.42716085,  1.47236975],\n",
       "       [ 0.        , -0.27690826, -0.36461578],\n",
       "       [ 0.        ,  1.71116367,  1.84024054],\n",
       "       [ 0.        ,  0.22010538,  0.10558969],\n",
       "       [ 0.        ,  0.14911337,  0.03512103],\n",
       "       [ 0.        , -1.19994352, -1.09459103],\n",
       "       [ 0.        ,  0.85913782,  0.7895063 ],\n",
       "       [ 0.        , -0.48991907, -0.54960541],\n",
       "       [ 0.        ,  0.646127  ,  0.55161492],\n",
       "       [ 0.        , -0.77393929, -0.78083297],\n",
       "       [ 0.        ,  0.50412559,  0.39853748],\n",
       "       [ 0.        ,  1.64017167,  1.74663118],\n",
       "       [ 0.        ,  0.93014722,  0.87101439],\n",
       "       [ 0.        , -0.20591625, -0.30075882],\n",
       "       [ 0.        , -0.06389745, -0.16970696],\n",
       "       [ 0.        ,  0.29111478,  0.17717779],\n",
       "       [ 0.        , -1.05794211, -0.99441317],\n",
       "       [ 0.        , -0.9869501 , -0.94267759],\n",
       "       [ 0.        ,  1.85318248,  2.03081179],\n",
       "       [ 0.        , -1.41295433, -1.2365981 ],\n",
       "       [ 0.        , -0.34791766, -0.4273862 ],\n",
       "       [ 0.        , -1.48396374, -1.28173317],\n",
       "       [ 0.        , -0.41892706, -0.48905431],\n",
       "       [ 0.        , -1.12895151, -1.04505925],\n",
       "       [ 0.        , -0.70292989, -0.72467587],\n",
       "       [ 0.        , -0.8449313 , -0.83587441],\n",
       "       [ 0.        , -0.9159407 , -0.88982715],\n",
       "       [ 0.        , -0.63192048, -0.66741646],\n",
       "       [ 0.        ,  1.56916226,  1.65410106],\n",
       "       [ 0.        ,  1.14314064,  1.1221107 ]])"
      ]
     },
     "execution_count": 356,
     "metadata": {},
     "output_type": "execute_result"
    }
   ],
   "source": [
    "x_train_map_degree2_scaled"
   ]
  },
  {
   "cell_type": "code",
   "execution_count": 357,
   "id": "cc79700c-b4c8-4c6e-9eb5-c9250a625d08",
   "metadata": {},
   "outputs": [],
   "source": [
    "degree2_model=LinearRegression()"
   ]
  },
  {
   "cell_type": "code",
   "execution_count": 358,
   "id": "ff51712a-9fc7-4592-ad4a-28c1fad91150",
   "metadata": {},
   "outputs": [
    {
     "data": {
      "text/html": [
       "<style>#sk-container-id-14 {\n",
       "  /* Definition of color scheme common for light and dark mode */\n",
       "  --sklearn-color-text: #000;\n",
       "  --sklearn-color-text-muted: #666;\n",
       "  --sklearn-color-line: gray;\n",
       "  /* Definition of color scheme for unfitted estimators */\n",
       "  --sklearn-color-unfitted-level-0: #fff5e6;\n",
       "  --sklearn-color-unfitted-level-1: #f6e4d2;\n",
       "  --sklearn-color-unfitted-level-2: #ffe0b3;\n",
       "  --sklearn-color-unfitted-level-3: chocolate;\n",
       "  /* Definition of color scheme for fitted estimators */\n",
       "  --sklearn-color-fitted-level-0: #f0f8ff;\n",
       "  --sklearn-color-fitted-level-1: #d4ebff;\n",
       "  --sklearn-color-fitted-level-2: #b3dbfd;\n",
       "  --sklearn-color-fitted-level-3: cornflowerblue;\n",
       "\n",
       "  /* Specific color for light theme */\n",
       "  --sklearn-color-text-on-default-background: var(--sg-text-color, var(--theme-code-foreground, var(--jp-content-font-color1, black)));\n",
       "  --sklearn-color-background: var(--sg-background-color, var(--theme-background, var(--jp-layout-color0, white)));\n",
       "  --sklearn-color-border-box: var(--sg-text-color, var(--theme-code-foreground, var(--jp-content-font-color1, black)));\n",
       "  --sklearn-color-icon: #696969;\n",
       "\n",
       "  @media (prefers-color-scheme: dark) {\n",
       "    /* Redefinition of color scheme for dark theme */\n",
       "    --sklearn-color-text-on-default-background: var(--sg-text-color, var(--theme-code-foreground, var(--jp-content-font-color1, white)));\n",
       "    --sklearn-color-background: var(--sg-background-color, var(--theme-background, var(--jp-layout-color0, #111)));\n",
       "    --sklearn-color-border-box: var(--sg-text-color, var(--theme-code-foreground, var(--jp-content-font-color1, white)));\n",
       "    --sklearn-color-icon: #878787;\n",
       "  }\n",
       "}\n",
       "\n",
       "#sk-container-id-14 {\n",
       "  color: var(--sklearn-color-text);\n",
       "}\n",
       "\n",
       "#sk-container-id-14 pre {\n",
       "  padding: 0;\n",
       "}\n",
       "\n",
       "#sk-container-id-14 input.sk-hidden--visually {\n",
       "  border: 0;\n",
       "  clip: rect(1px 1px 1px 1px);\n",
       "  clip: rect(1px, 1px, 1px, 1px);\n",
       "  height: 1px;\n",
       "  margin: -1px;\n",
       "  overflow: hidden;\n",
       "  padding: 0;\n",
       "  position: absolute;\n",
       "  width: 1px;\n",
       "}\n",
       "\n",
       "#sk-container-id-14 div.sk-dashed-wrapped {\n",
       "  border: 1px dashed var(--sklearn-color-line);\n",
       "  margin: 0 0.4em 0.5em 0.4em;\n",
       "  box-sizing: border-box;\n",
       "  padding-bottom: 0.4em;\n",
       "  background-color: var(--sklearn-color-background);\n",
       "}\n",
       "\n",
       "#sk-container-id-14 div.sk-container {\n",
       "  /* jupyter's `normalize.less` sets `[hidden] { display: none; }`\n",
       "     but bootstrap.min.css set `[hidden] { display: none !important; }`\n",
       "     so we also need the `!important` here to be able to override the\n",
       "     default hidden behavior on the sphinx rendered scikit-learn.org.\n",
       "     See: https://github.com/scikit-learn/scikit-learn/issues/21755 */\n",
       "  display: inline-block !important;\n",
       "  position: relative;\n",
       "}\n",
       "\n",
       "#sk-container-id-14 div.sk-text-repr-fallback {\n",
       "  display: none;\n",
       "}\n",
       "\n",
       "div.sk-parallel-item,\n",
       "div.sk-serial,\n",
       "div.sk-item {\n",
       "  /* draw centered vertical line to link estimators */\n",
       "  background-image: linear-gradient(var(--sklearn-color-text-on-default-background), var(--sklearn-color-text-on-default-background));\n",
       "  background-size: 2px 100%;\n",
       "  background-repeat: no-repeat;\n",
       "  background-position: center center;\n",
       "}\n",
       "\n",
       "/* Parallel-specific style estimator block */\n",
       "\n",
       "#sk-container-id-14 div.sk-parallel-item::after {\n",
       "  content: \"\";\n",
       "  width: 100%;\n",
       "  border-bottom: 2px solid var(--sklearn-color-text-on-default-background);\n",
       "  flex-grow: 1;\n",
       "}\n",
       "\n",
       "#sk-container-id-14 div.sk-parallel {\n",
       "  display: flex;\n",
       "  align-items: stretch;\n",
       "  justify-content: center;\n",
       "  background-color: var(--sklearn-color-background);\n",
       "  position: relative;\n",
       "}\n",
       "\n",
       "#sk-container-id-14 div.sk-parallel-item {\n",
       "  display: flex;\n",
       "  flex-direction: column;\n",
       "}\n",
       "\n",
       "#sk-container-id-14 div.sk-parallel-item:first-child::after {\n",
       "  align-self: flex-end;\n",
       "  width: 50%;\n",
       "}\n",
       "\n",
       "#sk-container-id-14 div.sk-parallel-item:last-child::after {\n",
       "  align-self: flex-start;\n",
       "  width: 50%;\n",
       "}\n",
       "\n",
       "#sk-container-id-14 div.sk-parallel-item:only-child::after {\n",
       "  width: 0;\n",
       "}\n",
       "\n",
       "/* Serial-specific style estimator block */\n",
       "\n",
       "#sk-container-id-14 div.sk-serial {\n",
       "  display: flex;\n",
       "  flex-direction: column;\n",
       "  align-items: center;\n",
       "  background-color: var(--sklearn-color-background);\n",
       "  padding-right: 1em;\n",
       "  padding-left: 1em;\n",
       "}\n",
       "\n",
       "\n",
       "/* Toggleable style: style used for estimator/Pipeline/ColumnTransformer box that is\n",
       "clickable and can be expanded/collapsed.\n",
       "- Pipeline and ColumnTransformer use this feature and define the default style\n",
       "- Estimators will overwrite some part of the style using the `sk-estimator` class\n",
       "*/\n",
       "\n",
       "/* Pipeline and ColumnTransformer style (default) */\n",
       "\n",
       "#sk-container-id-14 div.sk-toggleable {\n",
       "  /* Default theme specific background. It is overwritten whether we have a\n",
       "  specific estimator or a Pipeline/ColumnTransformer */\n",
       "  background-color: var(--sklearn-color-background);\n",
       "}\n",
       "\n",
       "/* Toggleable label */\n",
       "#sk-container-id-14 label.sk-toggleable__label {\n",
       "  cursor: pointer;\n",
       "  display: flex;\n",
       "  width: 100%;\n",
       "  margin-bottom: 0;\n",
       "  padding: 0.5em;\n",
       "  box-sizing: border-box;\n",
       "  text-align: center;\n",
       "  align-items: start;\n",
       "  justify-content: space-between;\n",
       "  gap: 0.5em;\n",
       "}\n",
       "\n",
       "#sk-container-id-14 label.sk-toggleable__label .caption {\n",
       "  font-size: 0.6rem;\n",
       "  font-weight: lighter;\n",
       "  color: var(--sklearn-color-text-muted);\n",
       "}\n",
       "\n",
       "#sk-container-id-14 label.sk-toggleable__label-arrow:before {\n",
       "  /* Arrow on the left of the label */\n",
       "  content: \"▸\";\n",
       "  float: left;\n",
       "  margin-right: 0.25em;\n",
       "  color: var(--sklearn-color-icon);\n",
       "}\n",
       "\n",
       "#sk-container-id-14 label.sk-toggleable__label-arrow:hover:before {\n",
       "  color: var(--sklearn-color-text);\n",
       "}\n",
       "\n",
       "/* Toggleable content - dropdown */\n",
       "\n",
       "#sk-container-id-14 div.sk-toggleable__content {\n",
       "  max-height: 0;\n",
       "  max-width: 0;\n",
       "  overflow: hidden;\n",
       "  text-align: left;\n",
       "  /* unfitted */\n",
       "  background-color: var(--sklearn-color-unfitted-level-0);\n",
       "}\n",
       "\n",
       "#sk-container-id-14 div.sk-toggleable__content.fitted {\n",
       "  /* fitted */\n",
       "  background-color: var(--sklearn-color-fitted-level-0);\n",
       "}\n",
       "\n",
       "#sk-container-id-14 div.sk-toggleable__content pre {\n",
       "  margin: 0.2em;\n",
       "  border-radius: 0.25em;\n",
       "  color: var(--sklearn-color-text);\n",
       "  /* unfitted */\n",
       "  background-color: var(--sklearn-color-unfitted-level-0);\n",
       "}\n",
       "\n",
       "#sk-container-id-14 div.sk-toggleable__content.fitted pre {\n",
       "  /* unfitted */\n",
       "  background-color: var(--sklearn-color-fitted-level-0);\n",
       "}\n",
       "\n",
       "#sk-container-id-14 input.sk-toggleable__control:checked~div.sk-toggleable__content {\n",
       "  /* Expand drop-down */\n",
       "  max-height: 200px;\n",
       "  max-width: 100%;\n",
       "  overflow: auto;\n",
       "}\n",
       "\n",
       "#sk-container-id-14 input.sk-toggleable__control:checked~label.sk-toggleable__label-arrow:before {\n",
       "  content: \"▾\";\n",
       "}\n",
       "\n",
       "/* Pipeline/ColumnTransformer-specific style */\n",
       "\n",
       "#sk-container-id-14 div.sk-label input.sk-toggleable__control:checked~label.sk-toggleable__label {\n",
       "  color: var(--sklearn-color-text);\n",
       "  background-color: var(--sklearn-color-unfitted-level-2);\n",
       "}\n",
       "\n",
       "#sk-container-id-14 div.sk-label.fitted input.sk-toggleable__control:checked~label.sk-toggleable__label {\n",
       "  background-color: var(--sklearn-color-fitted-level-2);\n",
       "}\n",
       "\n",
       "/* Estimator-specific style */\n",
       "\n",
       "/* Colorize estimator box */\n",
       "#sk-container-id-14 div.sk-estimator input.sk-toggleable__control:checked~label.sk-toggleable__label {\n",
       "  /* unfitted */\n",
       "  background-color: var(--sklearn-color-unfitted-level-2);\n",
       "}\n",
       "\n",
       "#sk-container-id-14 div.sk-estimator.fitted input.sk-toggleable__control:checked~label.sk-toggleable__label {\n",
       "  /* fitted */\n",
       "  background-color: var(--sklearn-color-fitted-level-2);\n",
       "}\n",
       "\n",
       "#sk-container-id-14 div.sk-label label.sk-toggleable__label,\n",
       "#sk-container-id-14 div.sk-label label {\n",
       "  /* The background is the default theme color */\n",
       "  color: var(--sklearn-color-text-on-default-background);\n",
       "}\n",
       "\n",
       "/* On hover, darken the color of the background */\n",
       "#sk-container-id-14 div.sk-label:hover label.sk-toggleable__label {\n",
       "  color: var(--sklearn-color-text);\n",
       "  background-color: var(--sklearn-color-unfitted-level-2);\n",
       "}\n",
       "\n",
       "/* Label box, darken color on hover, fitted */\n",
       "#sk-container-id-14 div.sk-label.fitted:hover label.sk-toggleable__label.fitted {\n",
       "  color: var(--sklearn-color-text);\n",
       "  background-color: var(--sklearn-color-fitted-level-2);\n",
       "}\n",
       "\n",
       "/* Estimator label */\n",
       "\n",
       "#sk-container-id-14 div.sk-label label {\n",
       "  font-family: monospace;\n",
       "  font-weight: bold;\n",
       "  display: inline-block;\n",
       "  line-height: 1.2em;\n",
       "}\n",
       "\n",
       "#sk-container-id-14 div.sk-label-container {\n",
       "  text-align: center;\n",
       "}\n",
       "\n",
       "/* Estimator-specific */\n",
       "#sk-container-id-14 div.sk-estimator {\n",
       "  font-family: monospace;\n",
       "  border: 1px dotted var(--sklearn-color-border-box);\n",
       "  border-radius: 0.25em;\n",
       "  box-sizing: border-box;\n",
       "  margin-bottom: 0.5em;\n",
       "  /* unfitted */\n",
       "  background-color: var(--sklearn-color-unfitted-level-0);\n",
       "}\n",
       "\n",
       "#sk-container-id-14 div.sk-estimator.fitted {\n",
       "  /* fitted */\n",
       "  background-color: var(--sklearn-color-fitted-level-0);\n",
       "}\n",
       "\n",
       "/* on hover */\n",
       "#sk-container-id-14 div.sk-estimator:hover {\n",
       "  /* unfitted */\n",
       "  background-color: var(--sklearn-color-unfitted-level-2);\n",
       "}\n",
       "\n",
       "#sk-container-id-14 div.sk-estimator.fitted:hover {\n",
       "  /* fitted */\n",
       "  background-color: var(--sklearn-color-fitted-level-2);\n",
       "}\n",
       "\n",
       "/* Specification for estimator info (e.g. \"i\" and \"?\") */\n",
       "\n",
       "/* Common style for \"i\" and \"?\" */\n",
       "\n",
       ".sk-estimator-doc-link,\n",
       "a:link.sk-estimator-doc-link,\n",
       "a:visited.sk-estimator-doc-link {\n",
       "  float: right;\n",
       "  font-size: smaller;\n",
       "  line-height: 1em;\n",
       "  font-family: monospace;\n",
       "  background-color: var(--sklearn-color-background);\n",
       "  border-radius: 1em;\n",
       "  height: 1em;\n",
       "  width: 1em;\n",
       "  text-decoration: none !important;\n",
       "  margin-left: 0.5em;\n",
       "  text-align: center;\n",
       "  /* unfitted */\n",
       "  border: var(--sklearn-color-unfitted-level-1) 1pt solid;\n",
       "  color: var(--sklearn-color-unfitted-level-1);\n",
       "}\n",
       "\n",
       ".sk-estimator-doc-link.fitted,\n",
       "a:link.sk-estimator-doc-link.fitted,\n",
       "a:visited.sk-estimator-doc-link.fitted {\n",
       "  /* fitted */\n",
       "  border: var(--sklearn-color-fitted-level-1) 1pt solid;\n",
       "  color: var(--sklearn-color-fitted-level-1);\n",
       "}\n",
       "\n",
       "/* On hover */\n",
       "div.sk-estimator:hover .sk-estimator-doc-link:hover,\n",
       ".sk-estimator-doc-link:hover,\n",
       "div.sk-label-container:hover .sk-estimator-doc-link:hover,\n",
       ".sk-estimator-doc-link:hover {\n",
       "  /* unfitted */\n",
       "  background-color: var(--sklearn-color-unfitted-level-3);\n",
       "  color: var(--sklearn-color-background);\n",
       "  text-decoration: none;\n",
       "}\n",
       "\n",
       "div.sk-estimator.fitted:hover .sk-estimator-doc-link.fitted:hover,\n",
       ".sk-estimator-doc-link.fitted:hover,\n",
       "div.sk-label-container:hover .sk-estimator-doc-link.fitted:hover,\n",
       ".sk-estimator-doc-link.fitted:hover {\n",
       "  /* fitted */\n",
       "  background-color: var(--sklearn-color-fitted-level-3);\n",
       "  color: var(--sklearn-color-background);\n",
       "  text-decoration: none;\n",
       "}\n",
       "\n",
       "/* Span, style for the box shown on hovering the info icon */\n",
       ".sk-estimator-doc-link span {\n",
       "  display: none;\n",
       "  z-index: 9999;\n",
       "  position: relative;\n",
       "  font-weight: normal;\n",
       "  right: .2ex;\n",
       "  padding: .5ex;\n",
       "  margin: .5ex;\n",
       "  width: min-content;\n",
       "  min-width: 20ex;\n",
       "  max-width: 50ex;\n",
       "  color: var(--sklearn-color-text);\n",
       "  box-shadow: 2pt 2pt 4pt #999;\n",
       "  /* unfitted */\n",
       "  background: var(--sklearn-color-unfitted-level-0);\n",
       "  border: .5pt solid var(--sklearn-color-unfitted-level-3);\n",
       "}\n",
       "\n",
       ".sk-estimator-doc-link.fitted span {\n",
       "  /* fitted */\n",
       "  background: var(--sklearn-color-fitted-level-0);\n",
       "  border: var(--sklearn-color-fitted-level-3);\n",
       "}\n",
       "\n",
       ".sk-estimator-doc-link:hover span {\n",
       "  display: block;\n",
       "}\n",
       "\n",
       "/* \"?\"-specific style due to the `<a>` HTML tag */\n",
       "\n",
       "#sk-container-id-14 a.estimator_doc_link {\n",
       "  float: right;\n",
       "  font-size: 1rem;\n",
       "  line-height: 1em;\n",
       "  font-family: monospace;\n",
       "  background-color: var(--sklearn-color-background);\n",
       "  border-radius: 1rem;\n",
       "  height: 1rem;\n",
       "  width: 1rem;\n",
       "  text-decoration: none;\n",
       "  /* unfitted */\n",
       "  color: var(--sklearn-color-unfitted-level-1);\n",
       "  border: var(--sklearn-color-unfitted-level-1) 1pt solid;\n",
       "}\n",
       "\n",
       "#sk-container-id-14 a.estimator_doc_link.fitted {\n",
       "  /* fitted */\n",
       "  border: var(--sklearn-color-fitted-level-1) 1pt solid;\n",
       "  color: var(--sklearn-color-fitted-level-1);\n",
       "}\n",
       "\n",
       "/* On hover */\n",
       "#sk-container-id-14 a.estimator_doc_link:hover {\n",
       "  /* unfitted */\n",
       "  background-color: var(--sklearn-color-unfitted-level-3);\n",
       "  color: var(--sklearn-color-background);\n",
       "  text-decoration: none;\n",
       "}\n",
       "\n",
       "#sk-container-id-14 a.estimator_doc_link.fitted:hover {\n",
       "  /* fitted */\n",
       "  background-color: var(--sklearn-color-fitted-level-3);\n",
       "}\n",
       "</style><div id=\"sk-container-id-14\" class=\"sk-top-container\"><div class=\"sk-text-repr-fallback\"><pre>LinearRegression()</pre><b>In a Jupyter environment, please rerun this cell to show the HTML representation or trust the notebook. <br />On GitHub, the HTML representation is unable to render, please try loading this page with nbviewer.org.</b></div><div class=\"sk-container\" hidden><div class=\"sk-item\"><div class=\"sk-estimator fitted sk-toggleable\"><input class=\"sk-toggleable__control sk-hidden--visually\" id=\"sk-estimator-id-14\" type=\"checkbox\" checked><label for=\"sk-estimator-id-14\" class=\"sk-toggleable__label fitted sk-toggleable__label-arrow\"><div><div>LinearRegression</div></div><div><a class=\"sk-estimator-doc-link fitted\" rel=\"noreferrer\" target=\"_blank\" href=\"https://scikit-learn.org/1.6/modules/generated/sklearn.linear_model.LinearRegression.html\">?<span>Documentation for LinearRegression</span></a><span class=\"sk-estimator-doc-link fitted\">i<span>Fitted</span></span></div></label><div class=\"sk-toggleable__content fitted\"><pre>LinearRegression()</pre></div> </div></div></div></div>"
      ],
      "text/plain": [
       "LinearRegression()"
      ]
     },
     "execution_count": 358,
     "metadata": {},
     "output_type": "execute_result"
    }
   ],
   "source": [
    "degree2_model.fit(x_train_map_degree2_scaled, y_train)"
   ]
  },
  {
   "cell_type": "code",
   "execution_count": 359,
   "id": "bc1056eb-be5c-46fc-8d39-d5fec833caa9",
   "metadata": {},
   "outputs": [],
   "source": [
    "y_train_degree2_predict= degree2_model.predict(x_train_map_degree2_scaled)"
   ]
  },
  {
   "cell_type": "code",
   "execution_count": 360,
   "id": "5a9742cf-433a-4efd-b91f-45cdf86e28ef",
   "metadata": {},
   "outputs": [],
   "source": [
    "mse_degree2=meanSquaredError(y_train_degree2_predict,y_train)"
   ]
  },
  {
   "cell_type": "markdown",
   "id": "2151b2ef-6f73-45d3-85e0-2a246696b14e",
   "metadata": {},
   "source": [
    "#MSE decreased"
   ]
  },
  {
   "cell_type": "code",
   "execution_count": 361,
   "id": "14c53e24-564d-4c58-8174-296aca57d86b",
   "metadata": {},
   "outputs": [
    {
     "data": {
      "text/plain": [
       "array([49.11576307])"
      ]
     },
     "execution_count": 361,
     "metadata": {},
     "output_type": "execute_result"
    }
   ],
   "source": [
    "mse_degree2"
   ]
  },
  {
   "cell_type": "code",
   "execution_count": 362,
   "id": "ed3cc225-1454-4749-bc05-5d54ce4f2d26",
   "metadata": {},
   "outputs": [
    {
     "data": {
      "text/plain": [
       "Text(0.5, 1.0, 'Degree 2 polynomial Model')"
      ]
     },
     "execution_count": 362,
     "metadata": {},
     "output_type": "execute_result"
    },
    {
     "data": {
      "image/png": "[encoded data removed]",
      "text/plain": [
       "<Figure size 640x480 with 1 Axes>"
      ]
     },
     "metadata": {},
     "output_type": "display_data"
    }
   ],
   "source": [
    "plt.scatter(x_train_scaled,y_train_degree2_predict,marker='o',color='g',label='degree2_train_predicted')\n",
    "plt.scatter(x_train_scaled,y_train,marker='x',color='r',label='train_scaled')\n",
    "\n",
    "plt.legend()\n",
    "plt.xlabel('x_train_scaled')\n",
    "plt.ylabel('y')\n",
    "plt.title('Degree 2 polynomial Model')"
   ]
  },
  {
   "cell_type": "markdown",
   "id": "f413b5d7-8055-4b2d-80ad-78acbd6610ac",
   "metadata": {},
   "source": [
    "# Loop to impltment upto 10 degrees"
   ]
  },
  {
   "cell_type": "code",
   "execution_count": 363,
   "id": "d9e9fff7-1a4d-4ca5-93d3-5939200d249b",
   "metadata": {},
   "outputs": [
    {
     "data": {
      "text/plain": [
       "array([47.61943084])"
      ]
     },
     "execution_count": 363,
     "metadata": {},
     "output_type": "execute_result"
    },
    {
     "data": {
      "image/png": "[encoded data removed]",
      "text/plain": [
       "<Figure size 640x480 with 1 Axes>"
      ]
     },
     "metadata": {},
     "output_type": "display_data"
    }
   ],
   "source": [
    "\n",
    "for i in range(3,4):\n",
    "    poly_model=PolynomialFeatures(degree=3)\n",
    "    x_train_map_degree= poly_model.fit_transform(x_train)\n",
    "    feature_scaling = StandardScaler()\n",
    "    x_train_map_degree_scaled=feature_scaling.fit_transform(x_train_map_degree)\n",
    "    degree_model=LinearRegression()\n",
    "    degree_model.fit(x_train_map_degree_scaled, y_train)\n",
    "    y_train_degree_predict= degree_model.predict(x_train_map_degree_scaled)\n",
    "    mse_degree=meanSquaredError(y_train_degree_predict,y_train)\n",
    "    plt.scatter(x_train_scaled,y_train_degree_predict,marker='o',color='g',label=f'degree_{i}_train_predicted')\n",
    "    plt.scatter(x_train_scaled,y_train,marker='x',color='r',label='train_scaled')\n",
    "    plt.legend()\n",
    "    plt.xlabel('x_train_scaled')\n",
    "    plt.ylabel('y')\n",
    "    plt.title(f'Degree {i} polynomial Model')\n",
    "\n",
    "mse_degree"
   ]
  },
  {
   "cell_type": "code",
   "execution_count": 364,
   "id": "0dcd9bd1-b4b8-4f6e-b5bb-493730a5b6cf",
   "metadata": {},
   "outputs": [
    {
     "data": {
      "text/plain": [
       "array([47.1494464])"
      ]
     },
     "execution_count": 364,
     "metadata": {},
     "output_type": "execute_result"
    },
    {
     "data": {
      "image/png": "[encoded data removed]",
      "text/plain": [
       "<Figure size 640x480 with 1 Axes>"
      ]
     },
     "metadata": {},
     "output_type": "display_data"
    }
   ],
   "source": [
    "\n",
    "for i in range(4,5):\n",
    "    poly_model=PolynomialFeatures(degree=4)\n",
    "    x_train_map_degree= poly_model.fit_transform(x_train)\n",
    "    feature_scaling = StandardScaler()\n",
    "    x_train_map_degree_scaled=feature_scaling.fit_transform(x_train_map_degree)\n",
    "    degree_model=LinearRegression()\n",
    "    degree_model.fit(x_train_map_degree_scaled, y_train)\n",
    "    y_train_degree_predict= degree_model.predict(x_train_map_degree_scaled)\n",
    "    mse_degree=meanSquaredError(y_train_degree_predict,y_train)\n",
    "    plt.scatter(x_train_scaled,y_train_degree_predict,marker='o',color='g',label=f'degree_{i}_train_predicted')\n",
    "    plt.scatter(x_train_scaled,y_train,marker='x',color='r',label='train_scaled')\n",
    "    plt.legend()\n",
    "    plt.xlabel('x_train_scaled')\n",
    "    plt.ylabel('y')\n",
    "    plt.title(f'Degree {i} polynomial Model')\n",
    "\n",
    "mse_degree"
   ]
  },
  {
   "cell_type": "markdown",
   "id": "17787ed4-4cf2-4da8-8349-12cb366a922c",
   "metadata": {},
   "source": [
    "# degree two fits fine...as further efforts are less impactful"
   ]
  },
  {
   "cell_type": "code",
   "execution_count": 365,
   "id": "7384b5de-2ddf-4aea-aaaa-456e269374e3",
   "metadata": {},
   "outputs": [
    {
     "data": {
      "text/plain": [
       "array([47.14545628])"
      ]
     },
     "execution_count": 365,
     "metadata": {},
     "output_type": "execute_result"
    },
    {
     "data": {
      "image/png": "[encoded data removed]",
      "text/plain": [
       "<Figure size 640x480 with 1 Axes>"
      ]
     },
     "metadata": {},
     "output_type": "display_data"
    }
   ],
   "source": [
    "for i in range(5,6):\n",
    "    poly_model=PolynomialFeatures(degree=5)\n",
    "    x_train_map_degree= poly_model.fit_transform(x_train)\n",
    "    feature_scaling = StandardScaler()\n",
    "    x_train_map_degree_scaled=feature_scaling.fit_transform(x_train_map_degree)\n",
    "    degree_model=LinearRegression()\n",
    "    degree_model.fit(x_train_map_degree_scaled, y_train)\n",
    "    y_train_degree_predict= degree_model.predict(x_train_map_degree_scaled)\n",
    "    mse_degree=meanSquaredError(y_train_degree_predict,y_train)\n",
    "    plt.scatter(x_train_scaled,y_train_degree_predict,marker='o',color='g',label=f'degree_{i}_train_predicted')\n",
    "    plt.scatter(x_train_scaled,y_train,marker='x',color='r',label='train_scaled')\n",
    "    plt.legend()\n",
    "    plt.xlabel('x_train_scaled')\n",
    "    plt.ylabel('y')\n",
    "    plt.title(f'Degree {i} polynomial Model')\n",
    "\n",
    "mse_degree"
   ]
  }
 ],
 "metadata": {
  "kernelspec": {
   "display_name": "Python 3 (ipykernel)",
   "language": "python",
   "name": "python3"
  },
  "language_info": {
   "codemirror_mode": {
    "name": "ipython",
    "version": 3
   },
   "file_extension": ".py",
   "mimetype": "text/x-python",
   "name": "python",
   "nbconvert_exporter": "python",
   "pygments_lexer": "ipython3",
   "version": "3.10.9"
  }
 },
 "nbformat": 4,
 "nbformat_minor": 5
}
