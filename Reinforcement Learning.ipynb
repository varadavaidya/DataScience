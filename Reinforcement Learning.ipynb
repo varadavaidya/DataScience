{
 "cells": [
  {
   "cell_type": "code",
   "execution_count": 8,
   "id": "74a99bde-6e5a-43c7-ad84-415b961c7bf6",
   "metadata": {},
   "outputs": [],
   "source": [
    "import numpy as np"
   ]
  },
  {
   "cell_type": "code",
   "execution_count": 9,
   "id": "28196a5d-c737-4cc9-b5ec-188b3df93f6d",
   "metadata": {},
   "outputs": [],
   "source": [
    "rewards=np.array([\n",
    "    [-1,-1,-1],\n",
    "    [-1,-10,-1],\n",
    "    [-1,-1,10]\n",
    "])"
   ]
  },
  {
   "cell_type": "code",
   "execution_count": 10,
   "id": "c38dd620-f0ef-4171-b89e-b3fbf26a85b1",
   "metadata": {},
   "outputs": [],
   "source": [
    "q_table = np.zeros((3, 3, 4)) #states x actions"
   ]
  },
  {
   "cell_type": "code",
   "execution_count": 11,
   "id": "77ac4963-aa4b-4340-93ee-cc87117e2661",
   "metadata": {},
   "outputs": [],
   "source": [
    "# Hyperparameters\n",
    "alpha = 0.1\n",
    "gamma = 0.9\n",
    "epsilon = 0.1"
   ]
  },
  {
   "cell_type": "markdown",
   "id": "bc4c107d-8b17-45fc-9748-896ecdd48edc",
   "metadata": {},
   "source": [
    "# while learning use epsilon"
   ]
  },
  {
   "cell_type": "code",
   "execution_count": 15,
   "id": "1ebeb258-c75a-41f0-b1d4-f29126000284",
   "metadata": {},
   "outputs": [],
   "source": [
    "for _ in range(1000):\n",
    "    state=(0,0)\n",
    "    while True:\n",
    "        if np.random.uniform(0,1)<epsilon:\n",
    "            action=np.random.randint(0,4) #explore\n",
    "        else:\n",
    "            action=np.argmax(q_table[state]) #exploit\n",
    "\n",
    "        if action == 0:   # Up\n",
    "            next_state = (max(state[0] - 1, 0), state[1])\n",
    "        elif action == 1: # Down\n",
    "            next_state = (min(state[0] + 1, 2), state[1])\n",
    "        elif action == 2: # Left\n",
    "            next_state = (state[0], max(state[1] - 1, 0))\n",
    "        elif action == 3: # Right\n",
    "            next_state = (state[0], min(state[1] + 1, 2))\n",
    "\n",
    "        reward = rewards[next_state]\n",
    "\n",
    "        q_table[state][action]+=alpha*(reward+gamma* np.max(q_table[next_state])-q_table[state][action])\n",
    "\n",
    "        state=next_state\n",
    "        if reward==10 or reward==-10:\n",
    "            break"
   ]
  },
  {
   "cell_type": "code",
   "execution_count": 18,
   "id": "078691d8-daa2-4c25-8ea1-2af21511921f",
   "metadata": {},
   "outputs": [
    {
     "data": {
      "text/plain": [
       "(array([[[ 3.12172989,  3.99312813,  3.12066752,  4.58      ],\n",
       "         [ 4.57464074, -9.99226446,  3.12166404,  6.2       ],\n",
       "         [ 6.1990458 ,  8.        ,  4.57914984,  6.1998104 ]],\n",
       " \n",
       "        [[ 0.33503959,  5.929364  , -0.22809099, -5.217031  ],\n",
       "         [ 0.        ,  0.        ,  0.        ,  0.        ],\n",
       "         [ 6.19605187, 10.        , -9.99140496,  7.99733608]],\n",
       " \n",
       "        [[ 0.43559791, -0.23349863,  0.36542826,  7.91770057],\n",
       "         [-3.439     ,  1.39461216,  0.59689011,  9.98689979],\n",
       "         [ 0.        ,  0.        ,  0.        ,  0.        ]]]),\n",
       " (3, 3, 4))"
      ]
     },
     "execution_count": 18,
     "metadata": {},
     "output_type": "execute_result"
    }
   ],
   "source": [
    "q_table,q_table.shape"
   ]
  },
  {
   "cell_type": "markdown",
   "id": "afad2831-a7f1-45df-b235-f0facf516897",
   "metadata": {},
   "source": [
    "# During testing epsilon is zero"
   ]
  },
  {
   "cell_type": "code",
   "execution_count": 16,
   "id": "4177e0ce-3e2d-4a46-a65f-d5c12501cd9d",
   "metadata": {},
   "outputs": [
    {
     "name": "stdout",
     "output_type": "stream",
     "text": [
      "Optimal Path: [(0, 0), (0, 1), (0, 2), (1, 2), (2, 2)]\n"
     ]
    }
   ],
   "source": [
    "state = (0, 0)  # Start at 'S'\n",
    "path = [state]\n",
    "while True:\n",
    "    action = np.argmax(q_table[state])  # Greedy policy\n",
    "    if action == 0:   # Up\n",
    "        next_state = (max(state[0] - 1, 0), state[1])\n",
    "    elif action == 1: # Down\n",
    "        next_state = (min(state[0] + 1, 2), state[1])\n",
    "    elif action == 2: # Left\n",
    "        next_state = (state[0], max(state[1] - 1, 0))\n",
    "    elif action == 3: # Right\n",
    "        next_state = (state[0], min(state[1] + 1, 2))\n",
    "    \n",
    "    path.append(next_state)\n",
    "    state = next_state\n",
    "    if rewards[state] == 10 or rewards[state] == -10:\n",
    "        break\n",
    "\n",
    "print(\"Optimal Path:\", path)"
   ]
  },
  {
   "cell_type": "code",
   "execution_count": null,
   "id": "a6265758-a89b-453c-b7c9-36b9796f192b",
   "metadata": {},
   "outputs": [],
   "source": []
  }
 ],
 "metadata": {
  "kernelspec": {
   "display_name": "Python 3 (ipykernel)",
   "language": "python",
   "name": "python3"
  },
  "language_info": {
   "codemirror_mode": {
    "name": "ipython",
    "version": 3
   },
   "file_extension": ".py",
   "mimetype": "text/x-python",
   "name": "python",
   "nbconvert_exporter": "python",
   "pygments_lexer": "ipython3",
   "version": "3.10.9"
  }
 },
 "nbformat": 4,
 "nbformat_minor": 5
}
