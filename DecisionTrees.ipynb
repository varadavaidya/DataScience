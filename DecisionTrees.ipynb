{
 "cells": [
  {
   "cell_type": "code",
   "execution_count": 46,
   "id": "fbd48a70-e178-4238-a305-1fadbee14442",
   "metadata": {},
   "outputs": [],
   "source": [
    "import pandas as pd\n",
    "import numpy as np\n",
    "import math\n",
    "import matplotlib.pyplot as plt"
   ]
  },
  {
   "cell_type": "code",
   "execution_count": 47,
   "id": "d9d96168-2479-4cbc-b511-d477f31daa57",
   "metadata": {},
   "outputs": [],
   "source": [
    "p=0.5"
   ]
  },
  {
   "cell_type": "code",
   "execution_count": 48,
   "id": "8d4cba0f-81f7-4bef-ba32-7fe9aa5555de",
   "metadata": {},
   "outputs": [],
   "source": [
    "def entropy(p):\n",
    "    if p<=0 or p>=1:\n",
    "        return 0         \n",
    "    else:\n",
    "        return  -p*(math.log2(p))-(1-p)*(math.log2(1-p))"
   ]
  },
  {
   "cell_type": "code",
   "execution_count": 49,
   "id": "7f185a9f-e640-4b9d-b88a-57c862057329",
   "metadata": {},
   "outputs": [],
   "source": [
    "X_train = np.array([[1, 1, 1],\n",
    "[0, 0, 1],\n",
    " [0, 1, 0],\n",
    " [1, 0, 1],\n",
    " [1, 1, 1],\n",
    " [1, 1, 0],\n",
    " [0, 0, 0],\n",
    " [1, 1, 0],\n",
    " [0, 1, 0],\n",
    " [0, 1, 0]])\n",
    "\n",
    "y_train = np.array([1, 1, 0, 0, 1, 1, 0, 1, 0, 0])"
   ]
  },
  {
   "cell_type": "code",
   "execution_count": 50,
   "id": "b9f4066f-08ac-430f-9989-cff11f27a998",
   "metadata": {},
   "outputs": [],
   "source": [
    "def split_indices(x,index_feature):\n",
    "    left_indices=[]\n",
    "    right_indices=[]\n",
    "    for i in range(len(x)):\n",
    "        if x[i][index_feature]==1 :\n",
    "            left_indices.append(i)\n",
    "        else:\n",
    "            right_indices.append(i)\n",
    "    return left_indices,right_indices"
   ]
  },
  {
   "cell_type": "code",
   "execution_count": 51,
   "id": "bf2d0371-5e1c-4c54-b168-813ac9af5fad",
   "metadata": {},
   "outputs": [],
   "source": [
    "def weighted_entropy(x,y,left_indices,right_indices):\n",
    "    m=len(x)\n",
    "    w_left=len(left_indices)\n",
    "    w_right=len(right_indices)\n",
    "    p_left=sum(y[i] for i in left_indices)/len(left_indices)\n",
    "    p_right=sum(y[i] for i in right_indices)/len(right_indices)\n",
    "    entr= (w_left/m)* entropy(p_left) + (w_right/m)* entropy(p_right)\n",
    "    return entr"
   ]
  },
  {
   "cell_type": "code",
   "execution_count": 52,
   "id": "0a0ba99f-10eb-42fa-9a43-a8cffae83499",
   "metadata": {},
   "outputs": [
    {
     "data": {
      "text/plain": [
       "np.float64(0.7219280948873623)"
      ]
     },
     "execution_count": 52,
     "metadata": {},
     "output_type": "execute_result"
    }
   ],
   "source": [
    "weighted_entropy(X_train,y_train,split_indices(X_train,0)[0],split_indices(X_train,0)[1])"
   ]
  },
  {
   "cell_type": "code",
   "execution_count": 53,
   "id": "e2aaf3a2-b010-4fee-a3f3-170362b945f8",
   "metadata": {},
   "outputs": [],
   "source": [
    "def information_gain(x,y,left_indices,right_indices):\n",
    "    m=len(x)\n",
    "    p_node=(sum(y[i] for i in left_indices)+(sum(y[i] for i in right_indices)))/m\n",
    "    entropy_node=entropy(p_node)\n",
    "    return entropy_node - weighted_entropy(x,y,left_indices,right_indices)"
   ]
  },
  {
   "cell_type": "code",
   "execution_count": 54,
   "id": "60c53c0b-bf0e-4626-aa74-bc49710cf419",
   "metadata": {},
   "outputs": [
    {
     "data": {
      "text/plain": [
       "np.float64(0.2780719051126377)"
      ]
     },
     "execution_count": 54,
     "metadata": {},
     "output_type": "execute_result"
    }
   ],
   "source": [
    "information_gain(X_train,y_train,split_indices(X_train,0)[0],split_indices(X_train,0)[1])"
   ]
  },
  {
   "cell_type": "code",
   "execution_count": 55,
   "id": "55ab1ffe-22df-4354-b416-00a95c327547",
   "metadata": {},
   "outputs": [],
   "source": [
    "features=len(X_train[0])"
   ]
  },
  {
   "cell_type": "code",
   "execution_count": 56,
   "id": "0e646606-26be-4903-9204-0493922ec811",
   "metadata": {},
   "outputs": [
    {
     "name": "stdout",
     "output_type": "stream",
     "text": [
      "0.2780719051126377\n",
      "0.034851554559677034\n",
      "0.12451124978365313\n"
     ]
    }
   ],
   "source": [
    "for i in range(features):\n",
    "    left_ind,right_ind= split_indices(X_train,i)\n",
    "    print(information_gain(X_train,y_train,left_ind,right_ind))"
   ]
  },
  {
   "cell_type": "code",
   "execution_count": 61,
   "id": "002842a7-ab76-4dec-a887-e4ca58845d61",
   "metadata": {},
   "outputs": [],
   "source": [
    "def recursive_split(x,y,tree=None,max_recursion=3,recursion=0):\n",
    "    if tree is None:\n",
    "        tree=[]\n",
    "    if recursion >= max_recursion or len(x) == 0:\n",
    "        return tree\n",
    "    if all(label == y[0] for label in y):\n",
    "        return tree\n",
    "    m=len(x)\n",
    "    n=len(x[0])\n",
    "    gains=[]\n",
    "    for i in range(n):\n",
    "        if i not in tree:\n",
    "            left,right= split_indices(x,i)\n",
    "            gain_i=information_gain(x,y,left,right)\n",
    "            gains.append(gain_i)\n",
    "        else:\n",
    "            continue\n",
    "    if not gains or max(gains)==0:\n",
    "        return tree\n",
    "        \n",
    "    tree.append(gains.index(max(gains)))  \n",
    "    left,right=split_indices(x,gains.index(max(gains)))\n",
    "\n",
    "    x_left=[x[i] for i in left]\n",
    "    y_left=[y[i] for i in left]\n",
    "    x_right=[x[i] for i in right]\n",
    "    y_right=[y[i] for i in right]\n",
    "\n",
    "    left_tree=recursive_split(x_left,y_left,tree.copy(),max_recursion,recursion+1)\n",
    "    right_tree=recursive_split(x_right,y_right,tree.copy(),max_recursion,recursion+1)\n",
    "    return list(set(tree + left_tree + right_tree))"
   ]
  },
  {
   "cell_type": "code",
   "execution_count": 62,
   "id": "be9da2e9-8635-4f3b-b795-31599f753a25",
   "metadata": {},
   "outputs": [
    {
     "data": {
      "text/plain": [
       "[0, 1]"
      ]
     },
     "execution_count": 62,
     "metadata": {},
     "output_type": "execute_result"
    }
   ],
   "source": [
    "recursive_split(X_train,y_train)"
   ]
  },
  {
   "cell_type": "code",
   "execution_count": null,
   "id": "2f3c7c66-6b37-4b07-a51c-d3c17598dbf4",
   "metadata": {},
   "outputs": [],
   "source": []
  }
 ],
 "metadata": {
  "kernelspec": {
   "display_name": "Python 3 (ipykernel)",
   "language": "python",
   "name": "python3"
  },
  "language_info": {
   "codemirror_mode": {
    "name": "ipython",
    "version": 3
   },
   "file_extension": ".py",
   "mimetype": "text/x-python",
   "name": "python",
   "nbconvert_exporter": "python",
   "pygments_lexer": "ipython3",
   "version": "3.10.9"
  }
 },
 "nbformat": 4,
 "nbformat_minor": 5
}
