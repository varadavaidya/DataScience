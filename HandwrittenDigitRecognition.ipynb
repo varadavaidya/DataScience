{
 "cells": [
  {
   "cell_type": "code",
   "execution_count": 237,
   "id": "d064cb9e-4465-49c4-b221-fb463ed30eb6",
   "metadata": {},
   "outputs": [
    {
     "data": {
      "text/plain": [
       "9"
      ]
     },
     "execution_count": 237,
     "metadata": {},
     "output_type": "execute_result"
    }
   ],
   "source": [
    "3+6"
   ]
  },
  {
   "cell_type": "code",
   "execution_count": 238,
   "id": "3642c7a0-2194-4ef4-8294-063f4cb2b6a2",
   "metadata": {},
   "outputs": [],
   "source": [
    "from tensorflow.keras.datasets import mnist\n",
    "import numpy as np"
   ]
  },
  {
   "cell_type": "code",
   "execution_count": 239,
   "id": "03e0379f-b176-4c3b-8ac3-f3798acfc8a2",
   "metadata": {},
   "outputs": [],
   "source": [
    "(x_train,y_train),(x_test,y_test)=mnist.load_data()"
   ]
  },
  {
   "cell_type": "code",
   "execution_count": 240,
   "id": "c00ac560-66dc-4607-a662-4beebbc617ed",
   "metadata": {},
   "outputs": [
    {
     "data": {
      "text/plain": [
       "(60000, 28, 28)"
      ]
     },
     "execution_count": 240,
     "metadata": {},
     "output_type": "execute_result"
    }
   ],
   "source": [
    "x_train.shape"
   ]
  },
  {
   "cell_type": "code",
   "execution_count": 241,
   "id": "b217fb3f-8409-4fe6-83df-1191ff98d5ce",
   "metadata": {},
   "outputs": [],
   "source": [
    "x_train=x_train.reshape(x_train.shape[0],-1)"
   ]
  },
  {
   "cell_type": "code",
   "execution_count": 242,
   "id": "3c218db3-d205-45e3-81e1-c6c5497ae06d",
   "metadata": {},
   "outputs": [
    {
     "data": {
      "text/plain": [
       "(60000, 784)"
      ]
     },
     "execution_count": 242,
     "metadata": {},
     "output_type": "execute_result"
    }
   ],
   "source": [
    "x_train.shape"
   ]
  },
  {
   "cell_type": "code",
   "execution_count": 243,
   "id": "83e350b9-0e7f-42f6-8972-5f3eba8764f4",
   "metadata": {},
   "outputs": [
    {
     "data": {
      "text/plain": [
       "(60000,)"
      ]
     },
     "execution_count": 243,
     "metadata": {},
     "output_type": "execute_result"
    }
   ],
   "source": [
    "y_train.shape"
   ]
  },
  {
   "cell_type": "code",
   "execution_count": 244,
   "id": "061fcf80-9668-490e-865d-62f89e6f16b8",
   "metadata": {},
   "outputs": [
    {
     "data": {
      "text/plain": [
       "array([5, 0, 4, ..., 5, 6, 8], dtype=uint8)"
      ]
     },
     "execution_count": 244,
     "metadata": {},
     "output_type": "execute_result"
    }
   ],
   "source": [
    "y_train"
   ]
  },
  {
   "cell_type": "code",
   "execution_count": 245,
   "id": "77fa5723-6792-44c0-b411-a3896ba504ef",
   "metadata": {},
   "outputs": [
    {
     "data": {
      "text/plain": [
       "array([0., 0., 0., 0., 0., 1., 0., 0., 0., 0.])"
      ]
     },
     "execution_count": 245,
     "metadata": {},
     "output_type": "execute_result"
    }
   ],
   "source": [
    "m=len(y_train)\n",
    "y=np.array([np.zeros(10)]*m)\n",
    "y\n",
    "for i in range(m):\n",
    "    res=np.zeros(10)\n",
    "    ind=y_train[i]\n",
    "    res[ind]=1\n",
    "    y[i]=np.array(res)\n",
    "\n",
    "y[0]"
   ]
  },
  {
   "cell_type": "code",
   "execution_count": 246,
   "id": "4cd62730-fee2-472b-a300-b53abb040b3e",
   "metadata": {},
   "outputs": [
    {
     "data": {
      "text/plain": [
       "(10000, 28, 28)"
      ]
     },
     "execution_count": 246,
     "metadata": {},
     "output_type": "execute_result"
    }
   ],
   "source": [
    "x_test.shape"
   ]
  },
  {
   "cell_type": "code",
   "execution_count": 247,
   "id": "9f19b1e4-706c-4fcd-bcf7-b1995bb659b7",
   "metadata": {},
   "outputs": [
    {
     "data": {
      "text/plain": [
       "(10000,)"
      ]
     },
     "execution_count": 247,
     "metadata": {},
     "output_type": "execute_result"
    }
   ],
   "source": [
    "y_test.shape"
   ]
  },
  {
   "cell_type": "code",
   "execution_count": 248,
   "id": "50289700-8349-4693-afe7-d5a07ca05c8d",
   "metadata": {},
   "outputs": [],
   "source": [
    "import tensorflow as tf"
   ]
  },
  {
   "cell_type": "code",
   "execution_count": 249,
   "id": "5cfd3818-2473-460f-8648-0a3727a8d799",
   "metadata": {},
   "outputs": [],
   "source": [
    "from tensorflow.keras.layers import Dense,Input, Flatten\n",
    "from tensorflow.keras.activations import sigmoid\n",
    "from tensorflow.keras.losses import MeanSquaredError, BinaryCrossentropy\n",
    "from tensorflow.keras.models import Sequential"
   ]
  },
  {
   "cell_type": "code",
   "execution_count": 250,
   "id": "beee7194-d7ef-4c89-aec7-b66347e9f48d",
   "metadata": {},
   "outputs": [],
   "source": [
    "layer_1=Dense(units=100,activation='sigmoid',input_shape=(784,))"
   ]
  },
  {
   "cell_type": "code",
   "execution_count": 251,
   "id": "ce3ea935-cde7-4d5c-a0b0-e2ad54399780",
   "metadata": {},
   "outputs": [],
   "source": [
    "layer_2=Dense(units=50,activation='sigmoid')"
   ]
  },
  {
   "cell_type": "code",
   "execution_count": 252,
   "id": "7b4bdf12-9048-498c-87d8-38c0a87c6f81",
   "metadata": {},
   "outputs": [],
   "source": [
    "layer_3=Dense(units=10,activation='sigmoid')"
   ]
  },
  {
   "cell_type": "code",
   "execution_count": 253,
   "id": "c65cbe6b-d5e1-49ef-8d64-04d5c7dcaeff",
   "metadata": {},
   "outputs": [],
   "source": [
    "model=Sequential([layer_1,layer_2,layer_3])"
   ]
  },
  {
   "cell_type": "code",
   "execution_count": 254,
   "id": "f9eb4694-b58a-45d2-acad-b6511d2db1ab",
   "metadata": {},
   "outputs": [
    {
     "data": {
      "text/html": [
       "<pre style=\"white-space:pre;overflow-x:auto;line-height:normal;font-family:Menlo,'DejaVu Sans Mono',consolas,'Courier New',monospace\"><span style=\"font-weight: bold\">Model: \"sequential_7\"</span>\n",
       "</pre>\n"
      ],
      "text/plain": [
       "\u001b[1mModel: \"sequential_7\"\u001b[0m\n"
      ]
     },
     "metadata": {},
     "output_type": "display_data"
    },
    {
     "data": {
      "text/html": [
       "<pre style=\"white-space:pre;overflow-x:auto;line-height:normal;font-family:Menlo,'DejaVu Sans Mono',consolas,'Courier New',monospace\">┏━━━━━━━━━━━━━━━━━━━━━━━━━━━━━━━━━━━━━━┳━━━━━━━━━━━━━━━━━━━━━━━━━━━━━┳━━━━━━━━━━━━━━━━━┓\n",
       "┃<span style=\"font-weight: bold\"> Layer (type)                         </span>┃<span style=\"font-weight: bold\"> Output Shape                </span>┃<span style=\"font-weight: bold\">         Param # </span>┃\n",
       "┡━━━━━━━━━━━━━━━━━━━━━━━━━━━━━━━━━━━━━━╇━━━━━━━━━━━━━━━━━━━━━━━━━━━━━╇━━━━━━━━━━━━━━━━━┩\n",
       "│ dense_21 (<span style=\"color: #0087ff; text-decoration-color: #0087ff\">Dense</span>)                     │ (<span style=\"color: #00d7ff; text-decoration-color: #00d7ff\">None</span>, <span style=\"color: #00af00; text-decoration-color: #00af00\">100</span>)                 │          <span style=\"color: #00af00; text-decoration-color: #00af00\">78,500</span> │\n",
       "├──────────────────────────────────────┼─────────────────────────────┼─────────────────┤\n",
       "│ dense_22 (<span style=\"color: #0087ff; text-decoration-color: #0087ff\">Dense</span>)                     │ (<span style=\"color: #00d7ff; text-decoration-color: #00d7ff\">None</span>, <span style=\"color: #00af00; text-decoration-color: #00af00\">50</span>)                  │           <span style=\"color: #00af00; text-decoration-color: #00af00\">5,050</span> │\n",
       "├──────────────────────────────────────┼─────────────────────────────┼─────────────────┤\n",
       "│ dense_23 (<span style=\"color: #0087ff; text-decoration-color: #0087ff\">Dense</span>)                     │ (<span style=\"color: #00d7ff; text-decoration-color: #00d7ff\">None</span>, <span style=\"color: #00af00; text-decoration-color: #00af00\">10</span>)                  │             <span style=\"color: #00af00; text-decoration-color: #00af00\">510</span> │\n",
       "└──────────────────────────────────────┴─────────────────────────────┴─────────────────┘\n",
       "</pre>\n"
      ],
      "text/plain": [
       "┏━━━━━━━━━━━━━━━━━━━━━━━━━━━━━━━━━━━━━━┳━━━━━━━━━━━━━━━━━━━━━━━━━━━━━┳━━━━━━━━━━━━━━━━━┓\n",
       "┃\u001b[1m \u001b[0m\u001b[1mLayer (type)                        \u001b[0m\u001b[1m \u001b[0m┃\u001b[1m \u001b[0m\u001b[1mOutput Shape               \u001b[0m\u001b[1m \u001b[0m┃\u001b[1m \u001b[0m\u001b[1m        Param #\u001b[0m\u001b[1m \u001b[0m┃\n",
       "┡━━━━━━━━━━━━━━━━━━━━━━━━━━━━━━━━━━━━━━╇━━━━━━━━━━━━━━━━━━━━━━━━━━━━━╇━━━━━━━━━━━━━━━━━┩\n",
       "│ dense_21 (\u001b[38;5;33mDense\u001b[0m)                     │ (\u001b[38;5;45mNone\u001b[0m, \u001b[38;5;34m100\u001b[0m)                 │          \u001b[38;5;34m78,500\u001b[0m │\n",
       "├──────────────────────────────────────┼─────────────────────────────┼─────────────────┤\n",
       "│ dense_22 (\u001b[38;5;33mDense\u001b[0m)                     │ (\u001b[38;5;45mNone\u001b[0m, \u001b[38;5;34m50\u001b[0m)                  │           \u001b[38;5;34m5,050\u001b[0m │\n",
       "├──────────────────────────────────────┼─────────────────────────────┼─────────────────┤\n",
       "│ dense_23 (\u001b[38;5;33mDense\u001b[0m)                     │ (\u001b[38;5;45mNone\u001b[0m, \u001b[38;5;34m10\u001b[0m)                  │             \u001b[38;5;34m510\u001b[0m │\n",
       "└──────────────────────────────────────┴─────────────────────────────┴─────────────────┘\n"
      ]
     },
     "metadata": {},
     "output_type": "display_data"
    },
    {
     "data": {
      "text/html": [
       "<pre style=\"white-space:pre;overflow-x:auto;line-height:normal;font-family:Menlo,'DejaVu Sans Mono',consolas,'Courier New',monospace\"><span style=\"font-weight: bold\"> Total params: </span><span style=\"color: #00af00; text-decoration-color: #00af00\">84,060</span> (328.36 KB)\n",
       "</pre>\n"
      ],
      "text/plain": [
       "\u001b[1m Total params: \u001b[0m\u001b[38;5;34m84,060\u001b[0m (328.36 KB)\n"
      ]
     },
     "metadata": {},
     "output_type": "display_data"
    },
    {
     "data": {
      "text/html": [
       "<pre style=\"white-space:pre;overflow-x:auto;line-height:normal;font-family:Menlo,'DejaVu Sans Mono',consolas,'Courier New',monospace\"><span style=\"font-weight: bold\"> Trainable params: </span><span style=\"color: #00af00; text-decoration-color: #00af00\">84,060</span> (328.36 KB)\n",
       "</pre>\n"
      ],
      "text/plain": [
       "\u001b[1m Trainable params: \u001b[0m\u001b[38;5;34m84,060\u001b[0m (328.36 KB)\n"
      ]
     },
     "metadata": {},
     "output_type": "display_data"
    },
    {
     "data": {
      "text/html": [
       "<pre style=\"white-space:pre;overflow-x:auto;line-height:normal;font-family:Menlo,'DejaVu Sans Mono',consolas,'Courier New',monospace\"><span style=\"font-weight: bold\"> Non-trainable params: </span><span style=\"color: #00af00; text-decoration-color: #00af00\">0</span> (0.00 B)\n",
       "</pre>\n"
      ],
      "text/plain": [
       "\u001b[1m Non-trainable params: \u001b[0m\u001b[38;5;34m0\u001b[0m (0.00 B)\n"
      ]
     },
     "metadata": {},
     "output_type": "display_data"
    }
   ],
   "source": [
    "model.summary()"
   ]
  },
  {
   "cell_type": "code",
   "execution_count": 255,
   "id": "cde74906-8c2d-4332-8e5a-d2d42b808eb7",
   "metadata": {},
   "outputs": [],
   "source": [
    "model.compile(loss = BinaryCrossentropy,\n",
    "             optimizer=tf.keras.optimizers.Adam(learning_rate=0.01))"
   ]
  },
  {
   "cell_type": "code",
   "execution_count": 256,
   "id": "f5ab6817-bdad-4a0b-bac6-a24717333634",
   "metadata": {},
   "outputs": [
    {
     "data": {
      "text/plain": [
       "(10000, 784)"
      ]
     },
     "execution_count": 256,
     "metadata": {},
     "output_type": "execute_result"
    }
   ],
   "source": [
    "x_train=x_train/255.0\n",
    "x_test=x_test/255.0\n",
    "x_test.shape\n",
    "x_test=x_test.reshape(x_test.shape[0],-1)\n",
    "x_test.shape"
   ]
  },
  {
   "cell_type": "code",
   "execution_count": 257,
   "id": "9574e714-85ba-482b-a687-45739df42b26",
   "metadata": {
    "scrolled": true
   },
   "outputs": [
    {
     "name": "stdout",
     "output_type": "stream",
     "text": [
      "Epoch 1/5\n",
      "\u001b[1m1875/1875\u001b[0m \u001b[32m━━━━━━━━━━━━━━━━━━━━\u001b[0m\u001b[37m\u001b[0m \u001b[1m5s\u001b[0m 2ms/step - loss: 0.1048\n",
      "Epoch 2/5\n",
      "\u001b[1m1875/1875\u001b[0m \u001b[32m━━━━━━━━━━━━━━━━━━━━\u001b[0m\u001b[37m\u001b[0m \u001b[1m4s\u001b[0m 2ms/step - loss: 0.0259\n",
      "Epoch 3/5\n",
      "\u001b[1m1875/1875\u001b[0m \u001b[32m━━━━━━━━━━━━━━━━━━━━\u001b[0m\u001b[37m\u001b[0m \u001b[1m4s\u001b[0m 2ms/step - loss: 0.0205\n",
      "Epoch 4/5\n",
      "\u001b[1m1875/1875\u001b[0m \u001b[32m━━━━━━━━━━━━━━━━━━━━\u001b[0m\u001b[37m\u001b[0m \u001b[1m4s\u001b[0m 2ms/step - loss: 0.0183\n",
      "Epoch 5/5\n",
      "\u001b[1m1875/1875\u001b[0m \u001b[32m━━━━━━━━━━━━━━━━━━━━\u001b[0m\u001b[37m\u001b[0m \u001b[1m4s\u001b[0m 2ms/step - loss: 0.0166\n"
     ]
    },
    {
     "data": {
      "text/plain": [
       "<keras.src.callbacks.history.History at 0x1d1c1087490>"
      ]
     },
     "execution_count": 257,
     "metadata": {},
     "output_type": "execute_result"
    }
   ],
   "source": [
    "model.fit(x_train,y,epochs=5)"
   ]
  },
  {
   "cell_type": "code",
   "execution_count": 259,
   "id": "95dbcebb-37ac-4d11-ae1c-d74a0f47e7b0",
   "metadata": {},
   "outputs": [
    {
     "data": {
      "text/plain": [
       "(784, 100)"
      ]
     },
     "execution_count": 259,
     "metadata": {},
     "output_type": "execute_result"
    }
   ],
   "source": [
    "w1,b1=model.get_layer('dense_21').get_weights()\n",
    "w1.shape"
   ]
  },
  {
   "cell_type": "code",
   "execution_count": 265,
   "id": "ebdfc9fc-48a4-4ddb-97b5-7360ad44e404",
   "metadata": {},
   "outputs": [
    {
     "data": {
      "text/plain": [
       "(100,)"
      ]
     },
     "execution_count": 265,
     "metadata": {},
     "output_type": "execute_result"
    }
   ],
   "source": [
    "b1.shape"
   ]
  },
  {
   "cell_type": "code",
   "execution_count": 260,
   "id": "d556ac8e-a384-4ee6-8462-f62fab43994e",
   "metadata": {},
   "outputs": [],
   "source": [
    "w2,b2=model.get_layer('dense_22').get_weights()"
   ]
  },
  {
   "cell_type": "code",
   "execution_count": 263,
   "id": "d91b0ede-0be9-46d4-9c8c-739b6cc16d80",
   "metadata": {},
   "outputs": [
    {
     "data": {
      "text/plain": [
       "(100, 50)"
      ]
     },
     "execution_count": 263,
     "metadata": {},
     "output_type": "execute_result"
    }
   ],
   "source": [
    "w2.shape"
   ]
  },
  {
   "cell_type": "code",
   "execution_count": 264,
   "id": "387faa5d-c032-4f5c-aed6-d41aaf01e2cd",
   "metadata": {},
   "outputs": [
    {
     "data": {
      "text/plain": [
       "(50,)"
      ]
     },
     "execution_count": 264,
     "metadata": {},
     "output_type": "execute_result"
    }
   ],
   "source": [
    "b2.shape"
   ]
  },
  {
   "cell_type": "code",
   "execution_count": 261,
   "id": "970efaf2-974f-496e-ab56-488dca297858",
   "metadata": {},
   "outputs": [],
   "source": [
    "w3,b3=model.get_layer('dense_23').get_weights()"
   ]
  },
  {
   "cell_type": "code",
   "execution_count": 262,
   "id": "f46258df-deee-48c3-a3ae-e93958ae87f6",
   "metadata": {},
   "outputs": [
    {
     "data": {
      "text/plain": [
       "(50, 10)"
      ]
     },
     "execution_count": 262,
     "metadata": {},
     "output_type": "execute_result"
    }
   ],
   "source": [
    "w3.shape"
   ]
  },
  {
   "cell_type": "code",
   "execution_count": 266,
   "id": "9570d592-9252-4b5c-9455-5760e0e6001e",
   "metadata": {},
   "outputs": [
    {
     "data": {
      "text/plain": [
       "(10,)"
      ]
     },
     "execution_count": 266,
     "metadata": {},
     "output_type": "execute_result"
    }
   ],
   "source": [
    "b3.shape"
   ]
  },
  {
   "cell_type": "code",
   "execution_count": 267,
   "id": "9c06f22f-19e7-4b90-ab9c-05cd2da1cbd5",
   "metadata": {},
   "outputs": [],
   "source": [
    "def sigmoid(z):\n",
    "    z = np.clip(z, -500, 500)\n",
    "    return 1/(1+np.exp(-z))"
   ]
  },
  {
   "cell_type": "code",
   "execution_count": 268,
   "id": "3094e26a-277d-40bc-8775-b702c51138d5",
   "metadata": {},
   "outputs": [],
   "source": [
    "def dense(a,w,b):\n",
    "    units=w.shape[1]\n",
    "    z=np.dot(a,w)+b\n",
    "    a_out=sigmoid(z)\n",
    "    return a_out"
   ]
  },
  {
   "cell_type": "code",
   "execution_count": 269,
   "id": "5ab72ac2-e68f-46ed-ae64-6cbe4c01fa42",
   "metadata": {},
   "outputs": [],
   "source": [
    "def sequential(x,w1,b1,w2,b2,w3,b3):\n",
    "    a1=dense(x,w1,b1)\n",
    "    a2=dense(a1,w2,b2)\n",
    "    a3=dense(a2,w3,b3)\n",
    "    return a3"
   ]
  },
  {
   "cell_type": "code",
   "execution_count": 270,
   "id": "908bd49d-cdb0-43a3-9e43-eb7d99826049",
   "metadata": {},
   "outputs": [],
   "source": [
    "def predict(x,w1,b1,w2,b2,w3,b3):\n",
    "    m=len(x)\n",
    "    pred=np.array([np.zeros(10)]*m)\n",
    "    for i in range(m):\n",
    "        pred[i]=sequential(x[i],w1,b1,w2,b2,w3,b3)\n",
    "    return pred"
   ]
  },
  {
   "cell_type": "code",
   "execution_count": 279,
   "id": "8c24714b-455d-4e75-a3e1-a0f90c3c806c",
   "metadata": {},
   "outputs": [
    {
     "data": {
      "text/plain": [
       "(10000, 784)"
      ]
     },
     "execution_count": 279,
     "metadata": {},
     "output_type": "execute_result"
    }
   ],
   "source": [
    "x_test.shape"
   ]
  },
  {
   "cell_type": "code",
   "execution_count": 293,
   "id": "48e2a1cd-149c-4c69-9782-0f0326916795",
   "metadata": {},
   "outputs": [],
   "source": [
    "res=predict(x_test,w1,b1,w2,b2,w3,b3)"
   ]
  },
  {
   "cell_type": "code",
   "execution_count": 294,
   "id": "6894baea-2e01-4d4a-abfd-a26593bfc28a",
   "metadata": {},
   "outputs": [
    {
     "data": {
      "text/plain": [
       "array([[3.21219849e-05, 1.11346046e-04, 2.67491773e-04, ...,\n",
       "        9.99806751e-01, 4.81521709e-05, 5.22584134e-05],\n",
       "       [1.07209614e-03, 2.12000403e-03, 9.99123658e-01, ...,\n",
       "        6.04409528e-06, 1.92697099e-04, 2.30177023e-09],\n",
       "       [4.76097690e-06, 9.99314292e-01, 2.15921700e-04, ...,\n",
       "        1.32368205e-04, 2.63221301e-05, 2.30560461e-07],\n",
       "       ...,\n",
       "       [7.78764803e-06, 3.07269848e-06, 9.37912755e-04, ...,\n",
       "        2.85593870e-04, 1.07972511e-03, 9.83143210e-04],\n",
       "       [1.45160695e-04, 2.90823882e-06, 1.83681529e-06, ...,\n",
       "        1.34236076e-06, 1.64310596e-03, 2.04711007e-05],\n",
       "       [3.54923991e-04, 3.69475145e-06, 1.36488091e-05, ...,\n",
       "        5.32777794e-06, 1.41146368e-04, 2.92046655e-07]])"
      ]
     },
     "execution_count": 294,
     "metadata": {},
     "output_type": "execute_result"
    }
   ],
   "source": [
    "res"
   ]
  },
  {
   "cell_type": "code",
   "execution_count": 295,
   "id": "0bad2e72-fd3b-46e1-abad-5a92f260fb7e",
   "metadata": {},
   "outputs": [
    {
     "data": {
      "text/plain": [
       "array([[0., 0., 0., ..., 1., 0., 0.],\n",
       "       [0., 0., 1., ..., 0., 0., 0.],\n",
       "       [0., 1., 0., ..., 0., 0., 0.],\n",
       "       ...,\n",
       "       [0., 0., 0., ..., 0., 0., 0.],\n",
       "       [0., 0., 0., ..., 0., 0., 0.],\n",
       "       [0., 0., 0., ..., 0., 0., 0.]])"
      ]
     },
     "execution_count": 295,
     "metadata": {},
     "output_type": "execute_result"
    }
   ],
   "source": [
    "m=len(res)\n",
    "n=10\n",
    "for i in range(m):\n",
    "    for j in range(n):\n",
    "        if res[i][j]>=0.5:\n",
    "            res[i][j]=1\n",
    "        else:\n",
    "            res[i][j]=0\n",
    "\n",
    "res"
   ]
  },
  {
   "cell_type": "code",
   "execution_count": 296,
   "id": "2fa9f3bd-f7b5-46d0-b947-6bba1a7ef6f5",
   "metadata": {},
   "outputs": [
    {
     "data": {
      "text/plain": [
       "array([[0., 0., 0., ..., 1., 0., 0.],\n",
       "       [0., 0., 1., ..., 0., 0., 0.],\n",
       "       [0., 1., 0., ..., 0., 0., 0.],\n",
       "       ...,\n",
       "       [0., 0., 0., ..., 0., 0., 0.],\n",
       "       [0., 0., 0., ..., 0., 0., 0.],\n",
       "       [0., 0., 0., ..., 0., 0., 0.]])"
      ]
     },
     "execution_count": 296,
     "metadata": {},
     "output_type": "execute_result"
    }
   ],
   "source": [
    "m=len(y_test)\n",
    "y=np.array([np.zeros(10)]*m)\n",
    "y\n",
    "for i in range(m):\n",
    "    res=np.zeros(10)\n",
    "    ind=y_test[i]\n",
    "    res[ind]=1\n",
    "    y[i]=np.array(res)\n",
    "\n",
    "y"
   ]
  },
  {
   "cell_type": "code",
   "execution_count": 297,
   "id": "ca001a29-b8fd-4b20-8791-5e6b2ee7ee66",
   "metadata": {},
   "outputs": [
    {
     "data": {
      "text/plain": [
       "(np.int64(7), np.int64(2))"
      ]
     },
     "execution_count": 297,
     "metadata": {},
     "output_type": "execute_result"
    }
   ],
   "source": [
    "np.argmax(y[0]),np.argmax(y[1])   # argmax gives index where element is zero"
   ]
  },
  {
   "cell_type": "code",
   "execution_count": 298,
   "id": "16074f9e-b184-49c4-9128-5a0e67a802ae",
   "metadata": {},
   "outputs": [],
   "source": [
    "def accuracy(res,y):\n",
    "    count=0\n",
    "    for i in range(len(res)):\n",
    "        if np.argmax(res[i])!=np.argmax(y[i]):\n",
    "            count+=1\n",
    "        else:\n",
    "            pass\n",
    "    return count"
   ]
  },
  {
   "cell_type": "code",
   "execution_count": 299,
   "id": "c0a0091a-61bf-4ef0-b4a2-81aa4c31657c",
   "metadata": {},
   "outputs": [
    {
     "data": {
      "text/plain": [
       "9"
      ]
     },
     "execution_count": 299,
     "metadata": {},
     "output_type": "execute_result"
    }
   ],
   "source": [
    "accuracy(res,y)"
   ]
  },
  {
   "cell_type": "code",
   "execution_count": null,
   "id": "cf47646e-b98f-4d63-aa40-0d19da3154f9",
   "metadata": {},
   "outputs": [],
   "source": []
  }
 ],
 "metadata": {
  "kernelspec": {
   "display_name": "Python 3 (ipykernel)",
   "language": "python",
   "name": "python3"
  },
  "language_info": {
   "codemirror_mode": {
    "name": "ipython",
    "version": 3
   },
   "file_extension": ".py",
   "mimetype": "text/x-python",
   "name": "python",
   "nbconvert_exporter": "python",
   "pygments_lexer": "ipython3",
   "version": "3.10.9"
  }
 },
 "nbformat": 4,
 "nbformat_minor": 5
}
