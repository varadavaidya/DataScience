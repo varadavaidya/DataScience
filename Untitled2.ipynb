{
 "cells": [
  {
   "cell_type": "code",
   "execution_count": 17,
   "id": "2d660f2a-1e67-43c9-a235-927066f57a5d",
   "metadata": {},
   "outputs": [],
   "source": [
    "def knapsack(sum,wei,vals,n):\n",
    "    if n==0:\n",
    "        return 0\n",
    "    elif sum==0:\n",
    "        return 0\n",
    "    else:\n",
    "        if wei[n-1]<=sum:\n",
    "            option1= vals[n]+ knapsack(sum-wei[n-1],wei,vals,n-1)\n",
    "            option2= knapsack(sum,wei,vals,n-1)\n",
    "            res= max(option1,option2)\n",
    "        else:\n",
    "            res= knapsack(sum,wei,vals,n-1)\n",
    "        return res"
   ]
  },
  {
   "cell_type": "code",
   "execution_count": 18,
   "id": "aa4260e0-62ae-4ed8-8d40-04e4f06b83f2",
   "metadata": {},
   "outputs": [],
   "source": [
    "wei=[4,6,3,5,2]\n",
    "vals=[10,20,12,18,8]"
   ]
  },
  {
   "cell_type": "code",
   "execution_count": 19,
   "id": "cded36a3-aa2c-492f-8782-a690aff2d622",
   "metadata": {},
   "outputs": [
    {
     "data": {
      "text/plain": [
       "50"
      ]
     },
     "execution_count": 19,
     "metadata": {},
     "output_type": "execute_result"
    }
   ],
   "source": [
    "knapsack(15,wei,vals,4)"
   ]
  },
  {
   "cell_type": "code",
   "execution_count": 20,
   "id": "14e8a542-8af7-43f9-bb45-28ed623e3f6a",
   "metadata": {},
   "outputs": [],
   "source": [
    "arr=['b','c','d']"
   ]
  },
  {
   "cell_type": "code",
   "execution_count": 21,
   "id": "e1535118-560a-4918-9d32-525ed1d62b44",
   "metadata": {},
   "outputs": [],
   "source": [
    "en=enumerate(sorted(set(arr)))"
   ]
  },
  {
   "cell_type": "code",
   "execution_count": 22,
   "id": "58274fd7-5ee3-49dd-a66b-ebbce5cca07a",
   "metadata": {},
   "outputs": [
    {
     "name": "stdout",
     "output_type": "stream",
     "text": [
      "(0, 'b')\n",
      "0\n",
      "(1, 'c')\n",
      "1\n",
      "(2, 'd')\n",
      "2\n"
     ]
    }
   ],
   "source": [
    "for x in en:\n",
    "    print(x)\n",
    "    print(x[0])"
   ]
  },
  {
   "cell_type": "code",
   "execution_count": 23,
   "id": "93e46f66-ff0b-4941-9c77-380742528cd2",
   "metadata": {},
   "outputs": [],
   "source": [
    "import numpy as np"
   ]
  },
  {
   "cell_type": "code",
   "execution_count": 24,
   "id": "ff36ba86-4610-4f94-b38c-f6bb19395bd5",
   "metadata": {},
   "outputs": [],
   "source": [
    "encoder=[]"
   ]
  },
  {
   "cell_type": "code",
   "execution_count": 25,
   "id": "d277d94b-69ce-463a-9676-4fed2d9eb2c0",
   "metadata": {},
   "outputs": [],
   "source": [
    "for i,j in en:\n",
    "    one=[0]*(len(arr))\n",
    "    one[i]=1\n",
    "    encoder.append(one)"
   ]
  },
  {
   "cell_type": "code",
   "execution_count": 26,
   "id": "c9e2bbff-6e8e-4c8f-8663-8b0464cb3c46",
   "metadata": {},
   "outputs": [
    {
     "data": {
      "text/plain": [
       "[]"
      ]
     },
     "execution_count": 26,
     "metadata": {},
     "output_type": "execute_result"
    }
   ],
   "source": [
    "encoder"
   ]
  },
  {
   "cell_type": "code",
   "execution_count": 33,
   "id": "aef96237-1048-4a79-b314-367f92f10d6d",
   "metadata": {},
   "outputs": [],
   "source": [
    "import numpy as np\n",
    "\n",
    "arr = ['b', 'c', 'd','c','d','a','g','t']\n",
    "classes = sorted(set(arr))  # ['b', 'c', 'd']\n",
    "encoder = []\n",
    "\n",
    "for i, val in enumerate(classes):\n",
    "    one = np.zeros(len(classes))\n",
    "    one[i] = 1\n",
    "    encoder.append(one)"
   ]
  },
  {
   "cell_type": "code",
   "execution_count": 34,
   "id": "9851fbbe-7bc3-4af8-8bcd-d6a4b7f4e166",
   "metadata": {},
   "outputs": [
    {
     "data": {
      "text/plain": [
       "[array([1., 0., 0., 0., 0., 0.]),\n",
       " array([0., 1., 0., 0., 0., 0.]),\n",
       " array([0., 0., 1., 0., 0., 0.]),\n",
       " array([0., 0., 0., 1., 0., 0.]),\n",
       " array([0., 0., 0., 0., 1., 0.]),\n",
       " array([0., 0., 0., 0., 0., 1.])]"
      ]
     },
     "execution_count": 34,
     "metadata": {},
     "output_type": "execute_result"
    }
   ],
   "source": [
    "encoder"
   ]
  },
  {
   "cell_type": "code",
   "execution_count": 35,
   "id": "9b18cc3a-ba9a-41f1-ab27-a28910e2c686",
   "metadata": {},
   "outputs": [
    {
     "data": {
      "text/plain": [
       "array([[1., 0., 0., 0., 0., 0.],\n",
       "       [0., 1., 0., 0., 0., 0.],\n",
       "       [0., 0., 1., 0., 0., 0.],\n",
       "       [0., 0., 0., 1., 0., 0.],\n",
       "       [0., 0., 0., 0., 1., 0.],\n",
       "       [0., 0., 0., 0., 0., 1.]])"
      ]
     },
     "execution_count": 35,
     "metadata": {},
     "output_type": "execute_result"
    }
   ],
   "source": [
    "np.array(encoder)"
   ]
  },
  {
   "cell_type": "code",
   "execution_count": 36,
   "id": "47234230-4cae-499a-9401-c736818bd781",
   "metadata": {},
   "outputs": [
    {
     "data": {
      "text/plain": [
       "['a', 'b', 'c', 'd', 'g', 't']"
      ]
     },
     "execution_count": 36,
     "metadata": {},
     "output_type": "execute_result"
    }
   ],
   "source": [
    "classes"
   ]
  },
  {
   "cell_type": "code",
   "execution_count": 38,
   "id": "732eccfe-3321-4596-8c4e-6a658c772de9",
   "metadata": {},
   "outputs": [
    {
     "name": "stdout",
     "output_type": "stream",
     "text": [
      "(0, 'a')\n",
      "(1, 'b')\n",
      "(2, 'c')\n",
      "(3, 'd')\n",
      "(4, 'g')\n",
      "(5, 't')\n"
     ]
    }
   ],
   "source": [
    "for x in enumerate(classes):\n",
    "    print(x)"
   ]
  },
  {
   "cell_type": "markdown",
   "id": "38bd39e2-c838-4a4b-bc32-f4f6d25ef838",
   "metadata": {},
   "source": [
    "# Label ENcoder"
   ]
  },
  {
   "cell_type": "code",
   "execution_count": 39,
   "id": "aab796fd-f6de-4427-95c1-756d2305830f",
   "metadata": {},
   "outputs": [],
   "source": [
    "ordinal=['low','medium','high','low','high','medium']"
   ]
  },
  {
   "cell_type": "code",
   "execution_count": 40,
   "id": "068493af-69d8-4d97-998a-05ec54b98b23",
   "metadata": {},
   "outputs": [],
   "source": [
    "labels={'low':0,'medium':1,'high':2}"
   ]
  },
  {
   "cell_type": "code",
   "execution_count": 42,
   "id": "10981b19-aaa5-4753-adff-8148ff97f515",
   "metadata": {},
   "outputs": [],
   "source": [
    "label_encoder=[]"
   ]
  },
  {
   "cell_type": "code",
   "execution_count": 43,
   "id": "89a822c6-c3e9-4441-a53e-b4ec56879dd5",
   "metadata": {},
   "outputs": [],
   "source": [
    "no_classes=len(labels)"
   ]
  },
  {
   "cell_type": "code",
   "execution_count": 45,
   "id": "d974b702-cfcc-4b6d-ab4f-a416badbc35f",
   "metadata": {},
   "outputs": [
    {
     "data": {
      "text/plain": [
       "3"
      ]
     },
     "execution_count": 45,
     "metadata": {},
     "output_type": "execute_result"
    }
   ],
   "source": [
    "no_classes"
   ]
  },
  {
   "cell_type": "code",
   "execution_count": 47,
   "id": "c8ad2816-c42a-4e98-8e94-f0bfbe5b5435",
   "metadata": {},
   "outputs": [],
   "source": [
    "for x in ordinal:\n",
    "    ordinal[ordinal.index(x)]=labels[x]"
   ]
  },
  {
   "cell_type": "code",
   "execution_count": 48,
   "id": "6bb86715-ef4a-4779-9d31-e735b3493332",
   "metadata": {},
   "outputs": [
    {
     "data": {
      "text/plain": [
       "[0, 1, 2, 0, 2, 1]"
      ]
     },
     "execution_count": 48,
     "metadata": {},
     "output_type": "execute_result"
    }
   ],
   "source": [
    "ordinal"
   ]
  },
  {
   "cell_type": "code",
   "execution_count": null,
   "id": "b22836c2-ab27-473f-a353-1a32e612eae6",
   "metadata": {},
   "outputs": [],
   "source": []
  }
 ],
 "metadata": {
  "kernelspec": {
   "display_name": "Python 3 (ipykernel)",
   "language": "python",
   "name": "python3"
  },
  "language_info": {
   "codemirror_mode": {
    "name": "ipython",
    "version": 3
   },
   "file_extension": ".py",
   "mimetype": "text/x-python",
   "name": "python",
   "nbconvert_exporter": "python",
   "pygments_lexer": "ipython3",
   "version": "3.10.9"
  }
 },
 "nbformat": 4,
 "nbformat_minor": 5
}
