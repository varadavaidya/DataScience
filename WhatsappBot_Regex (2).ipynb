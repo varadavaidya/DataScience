{
 "cells": [
  {
   "cell_type": "code",
   "execution_count": 1,
   "id": "b900d8f6-dabc-4cdf-8032-165aab76025b",
   "metadata": {},
   "outputs": [],
   "source": [
    "# STEP 1: Installing required libraries \n",
    "!pip install flask pyngrok twilio --quiet"
   ]
  },
  {
   "cell_type": "code",
   "execution_count": 2,
   "id": "ae329452-9d39-40f4-8897-90aa35b4f848",
   "metadata": {},
   "outputs": [
    {
     "name": "stdout",
     "output_type": "stream",
     "text": [
      " SQLite database and 'expenses' table ready.\n"
     ]
    }
   ],
   "source": [
    "# STEP 2: Setting up SQLite database\n",
    "import sqlite3\n",
    "from datetime import datetime\n",
    "\n",
    "conn = sqlite3.connect(\"expenses.db\", check_same_thread=False)\n",
    "cursor = conn.cursor()\n",
    "\n",
    "cursor.execute('''\n",
    "CREATE TABLE IF NOT EXISTS expenses (\n",
    "    id INTEGER PRIMARY KEY AUTOINCREMENT,\n",
    "    user TEXT,\n",
    "    amount INTEGER,\n",
    "    category TEXT,\n",
    "    vendor TEXT,\n",
    "    description TEXT,\n",
    "    date TEXT\n",
    ")\n",
    "''')\n",
    "conn.commit()\n",
    "print(\" SQLite database and 'expenses' table ready.\")"
   ]
  },
  {
   "cell_type": "code",
   "execution_count": 3,
   "id": "85fa0d08-4d8e-4a5f-9406-05732a3718f2",
   "metadata": {},
   "outputs": [],
   "source": [
    "# STEP 3: Defining a function to save expenses\n",
    "import sqlite3\n",
    "\n",
    "def save_expense(user, amount, category, vendor, description, date):\n",
    "    conn = sqlite3.connect(\"expenses.db\")  # Create a new connection inside the function\n",
    "    cursor = conn.cursor()\n",
    "    cursor.execute(\"\"\"\n",
    "        INSERT INTO expenses (user, amount, category, vendor, description, date)\n",
    "        VALUES (?, ?, ?, ?, ?, ?)\n",
    "    \"\"\", (user, amount, category, vendor, description, date))\n",
    "    conn.commit()\n",
    "    conn.close()  # Close the connection after each use\n"
   ]
  },
  {
   "cell_type": "code",
   "execution_count": 4,
   "id": "a287431d-3a1e-473d-b28b-4a4701b9532d",
   "metadata": {},
   "outputs": [],
   "source": [
    "import re"
   ]
  },
  {
   "cell_type": "code",
   "execution_count": 5,
   "id": "6aa49464-e730-4f83-8b91-8ebfc9757aa5",
   "metadata": {},
   "outputs": [],
   "source": [
    "def detect_category(msg):\n",
    "    msg = msg.lower()\n",
    "\n",
    "    category_keywords = {\n",
    "        \"food\": [\"tea\", \"coffee\", \"pizza\", \"biryani\", \"snacks\", \"breakfast\", \"lunch\", \"dinner\", \"swiggy\", \"zomato\", \"ccd\", \"starbucks\",\"pizza\"],\n",
    "        \"essentials\": [\"groceries\", \"milk\", \"vegetables\", \"zepto\", \"blinkit\", \"amazon pantry\"],\n",
    "        \"medicines\": [\"pharmacy\", \"tablet\", \"medicine\", \"1mg\", \"medlife\", \"prescription\", \"chemist\"],\n",
    "        \"sports\": [\"gym\", \"shoes\", \"football\", \"cricket\", \"bat\", \"sports\", \"yoga\", \"exercise\",\"jersey\"]\n",
    "    }\n",
    "\n",
    "    for category, keywords in category_keywords.items():\n",
    "        if any(word in msg for word in keywords):\n",
    "            return category\n",
    "\n",
    "    return \"other\"  # fallback\n"
   ]
  },
  {
   "cell_type": "code",
   "execution_count": 6,
   "id": "f34cae90-9112-4dfc-82e9-ecd87cc3f63a",
   "metadata": {},
   "outputs": [],
   "source": [
    "def get_spending_between_dates(user, start_date, end_date, category=None):\n",
    "    if category:\n",
    "        cursor.execute(\"\"\"\n",
    "            SELECT SUM(amount) FROM expenses\n",
    "            WHERE user = ? AND category = ? AND date BETWEEN ? AND ?\n",
    "        \"\"\", (user, category, start_date, end_date))\n",
    "    else:\n",
    "        cursor.execute(\"\"\"\n",
    "            SELECT SUM(amount) FROM expenses\n",
    "            WHERE user = ? AND date BETWEEN ? AND ?\n",
    "        \"\"\", (user, start_date, end_date))\n",
    "    result = cursor.fetchone()[0]\n",
    "    return result if result else 0\n",
    "\n"
   ]
  },
  {
   "cell_type": "code",
   "execution_count": 7,
   "id": "2a3a51b3-1dc6-4abe-a66d-6c6356e1b202",
   "metadata": {},
   "outputs": [],
   "source": [
    "def correct_expense(user, old_amount, new_amount, date):\n",
    "    import sqlite3\n",
    "\n",
    "    conn = sqlite3.connect(\"expenses.db\")\n",
    "    cursor = conn.cursor()\n",
    "\n",
    "    try:\n",
    "        # First: find the latest matching row's ID\n",
    "        cursor.execute(\"\"\"\n",
    "            SELECT id FROM expenses\n",
    "            WHERE user = ? AND amount = ? AND date(date) = ?\n",
    "            ORDER BY id DESC\n",
    "            LIMIT 1\n",
    "        \"\"\", (user, old_amount, date.strftime(\"%Y-%m-%d\")))\n",
    "        result = cursor.fetchone()\n",
    "\n",
    "        if result:\n",
    "            expense_id = result[0]\n",
    "            cursor.execute(\"\"\"\n",
    "                UPDATE expenses\n",
    "                SET amount = ?\n",
    "                WHERE id = ?\n",
    "            \"\"\", (new_amount, expense_id))\n",
    "            conn.commit()\n",
    "            return True\n",
    "        else:\n",
    "            return False\n",
    "\n",
    "    except Exception as e:\n",
    "        print(\"Correction error:\", e)\n",
    "        return False\n",
    "    finally:\n",
    "        conn.close()\n"
   ]
  },
  {
   "cell_type": "code",
   "execution_count": 8,
   "id": "c2bf4768-5860-425a-ad88-968b603449f7",
   "metadata": {},
   "outputs": [],
   "source": [
    "from flask import Flask, request\n",
    "from twilio.twiml.messaging_response import MessagingResponse\n",
    "\n",
    "app=Flask(__name__)\n",
    "known_users = set()  # This should be declared globally\n",
    "\n",
    "@app.route(\"/webhook\", methods=[\"POST\"])\n",
    "def webhook():\n",
    "    import re\n",
    "    from datetime import datetime\n",
    "\n",
    "    incoming_msg = request.form.get('Body') or \"\"\n",
    "    sender = request.form.get('From') or \"\"\n",
    "    msg_lower = incoming_msg.lower()\n",
    "\n",
    "    print(\" Incoming:\", incoming_msg)\n",
    "\n",
    "    response = MessagingResponse()\n",
    "    msg = response.message()\n",
    "\n",
    "    # 👋 Welcome message\n",
    "    if sender not in known_users:\n",
    "        known_users.add(sender)\n",
    "        msg.body(\"👋 Welcome! You can start by saying something like 'Spent 200 on pizza'. I'll track your expenses and answer your queries.\")\n",
    "        return str(response)\n",
    "    # STEP: Handle correction of expenses\n",
    "    if re.search(r\"(change|correct|update|not)\\s.*(\\d+)\", msg_lower):\n",
    "        # Pattern 1: \"change 100 to 200\", \"update 100 to 200\"\n",
    "        match1 = re.search(r\"(?:change|correct|update)\\s+(?:rs|₹)?\\s?(\\d+)\\s+(?:to)\\s+(?:rs|₹)?\\s?(\\d+)\", msg_lower)\n",
    "\n",
    "        # Pattern 2: \"200 not 100\", \"update 200 not 100\"\n",
    "        match2 = re.search(r\"(?:update|change|correct)?\\s*(?:rs|₹)?\\s?(\\d+)\\s+(?:not|instead of)\\s+(?:rs|₹)?\\s?(\\d+)\", msg_lower)\n",
    "\n",
    "        # Date pattern: flexible\n",
    "        date_match = re.search(r\"(\\d{1,2}\\s+\\w+\\s+\\d{4}|\\d{1,2}/\\d{1,2}/\\d{2,4})\", msg_lower)\n",
    "\n",
    "        if match1:\n",
    "            old_amount = int(match1.group(1))\n",
    "            new_amount = int(match1.group(2))\n",
    "        elif match2:\n",
    "            new_amount = int(match2.group(1))\n",
    "            old_amount = int(match2.group(2))\n",
    "        else:\n",
    "            msg.body(\"❌ Couldn't understand the correction. Try 'change 100 to 200' or '200 not 100'\")\n",
    "            return str(response)\n",
    "\n",
    "        # Parse date if present\n",
    "        expense_date = None\n",
    "        if date_match:\n",
    "            try:\n",
    "                expense_date = datetime.strptime(date_match.group(1), \"%d %B %Y\")\n",
    "            except:\n",
    "                try:\n",
    "                    expense_date = datetime.strptime(date_match.group(1), \"%d/%m/%Y\")\n",
    "                except:\n",
    "                    try:\n",
    "                        expense_date = datetime.strptime(date_match.group(1), \"%d/%m/%y\")\n",
    "                    except:\n",
    "                        pass\n",
    "        if not expense_date:\n",
    "            expense_date = datetime.now().date()\n",
    "\n",
    "        # ✅ Correct the record using the function\n",
    "        success = correct_expense(sender, old_amount, new_amount, expense_date)\n",
    "        if success:\n",
    "            msg.body(f\"✅ Updated your record: {old_amount} → {new_amount} on {expense_date.strftime('%d %b %Y')}\")\n",
    "        else:\n",
    "            msg.body(\"⚠️ Couldn't find a matching expense to correct.\")\n",
    "        return str(response)\n",
    "\n",
    "\n",
    "            \n",
    "    # 💸 STEP 1: Handle expense entries\n",
    "    elif any(word in msg_lower for word in [\"spent\", \"paid\", \"bought\"]):\n",
    "        amount_match = re.findall(r'(?:₹|rs)?\\s?(\\d+)', msg_lower)\n",
    "        if amount_match:\n",
    "            amount = int(amount_match[0])\n",
    "            category = detect_category(incoming_msg)\n",
    "            vendor = \"unknown\"\n",
    "            description = incoming_msg\n",
    "            date = datetime.now().strftime(\"%Y-%m-%d\")\n",
    "\n",
    "            save_expense(sender, amount, category, vendor, description, date)\n",
    "            msg.body(f\"💰 Got it! You've spent ₹{amount} on {category}.\")\n",
    "        else:\n",
    "            msg.body(\"❌ Couldn't find the amount. Try: 'Spent ₹300 on snacks'.\")\n",
    "\n",
    "    # 📅 STEP 2: Handle total queries with time range\n",
    "    elif \"from\" in msg_lower and \"to\" in msg_lower:\n",
    "        date_match = re.findall(r\"\\d{4}-\\d{2}-\\d{2}\", msg_lower)\n",
    "        categories = [\"food\", \"essentials\", \"medicines\", \"sports\"]\n",
    "        found_category = None\n",
    "        for cat in categories:\n",
    "            if cat in msg_lower:\n",
    "                found_category = cat\n",
    "                break\n",
    "\n",
    "        if len(date_match) == 2:\n",
    "            start_date, end_date = date_match\n",
    "            total = get_spending_between_dates(sender, start_date, end_date, found_category)\n",
    "            if found_category:\n",
    "                msg.body(f\"📊 You spent ₹{total} on {found_category} from {start_date} to {end_date}.\")\n",
    "            else:\n",
    "                msg.body(f\"📊 You spent ₹{total} from {start_date} to {end_date}.\")\n",
    "        else:\n",
    "            msg.body(\"⚠️ Please use date format: from YYYY-MM-DD to YYYY-MM-DD\")\n",
    "\n",
    "    # 🧾 STEP 3: Handle category-wise or total queries\n",
    "    elif re.search(r\"(how much|what.*spend|total.*spend|spent.*total|how much have i spent)\", msg_lower):\n",
    "        print(\" Matched as query:\", msg_lower)\n",
    "        categories = [\"food\", \"essentials\", \"medicines\", \"sports\"]\n",
    "        found_category = None\n",
    "\n",
    "        for cat in categories:\n",
    "            if cat in msg_lower:\n",
    "                found_category = cat\n",
    "                break\n",
    "\n",
    "        if found_category:\n",
    "            cursor.execute(\"SELECT SUM(amount) FROM expenses WHERE user = ? AND category = ?\", (sender, found_category))\n",
    "            total = cursor.fetchone()[0] or 0\n",
    "            msg.body(f\"📦 You’ve spent ₹{total} on {found_category}.\")\n",
    "        else:\n",
    "            cursor.execute(\"SELECT SUM(amount) FROM expenses WHERE user = ?\", (sender,))\n",
    "            total = cursor.fetchone()[0] or 0\n",
    "            msg.body(f\"💸 You’ve spent ₹{total} in total.\")\n",
    "\n",
    "    \n",
    "\n",
    "    # ❓ STEP 4: Unknown message\n",
    "    else:\n",
    "        msg.body(\"🤖 Try: 'Spent ₹300 on coffee', 'How much on food?', or 'How much from 2025-05-01 to 2025-05-10?'\")\n",
    "\n",
    "    return str(response)\n",
    "\n",
    "\n"
   ]
  },
  {
   "cell_type": "code",
   "execution_count": 9,
   "id": "0b624ea2-90e9-4487-a6a4-bfc59efa3f7d",
   "metadata": {
    "scrolled": true
   },
   "outputs": [
    {
     "name": "stdout",
     "output_type": "stream",
     "text": [
      " * Serving Flask app '__main__'\n",
      " * Debug mode: off\n"
     ]
    },
    {
     "name": "stderr",
     "output_type": "stream",
     "text": [
      "WARNING: This is a development server. Do not use it in a production deployment. Use a production WSGI server instead.\n",
      " * Running on all addresses (0.0.0.0)\n",
      " * Running on http://127.0.0.1:5000\n",
      " * Running on http://192.168.1.3:5000\n",
      "Press CTRL+C to quit\n",
      "127.0.0.1 - - [29/May/2025 14:06:36] \"POST /webhook HTTP/1.1\" 200 -\n"
     ]
    },
    {
     "name": "stdout",
     "output_type": "stream",
     "text": [
      " Incoming: Hi\n"
     ]
    },
    {
     "name": "stderr",
     "output_type": "stream",
     "text": [
      "127.0.0.1 - - [29/May/2025 14:06:41] \"POST /webhook HTTP/1.1\" 200 -\n"
     ]
    },
    {
     "name": "stdout",
     "output_type": "stream",
     "text": [
      " Incoming: Spent 400 on lunch\n"
     ]
    },
    {
     "name": "stderr",
     "output_type": "stream",
     "text": [
      "127.0.0.1 - - [29/May/2025 14:06:47] \"POST /webhook HTTP/1.1\" 200 -\n"
     ]
    },
    {
     "name": "stdout",
     "output_type": "stream",
     "text": [
      " Incoming: Spent 409 on medicines\n"
     ]
    },
    {
     "name": "stderr",
     "output_type": "stream",
     "text": [
      "127.0.0.1 - - [29/May/2025 14:06:53] \"POST /webhook HTTP/1.1\" 200 -\n"
     ]
    },
    {
     "name": "stdout",
     "output_type": "stream",
     "text": [
      " Incoming: How much have I spent?\n"
     ]
    },
    {
     "name": "stderr",
     "output_type": "stream",
     "text": [
      "[2025-05-29 14:07:02,306] ERROR in app: Exception on /webhook [POST]\n",
      "Traceback (most recent call last):\n",
      "  File \"C:\\Users\\varad\\AppData\\Roaming\\Python\\Python310\\site-packages\\flask\\app.py\", line 1511, in wsgi_app\n",
      "    response = self.full_dispatch_request()\n",
      "  File \"C:\\Users\\varad\\AppData\\Roaming\\Python\\Python310\\site-packages\\flask\\app.py\", line 919, in full_dispatch_request\n",
      "    rv = self.handle_user_exception(e)\n",
      "  File \"C:\\Users\\varad\\AppData\\Roaming\\Python\\Python310\\site-packages\\flask\\app.py\", line 917, in full_dispatch_request\n",
      "    rv = self.dispatch_request()\n",
      "  File \"C:\\Users\\varad\\AppData\\Roaming\\Python\\Python310\\site-packages\\flask\\app.py\", line 902, in dispatch_request\n",
      "    return self.ensure_sync(self.view_functions[rule.endpoint])(**view_args)  # type: ignore[no-any-return]\n",
      "  File \"C:\\Users\\varad\\AppData\\Local\\Temp\\ipykernel_102412\\504955289.py\", line 124, in webhook\n",
      "    cursor.execute(\"SELECT SUM(amount) FROM expenses WHERE user = ?\", (sender,))\n",
      "sqlite3.ProgrammingError: SQLite objects created in a thread can only be used in that same thread. The object was created in thread id 58908 and this is thread id 20200.\n",
      "127.0.0.1 - - [29/May/2025 14:07:02] \"POST /webhook HTTP/1.1\" 500 -\n"
     ]
    },
    {
     "name": "stdout",
     "output_type": "stream",
     "text": [
      " Incoming: Total spending?\n",
      " Matched as query: total spending?\n"
     ]
    },
    {
     "name": "stderr",
     "output_type": "stream",
     "text": [
      "[2025-05-29 14:07:12,812] ERROR in app: Exception on /webhook [POST]\n",
      "Traceback (most recent call last):\n",
      "  File \"C:\\Users\\varad\\AppData\\Roaming\\Python\\Python310\\site-packages\\flask\\app.py\", line 1511, in wsgi_app\n",
      "    response = self.full_dispatch_request()\n",
      "  File \"C:\\Users\\varad\\AppData\\Roaming\\Python\\Python310\\site-packages\\flask\\app.py\", line 919, in full_dispatch_request\n",
      "    rv = self.handle_user_exception(e)\n",
      "  File \"C:\\Users\\varad\\AppData\\Roaming\\Python\\Python310\\site-packages\\flask\\app.py\", line 917, in full_dispatch_request\n",
      "    rv = self.dispatch_request()\n",
      "  File \"C:\\Users\\varad\\AppData\\Roaming\\Python\\Python310\\site-packages\\flask\\app.py\", line 902, in dispatch_request\n",
      "    return self.ensure_sync(self.view_functions[rule.endpoint])(**view_args)  # type: ignore[no-any-return]\n",
      "  File \"C:\\Users\\varad\\AppData\\Local\\Temp\\ipykernel_102412\\504955289.py\", line 120, in webhook\n",
      "    cursor.execute(\"SELECT SUM(amount) FROM expenses WHERE user = ? AND category = ?\", (sender, found_category))\n",
      "sqlite3.ProgrammingError: SQLite objects created in a thread can only be used in that same thread. The object was created in thread id 58908 and this is thread id 74580.\n",
      "127.0.0.1 - - [29/May/2025 14:07:12] \"POST /webhook HTTP/1.1\" 500 -\n"
     ]
    },
    {
     "name": "stdout",
     "output_type": "stream",
     "text": [
      " Incoming: How much on medicines?\n",
      " Matched as query: how much on medicines?\n"
     ]
    },
    {
     "name": "stderr",
     "output_type": "stream",
     "text": [
      "[2025-05-29 14:07:21,895] ERROR in app: Exception on /webhook [POST]\n",
      "Traceback (most recent call last):\n",
      "  File \"C:\\Users\\varad\\AppData\\Roaming\\Python\\Python310\\site-packages\\flask\\app.py\", line 1511, in wsgi_app\n",
      "    response = self.full_dispatch_request()\n",
      "  File \"C:\\Users\\varad\\AppData\\Roaming\\Python\\Python310\\site-packages\\flask\\app.py\", line 919, in full_dispatch_request\n",
      "    rv = self.handle_user_exception(e)\n",
      "  File \"C:\\Users\\varad\\AppData\\Roaming\\Python\\Python310\\site-packages\\flask\\app.py\", line 917, in full_dispatch_request\n",
      "    rv = self.dispatch_request()\n",
      "  File \"C:\\Users\\varad\\AppData\\Roaming\\Python\\Python310\\site-packages\\flask\\app.py\", line 902, in dispatch_request\n",
      "    return self.ensure_sync(self.view_functions[rule.endpoint])(**view_args)  # type: ignore[no-any-return]\n",
      "  File \"C:\\Users\\varad\\AppData\\Local\\Temp\\ipykernel_102412\\504955289.py\", line 120, in webhook\n",
      "    cursor.execute(\"SELECT SUM(amount) FROM expenses WHERE user = ? AND category = ?\", (sender, found_category))\n",
      "sqlite3.ProgrammingError: SQLite objects created in a thread can only be used in that same thread. The object was created in thread id 58908 and this is thread id 97880.\n",
      "127.0.0.1 - - [29/May/2025 14:07:21] \"POST /webhook HTTP/1.1\" 500 -\n"
     ]
    },
    {
     "name": "stdout",
     "output_type": "stream",
     "text": [
      " Incoming: how much on medicines?\n",
      " Matched as query: how much on medicines?\n"
     ]
    },
    {
     "name": "stderr",
     "output_type": "stream",
     "text": [
      "[2025-05-29 14:07:30,264] ERROR in app: Exception on /webhook [POST]\n",
      "Traceback (most recent call last):\n",
      "  File \"C:\\Users\\varad\\AppData\\Roaming\\Python\\Python310\\site-packages\\flask\\app.py\", line 1511, in wsgi_app\n",
      "    response = self.full_dispatch_request()\n",
      "  File \"C:\\Users\\varad\\AppData\\Roaming\\Python\\Python310\\site-packages\\flask\\app.py\", line 919, in full_dispatch_request\n",
      "    rv = self.handle_user_exception(e)\n",
      "  File \"C:\\Users\\varad\\AppData\\Roaming\\Python\\Python310\\site-packages\\flask\\app.py\", line 917, in full_dispatch_request\n",
      "    rv = self.dispatch_request()\n",
      "  File \"C:\\Users\\varad\\AppData\\Roaming\\Python\\Python310\\site-packages\\flask\\app.py\", line 902, in dispatch_request\n",
      "    return self.ensure_sync(self.view_functions[rule.endpoint])(**view_args)  # type: ignore[no-any-return]\n",
      "  File \"C:\\Users\\varad\\AppData\\Local\\Temp\\ipykernel_102412\\504955289.py\", line 120, in webhook\n",
      "    cursor.execute(\"SELECT SUM(amount) FROM expenses WHERE user = ? AND category = ?\", (sender, found_category))\n",
      "sqlite3.ProgrammingError: SQLite objects created in a thread can only be used in that same thread. The object was created in thread id 58908 and this is thread id 76968.\n",
      "127.0.0.1 - - [29/May/2025 14:07:30] \"POST /webhook HTTP/1.1\" 500 -\n"
     ]
    },
    {
     "name": "stdout",
     "output_type": "stream",
     "text": [
      " Incoming: how much on food?\n",
      " Matched as query: how much on food?\n"
     ]
    },
    {
     "name": "stderr",
     "output_type": "stream",
     "text": [
      "127.0.0.1 - - [29/May/2025 14:07:58] \"POST /webhook HTTP/1.1\" 200 -\n"
     ]
    },
    {
     "name": "stdout",
     "output_type": "stream",
     "text": [
      " Incoming: change 409 to 490 on 29 may 2025\n"
     ]
    },
    {
     "name": "stderr",
     "output_type": "stream",
     "text": [
      "[2025-05-29 14:17:45,479] ERROR in app: Exception on /webhook [POST]\n",
      "Traceback (most recent call last):\n",
      "  File \"C:\\Users\\varad\\AppData\\Roaming\\Python\\Python310\\site-packages\\flask\\app.py\", line 1511, in wsgi_app\n",
      "    response = self.full_dispatch_request()\n",
      "  File \"C:\\Users\\varad\\AppData\\Roaming\\Python\\Python310\\site-packages\\flask\\app.py\", line 919, in full_dispatch_request\n",
      "    rv = self.handle_user_exception(e)\n",
      "  File \"C:\\Users\\varad\\AppData\\Roaming\\Python\\Python310\\site-packages\\flask\\app.py\", line 917, in full_dispatch_request\n",
      "    rv = self.dispatch_request()\n",
      "  File \"C:\\Users\\varad\\AppData\\Roaming\\Python\\Python310\\site-packages\\flask\\app.py\", line 902, in dispatch_request\n",
      "    return self.ensure_sync(self.view_functions[rule.endpoint])(**view_args)  # type: ignore[no-any-return]\n",
      "  File \"C:\\Users\\varad\\AppData\\Local\\Temp\\ipykernel_102412\\504955289.py\", line 124, in webhook\n",
      "    cursor.execute(\"SELECT SUM(amount) FROM expenses WHERE user = ?\", (sender,))\n",
      "sqlite3.ProgrammingError: SQLite objects created in a thread can only be used in that same thread. The object was created in thread id 58908 and this is thread id 101480.\n",
      "127.0.0.1 - - [29/May/2025 14:17:45] \"POST /webhook HTTP/1.1\" 500 -\n"
     ]
    },
    {
     "name": "stdout",
     "output_type": "stream",
     "text": [
      " Incoming: how much on medicine\n",
      " Matched as query: how much on medicine\n"
     ]
    }
   ],
   "source": [
    "# STEP 5: Running Flask server in background\n",
    "import threading\n",
    "\n",
    "def run_flask():\n",
    "    app.run(host='0.0.0.0', port=5000)\n",
    "\n",
    "thread = threading.Thread(target=run_flask)\n",
    "thread.start()\n"
   ]
  },
  {
   "cell_type": "code",
   "execution_count": 10,
   "id": "a1b1d144-8300-4ef1-8f55-d09d09687447",
   "metadata": {},
   "outputs": [
    {
     "name": "stdout",
     "output_type": "stream",
     "text": [
      "🌐 Public webhook URL: NgrokTunnel: \"https://b2ac-2401-4900-1cb9-aea-b910-8b1e-87f4-b3ba.ngrok-free.app\" -> \"http://localhost:5000\"/webhook\n"
     ]
    }
   ],
   "source": [
    "\n",
    "# STEP 6: Starts ngrok and we will get public URL\n",
    "from pyngrok import ngrok\n",
    "\n",
    "ngrok.kill()  # kill old sessions if any\n",
    "public_url = ngrok.connect(5000)\n",
    "print(f\"🌐 Public webhook URL: {public_url}/webhook\")\n"
   ]
  },
  {
   "cell_type": "code",
   "execution_count": 11,
   "id": "ccfd326b-c3ae-4cb7-b9a4-23e97d99430d",
   "metadata": {},
   "outputs": [
    {
     "data": {
      "text/html": [
       "<div>\n",
       "<style scoped>\n",
       "    .dataframe tbody tr th:only-of-type {\n",
       "        vertical-align: middle;\n",
       "    }\n",
       "\n",
       "    .dataframe tbody tr th {\n",
       "        vertical-align: top;\n",
       "    }\n",
       "\n",
       "    .dataframe thead th {\n",
       "        text-align: right;\n",
       "    }\n",
       "</style>\n",
       "<table border=\"1\" class=\"dataframe\">\n",
       "  <thead>\n",
       "    <tr style=\"text-align: right;\">\n",
       "      <th></th>\n",
       "      <th>id</th>\n",
       "      <th>user</th>\n",
       "      <th>amount</th>\n",
       "      <th>category</th>\n",
       "      <th>vendor</th>\n",
       "      <th>description</th>\n",
       "      <th>date</th>\n",
       "    </tr>\n",
       "  </thead>\n",
       "  <tbody>\n",
       "    <tr>\n",
       "      <th>0</th>\n",
       "      <td>1</td>\n",
       "      <td>whatsapp:+919148968076</td>\n",
       "      <td>500</td>\n",
       "      <td>food</td>\n",
       "      <td>unknown</td>\n",
       "      <td>Spent 500 on dinner</td>\n",
       "      <td>2025-05-28</td>\n",
       "    </tr>\n",
       "    <tr>\n",
       "      <th>1</th>\n",
       "      <td>2</td>\n",
       "      <td>whatsapp:+919148968076</td>\n",
       "      <td>200</td>\n",
       "      <td>essentials</td>\n",
       "      <td>unknown</td>\n",
       "      <td>Spent 200 on milk</td>\n",
       "      <td>2025-05-28</td>\n",
       "    </tr>\n",
       "    <tr>\n",
       "      <th>2</th>\n",
       "      <td>3</td>\n",
       "      <td>whatsapp:+919148968076</td>\n",
       "      <td>5000</td>\n",
       "      <td>medicines</td>\n",
       "      <td>unknown</td>\n",
       "      <td>Spent 5000 on medicines</td>\n",
       "      <td>2025-05-28</td>\n",
       "    </tr>\n",
       "    <tr>\n",
       "      <th>3</th>\n",
       "      <td>4</td>\n",
       "      <td>whatsapp:+919148968076</td>\n",
       "      <td>200</td>\n",
       "      <td>food</td>\n",
       "      <td>unknown</td>\n",
       "      <td>Spent 200 on lunch</td>\n",
       "      <td>2025-05-28</td>\n",
       "    </tr>\n",
       "    <tr>\n",
       "      <th>4</th>\n",
       "      <td>5</td>\n",
       "      <td>whatsapp:+919148968076</td>\n",
       "      <td>500</td>\n",
       "      <td>food</td>\n",
       "      <td>unknown</td>\n",
       "      <td>Spent 500 on dinner</td>\n",
       "      <td>2025-05-28</td>\n",
       "    </tr>\n",
       "  </tbody>\n",
       "</table>\n",
       "</div>"
      ],
      "text/plain": [
       "   id                    user  amount    category   vendor  \\\n",
       "0   1  whatsapp:+919148968076     500        food  unknown   \n",
       "1   2  whatsapp:+919148968076     200  essentials  unknown   \n",
       "2   3  whatsapp:+919148968076    5000   medicines  unknown   \n",
       "3   4  whatsapp:+919148968076     200        food  unknown   \n",
       "4   5  whatsapp:+919148968076     500        food  unknown   \n",
       "\n",
       "               description        date  \n",
       "0      Spent 500 on dinner  2025-05-28  \n",
       "1        Spent 200 on milk  2025-05-28  \n",
       "2  Spent 5000 on medicines  2025-05-28  \n",
       "3       Spent 200 on lunch  2025-05-28  \n",
       "4      Spent 500 on dinner  2025-05-28  "
      ]
     },
     "execution_count": 11,
     "metadata": {},
     "output_type": "execute_result"
    }
   ],
   "source": [
    "import pandas as pd\n",
    "import sqlite3\n",
    "\n",
    "# Connect to your database\n",
    "conn = sqlite3.connect(\"expenses.db\")\n",
    "\n",
    "# Load the expenses table into a DataFrame\n",
    "df = pd.read_sql_query(\"SELECT * FROM expenses\", conn)\n",
    "\n",
    "# Show the first few rows\n",
    "df.head()\n"
   ]
  },
  {
   "cell_type": "code",
   "execution_count": 12,
   "id": "e3fef3c0-ce00-4927-aba5-0ada3b3ad84c",
   "metadata": {},
   "outputs": [
    {
     "name": "stdout",
     "output_type": "stream",
     "text": [
      "Exported to expenses_export.csv\n"
     ]
    }
   ],
   "source": [
    "df.to_csv(\"expenses_export.csv\", index=False)\n",
    "print(\"Exported to expenses_export.csv\")\n"
   ]
  },
  {
   "cell_type": "code",
   "execution_count": 13,
   "id": "b2b77c3e-027b-462a-add4-a218d5d5b268",
   "metadata": {},
   "outputs": [
    {
     "name": "stdout",
     "output_type": "stream",
     "text": [
      "(0, 'id', 'INTEGER', 0, None, 1)\n",
      "(1, 'user', 'TEXT', 0, None, 0)\n",
      "(2, 'amount', 'INTEGER', 0, None, 0)\n",
      "(3, 'category', 'TEXT', 0, None, 0)\n",
      "(4, 'vendor', 'TEXT', 0, None, 0)\n",
      "(5, 'description', 'TEXT', 0, None, 0)\n",
      "(6, 'date', 'TEXT', 0, None, 0)\n"
     ]
    }
   ],
   "source": [
    "import sqlite3\n",
    "\n",
    "conn = sqlite3.connect(\"expenses.db\")\n",
    "cursor = conn.cursor()\n",
    "\n",
    "cursor.execute(\"PRAGMA table_info(expenses)\")\n",
    "columns = cursor.fetchall()\n",
    "\n",
    "for col in columns:\n",
    "    print(col)\n",
    "\n",
    "conn.close()\n"
   ]
  },
  {
   "cell_type": "code",
   "execution_count": null,
   "id": "c88f09e7-6991-489b-af82-01792622dc28",
   "metadata": {},
   "outputs": [],
   "source": []
  }
 ],
 "metadata": {
  "kernelspec": {
   "display_name": "Python 3 (ipykernel)",
   "language": "python",
   "name": "python3"
  },
  "language_info": {
   "codemirror_mode": {
    "name": "ipython",
    "version": 3
   },
   "file_extension": ".py",
   "mimetype": "text/x-python",
   "name": "python",
   "nbconvert_exporter": "python",
   "pygments_lexer": "ipython3",
   "version": "3.10.9"
  }
 },
 "nbformat": 4,
 "nbformat_minor": 5
}
